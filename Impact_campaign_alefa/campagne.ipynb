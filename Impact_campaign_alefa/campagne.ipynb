{
 "cells": [
  {
   "cell_type": "code",
   "execution_count": 1,
   "metadata": {},
   "outputs": [
    {
     "name": "stderr",
     "output_type": "stream",
     "text": [
      "E:\\Anaconda3\\lib\\site-packages\\pandas\\io\\gbq.py:149: FutureWarning: private_key is deprecated and will be removed in a future version.Use the credentials argument instead. See https://pandas-gbq.readthedocs.io/en/latest/howto/authentication.html for examples on using the credentials argument with service account keys.\n",
      "  credentials=credentials, verbose=verbose, private_key=private_key)\n"
     ]
    }
   ],
   "source": [
    "import pandas as pd\n",
    "from datetime import datetime\n",
    "import numpy as np\n",
    "import matplotlib.pyplot as plt\n",
    "\n",
    "credentials_path = './pamf-dwh-775beaae50ff.json'\n",
    "project_id = 'pamf-dwh'\n",
    "sql = ''' SELECT DATE(disbursement_date) as disbursement_date, \n",
    "                 loloanID,\n",
    "                 account_Number,\n",
    "                 rContactID,\n",
    "                 Status,\n",
    "                 loan_cycle,\n",
    "                 loApplicationID\n",
    "        FROM `pamf-dwh.DFS_VIEW.deboursement`  ''' \n",
    "deboursement =pd.read_gbq( sql, project_id, private_key=credentials_path, dialect='standard')\n",
    "\n",
    "sql = '''SELECT DATE(TransactionDate) AS TransactionDate,\n",
    "            loLoanID,\n",
    "            rContactID,\n",
    "            admin_paid,\n",
    "            principal_paid,\n",
    "            penalty_paid\n",
    "        FROM `pamf-dwh.DFS_VIEW.repayement`'''\n",
    "repayement = pd.read_gbq(sql, project_id, private_key = credentials_path, dialect = 'standard')\n",
    "\n",
    "#merging repayment and debouresment\n",
    "merged = repayement.merge(deboursement, left_on=['loLoanID','rContactID'], right_on = ['loloanID','rContactID'])\n",
    "merged['delta_date'] = merged['TransactionDate'] - merged['disbursement_date']\n",
    "merged['delta_date'] = merged['delta_date'].apply(lambda x: x.days)\n",
    "merged['day_late'] = merged['delta_date'] - 30\n",
    "merged['writeoff'] = merged['day_late'] >120\n",
    "\n",
    "#getting all the clients with days late > 50 from 2018\n",
    "test = merged[(merged['day_late']>50) ]\n",
    "test.groupby('TransactionDate')['principal_paid'].sum().to_excel('payment_general_trend.xlsx')\n",
    "\n",
    "#getting the clients from the beginning of the campaign only with 50 days late\n",
    "test_plus_50 = merged[(merged['day_late']>=50) & (merged['TransactionDate']>= '2019-05-22') ]\n",
    "test_plus_50.groupby('TransactionDate')['principal_paid'].sum().to_excel('campagne_payment_general_trend.xlsx')\n",
    "test_plus_50=test_plus_50.fillna(0)\n",
    "test_plus_50['Total_paid'] = test_plus_50['admin_paid'] + test_plus_50['penalty_paid'] + test_plus_50['principal_paid'] \n",
    "\n",
    "\n",
    "#separating if they are simply late or writeoff\n",
    "#simply late\n",
    "exporting_file_simple = test_plus_50[test_plus_50['writeoff'] == False ].groupby(['TransactionDate'])[['Total_paid']].sum()\n",
    "exporting_file_simple.rename(columns={\"Total_paid\": \"50-120j_retard_paid\"},inplace=True)\n",
    "#writeoff\n",
    "exporting_file_writeoff = test_plus_50[test_plus_50['writeoff'] == True ].groupby(['TransactionDate'])[['Total_paid']].sum()\n",
    "exporting_file_writeoff.rename(columns={\"Total_paid\": \"writeoff_paid\"}, inplace=True)\n",
    "\n",
    "#exporting the file to excel\n",
    "exporting_file = exporting_file_simple.join(exporting_file_writeoff)\n",
    "exporting_file['Total_paid']= exporting_file['50-120j_retard_paid']+exporting_file['writeoff_paid']\n",
    "exporting_file.to_excel('Impact_campagne_Alefa.xlsx')\n"
   ]
  },
  {
   "cell_type": "code",
   "execution_count": 6,
   "metadata": {},
   "outputs": [
    {
     "data": {
      "text/plain": [
       "TransactionDate      datetime64[ns]\n",
       "loLoanID                      int64\n",
       "rContactID                    int64\n",
       "admin_paid                  float64\n",
       "principal_paid              float64\n",
       "penalty_paid                float64\n",
       "disbursement_date    datetime64[ns]\n",
       "loloanID                      int64\n",
       "account_Number               object\n",
       "Status                        int64\n",
       "loan_cycle                    int64\n",
       "loApplicationID               int64\n",
       "delta_date                    int64\n",
       "day_late                      int64\n",
       "writeoff                       bool\n",
       "Total_paid                  float64\n",
       "dtype: object"
      ]
     },
     "execution_count": 6,
     "metadata": {},
     "output_type": "execute_result"
    }
   ],
   "source": [
    "test_plus_50.dtypes\n"
   ]
  },
  {
   "cell_type": "code",
   "execution_count": null,
   "metadata": {},
   "outputs": [],
   "source": []
  },
  {
   "cell_type": "code",
   "execution_count": null,
   "metadata": {},
   "outputs": [],
   "source": []
  },
  {
   "cell_type": "code",
   "execution_count": null,
   "metadata": {},
   "outputs": [],
   "source": []
  },
  {
   "cell_type": "code",
   "execution_count": 2,
   "metadata": {
    "scrolled": true
   },
   "outputs": [
    {
     "data": {
      "text/plain": [
       "534476500.0"
      ]
     },
     "execution_count": 2,
     "metadata": {},
     "output_type": "execute_result"
    }
   ],
   "source": [
    "test.principal_paid.sum()"
   ]
  },
  {
   "cell_type": "code",
   "execution_count": 3,
   "metadata": {},
   "outputs": [
    {
     "data": {
      "text/plain": [
       "54559850.0"
      ]
     },
     "execution_count": 3,
     "metadata": {},
     "output_type": "execute_result"
    }
   ],
   "source": [
    "# campagne repayment so far: \n",
    "test_plus_50.principal_paid.sum()"
   ]
  },
  {
   "cell_type": "code",
   "execution_count": null,
   "metadata": {
    "scrolled": true
   },
   "outputs": [],
   "source": [
    "#exporting_file\n",
    "test_plus_50.head(2)"
   ]
  },
  {
   "cell_type": "code",
   "execution_count": null,
   "metadata": {},
   "outputs": [],
   "source": []
  },
  {
   "cell_type": "code",
   "execution_count": null,
   "metadata": {},
   "outputs": [],
   "source": []
  },
  {
   "cell_type": "code",
   "execution_count": null,
   "metadata": {},
   "outputs": [],
   "source": [
    "test_plus_50.head(2)"
   ]
  },
  {
   "cell_type": "code",
   "execution_count": null,
   "metadata": {},
   "outputs": [],
   "source": []
  },
  {
   "cell_type": "code",
   "execution_count": null,
   "metadata": {},
   "outputs": [],
   "source": [
    "\n",
    "exporting_file_simple.head(2)"
   ]
  },
  {
   "cell_type": "code",
   "execution_count": null,
   "metadata": {},
   "outputs": [],
   "source": [
    "\n"
   ]
  },
  {
   "cell_type": "code",
   "execution_count": 4,
   "metadata": {},
   "outputs": [
    {
     "data": {
      "text/plain": [
       "60494926.0"
      ]
     },
     "execution_count": 4,
     "metadata": {},
     "output_type": "execute_result"
    }
   ],
   "source": [
    "exporting_file.Total_paid.sum()"
   ]
  },
  {
   "cell_type": "code",
   "execution_count": null,
   "metadata": {},
   "outputs": [],
   "source": []
  }
 ],
 "metadata": {
  "kernelspec": {
   "display_name": "Python 3",
   "language": "python",
   "name": "python3"
  },
  "language_info": {
   "codemirror_mode": {
    "name": "ipython",
    "version": 3
   },
   "file_extension": ".py",
   "mimetype": "text/x-python",
   "name": "python",
   "nbconvert_exporter": "python",
   "pygments_lexer": "ipython3",
   "version": "3.6.5"
  }
 },
 "nbformat": 4,
 "nbformat_minor": 2
}
