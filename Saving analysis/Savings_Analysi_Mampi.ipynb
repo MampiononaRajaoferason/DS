{
 "cells": [
  {
   "cell_type": "code",
   "execution_count": 1,
   "metadata": {},
   "outputs": [],
   "source": [
    "import pandas as pd\n",
    "import matplotlib.pyplot as plt\n",
    "import seaborn as sns\n",
    "import numpy as np\n",
    "credentials_path = './../pamf-dwh-775beaae50ff.json'\n",
    "project_id = 'pamf-dwh'"
   ]
  },
  {
   "cell_type": "markdown",
   "metadata": {},
   "source": [
    "sql = \"\"\"SELECT * FROM `pamf-dwh.DFS_VIEW.deboursement`\"\"\"\n",
    "savings = pd.read_gbq(sql, project_id = project_id, private_key = credentials_path, dialect = 'standard')\n",
    "\n",
    "deb = savings.copy()\n",
    "\n",
    "renouvel = pd.read_csv('./renouvellement(august).csv')\n",
    "\n",
    "temp=deb.merge(renouvel , left_on='rContactID' , right_on='rContactIDc')\n",
    "\n",
    "temp[(temp.Status==4) & (temp.disbursement_date <='2019-08-20')]\n",
    "\n",
    "temp"
   ]
  },
  {
   "cell_type": "code",
   "execution_count": null,
   "metadata": {},
   "outputs": [],
   "source": []
  },
  {
   "cell_type": "code",
   "execution_count": null,
   "metadata": {},
   "outputs": [],
   "source": []
  },
  {
   "cell_type": "code",
   "execution_count": 2,
   "metadata": {},
   "outputs": [
    {
     "name": "stderr",
     "output_type": "stream",
     "text": [
      "E:\\Anaconda3\\lib\\site-packages\\pandas\\io\\gbq.py:149: FutureWarning: private_key is deprecated and will be removed in a future version.Use the credentials argument instead. See https://pandas-gbq.readthedocs.io/en/latest/howto/authentication.html for examples on using the credentials argument with service account keys.\n",
      "  credentials=credentials, verbose=verbose, private_key=private_key)\n"
     ]
    }
   ],
   "source": [
    "sql = \"\"\"SELECT * FROM `pamf-dwh.DFS_VIEW.saving`\"\"\"\n",
    "\n",
    "savings = pd.read_gbq(sql, project_id = project_id, private_key = credentials_path, dialect = 'standard')"
   ]
  },
  {
   "cell_type": "code",
   "execution_count": 3,
   "metadata": {},
   "outputs": [],
   "source": [
    "#savings.Transaction_Date = savings.Transaction_Date.dt.tz_localize(None)\n",
    "savings['Transaction_Date'] = savings.Transaction_Date.dt.tz_localize(None)\n",
    "savings['Transaction_Time'] = savings.Transaction_Time.dt.tz_localize(None)\n",
    "\n",
    "def combine_time(transaction_date, transaction_time):\n",
    "    if pd.isnull(transaction_date) == pd.isnull(pd.NaT):\n",
    "        return 0\n",
    "    else:\n",
    "        return pd.datetime.combine(transaction_date,transaction_time.time())\n",
    "\n",
    "savings['transaction_date'] = savings.apply(lambda r : combine_time(r['Transaction_Date'], r['Transaction_Time']), axis = 1)\n",
    "\n",
    "savings.drop(columns=['Transaction_Date','Transaction_Time'],inplace=True)\n",
    "savings.sort_values('transaction_date', inplace=True)"
   ]
  },
  {
   "cell_type": "raw",
   "metadata": {},
   "source": [
    "sql = \"\"\"SELECT * FROM `pamf-dwh.DFS_VIEW.approved`\"\"\"\n",
    "\n",
    "approved = pd.read_gbq(sql, project_id = project_id, private_key = credentials_path, dialect = 'standard')\n",
    "\n",
    "savings = savings.merge(approved[['rContactID','SubmissionDate']], on= 'rContactID', how = 'right')\n",
    "\n"
   ]
  },
  {
   "cell_type": "code",
   "execution_count": 4,
   "metadata": {},
   "outputs": [],
   "source": [
    "savings = savings.query('Transaction_ID != \"ManualCorrection_ReconIssueLoansSecoundPaymentZero\"')"
   ]
  },
  {
   "cell_type": "code",
   "execution_count": 5,
   "metadata": {},
   "outputs": [],
   "source": [
    "#savings[savings['Transaction_ID']=='ManualCorrection_ReconIssueLoansSecoundPaymentZero']"
   ]
  },
  {
   "cell_type": "code",
   "execution_count": 6,
   "metadata": {},
   "outputs": [],
   "source": [
    "#savings.drop(savings.query('Transaction_ID == \"ManualCorrection_ReconIssueLoansSecoundPaymentZero\"'), inplace=True)"
   ]
  },
  {
   "cell_type": "markdown",
   "metadata": {},
   "source": [
    "### Pre-balance and Post-balance"
   ]
  },
  {
   "cell_type": "code",
   "execution_count": 7,
   "metadata": {
    "scrolled": true
   },
   "outputs": [],
   "source": [
    "savings['post_balance']=savings.groupby('rContactID').cumsum()['Total_Payment'] #agg({'Total_Payment':'cumsum'})\n",
    "savings['prev_balance']=savings['post_balance'] - savings['Total_Payment']"
   ]
  },
  {
   "cell_type": "markdown",
   "metadata": {},
   "source": [
    "# - Putting the cycle"
   ]
  },
  {
   "cell_type": "code",
   "execution_count": 8,
   "metadata": {},
   "outputs": [],
   "source": [
    "savings['is_less_200Ar_and_withdrawed']=(savings.post_balance<200) & (savings.Total_Payment<0)\n",
    "\n",
    "savings['is_less_200Ar_and_withdrawed'] = savings['is_less_200Ar_and_withdrawed'].map( {True: 1, False: 0})\n",
    "\n",
    "\n",
    "\n",
    "cycle = savings.groupby('rContactID').agg({'is_less_200Ar_and_withdrawed': 'sum'})\n",
    "cycle = cycle.reset_index()\n",
    "\n",
    "cycle.rename(columns={'is_less_200Ar_and_withdrawed':'cycle'}, inplace = True)\n",
    "\n",
    "savings = savings.merge(cycle, how='inner', on=['rContactID'])\n",
    "\n",
    "savings['nth_cycle'] = (savings.groupby('rContactID')['is_less_200Ar_and_withdrawed'].cumsum()) # -1 #.agg({'is_less_200Ar_and_withdrawed':'cumsum'})"
   ]
  },
  {
   "cell_type": "markdown",
   "metadata": {},
   "source": [
    "# - Getting the max post bal per cycle"
   ]
  },
  {
   "cell_type": "code",
   "execution_count": 9,
   "metadata": {},
   "outputs": [],
   "source": [
    "mx_pst_bal = savings.groupby(['rContactID','nth_cycle'],as_index=False).agg({\n",
    "        'post_balance':'max'\n",
    "}).groupby(['rContactID']).mean()"
   ]
  },
  {
   "cell_type": "code",
   "execution_count": 10,
   "metadata": {},
   "outputs": [],
   "source": [
    "mx_pst_bal.reset_index(inplace=True)"
   ]
  },
  {
   "cell_type": "code",
   "execution_count": 11,
   "metadata": {},
   "outputs": [
    {
     "data": {
      "text/html": [
       "<div>\n",
       "<style scoped>\n",
       "    .dataframe tbody tr th:only-of-type {\n",
       "        vertical-align: middle;\n",
       "    }\n",
       "\n",
       "    .dataframe tbody tr th {\n",
       "        vertical-align: top;\n",
       "    }\n",
       "\n",
       "    .dataframe thead th {\n",
       "        text-align: right;\n",
       "    }\n",
       "</style>\n",
       "<table border=\"1\" class=\"dataframe\">\n",
       "  <thead>\n",
       "    <tr style=\"text-align: right;\">\n",
       "      <th></th>\n",
       "      <th>rContactID</th>\n",
       "      <th>nth_cycle</th>\n",
       "      <th>post_balance</th>\n",
       "    </tr>\n",
       "  </thead>\n",
       "  <tbody>\n",
       "    <tr>\n",
       "      <th>count</th>\n",
       "      <td>18067.000000</td>\n",
       "      <td>18067.000000</td>\n",
       "      <td>1.806700e+04</td>\n",
       "    </tr>\n",
       "    <tr>\n",
       "      <th>mean</th>\n",
       "      <td>73945.374440</td>\n",
       "      <td>0.971799</td>\n",
       "      <td>4.549693e+04</td>\n",
       "    </tr>\n",
       "    <tr>\n",
       "      <th>std</th>\n",
       "      <td>49472.835663</td>\n",
       "      <td>1.530266</td>\n",
       "      <td>2.174172e+05</td>\n",
       "    </tr>\n",
       "    <tr>\n",
       "      <th>min</th>\n",
       "      <td>23.000000</td>\n",
       "      <td>0.000000</td>\n",
       "      <td>5.000000e-01</td>\n",
       "    </tr>\n",
       "    <tr>\n",
       "      <th>25%</th>\n",
       "      <td>29722.000000</td>\n",
       "      <td>0.500000</td>\n",
       "      <td>8.000000e+02</td>\n",
       "    </tr>\n",
       "    <tr>\n",
       "      <th>50%</th>\n",
       "      <td>70071.000000</td>\n",
       "      <td>0.500000</td>\n",
       "      <td>5.000000e+03</td>\n",
       "    </tr>\n",
       "    <tr>\n",
       "      <th>75%</th>\n",
       "      <td>113910.000000</td>\n",
       "      <td>1.000000</td>\n",
       "      <td>2.675083e+04</td>\n",
       "    </tr>\n",
       "    <tr>\n",
       "      <th>max</th>\n",
       "      <td>171597.000000</td>\n",
       "      <td>49.500000</td>\n",
       "      <td>9.295200e+06</td>\n",
       "    </tr>\n",
       "  </tbody>\n",
       "</table>\n",
       "</div>"
      ],
      "text/plain": [
       "          rContactID     nth_cycle  post_balance\n",
       "count   18067.000000  18067.000000  1.806700e+04\n",
       "mean    73945.374440      0.971799  4.549693e+04\n",
       "std     49472.835663      1.530266  2.174172e+05\n",
       "min        23.000000      0.000000  5.000000e-01\n",
       "25%     29722.000000      0.500000  8.000000e+02\n",
       "50%     70071.000000      0.500000  5.000000e+03\n",
       "75%    113910.000000      1.000000  2.675083e+04\n",
       "max    171597.000000     49.500000  9.295200e+06"
      ]
     },
     "execution_count": 11,
     "metadata": {},
     "output_type": "execute_result"
    }
   ],
   "source": [
    "mx_pst_bal.describe()"
   ]
  },
  {
   "cell_type": "code",
   "execution_count": 12,
   "metadata": {},
   "outputs": [
    {
     "data": {
      "text/html": [
       "<div>\n",
       "<style scoped>\n",
       "    .dataframe tbody tr th:only-of-type {\n",
       "        vertical-align: middle;\n",
       "    }\n",
       "\n",
       "    .dataframe tbody tr th {\n",
       "        vertical-align: top;\n",
       "    }\n",
       "\n",
       "    .dataframe thead th {\n",
       "        text-align: right;\n",
       "    }\n",
       "</style>\n",
       "<table border=\"1\" class=\"dataframe\">\n",
       "  <thead>\n",
       "    <tr style=\"text-align: right;\">\n",
       "      <th></th>\n",
       "      <th>rContactID</th>\n",
       "      <th>nth_cycle</th>\n",
       "      <th>post_balance</th>\n",
       "    </tr>\n",
       "  </thead>\n",
       "  <tbody>\n",
       "  </tbody>\n",
       "</table>\n",
       "</div>"
      ],
      "text/plain": [
       "Empty DataFrame\n",
       "Columns: [rContactID, nth_cycle, post_balance]\n",
       "Index: []"
      ]
     },
     "execution_count": 12,
     "metadata": {},
     "output_type": "execute_result"
    }
   ],
   "source": [
    "mx_pst_bal[mx_pst_bal['post_balance']<0]"
   ]
  },
  {
   "cell_type": "code",
   "execution_count": 13,
   "metadata": {},
   "outputs": [
    {
     "data": {
      "text/html": [
       "<div>\n",
       "<style scoped>\n",
       "    .dataframe tbody tr th:only-of-type {\n",
       "        vertical-align: middle;\n",
       "    }\n",
       "\n",
       "    .dataframe tbody tr th {\n",
       "        vertical-align: top;\n",
       "    }\n",
       "\n",
       "    .dataframe thead th {\n",
       "        text-align: right;\n",
       "    }\n",
       "</style>\n",
       "<table border=\"1\" class=\"dataframe\">\n",
       "  <thead>\n",
       "    <tr style=\"text-align: right;\">\n",
       "      <th></th>\n",
       "      <th>rContactID</th>\n",
       "      <th>Account_Number</th>\n",
       "      <th>Balance</th>\n",
       "      <th>Transaction_Type</th>\n",
       "      <th>Total_Payment</th>\n",
       "      <th>Transaction_ID</th>\n",
       "      <th>Status</th>\n",
       "      <th>saving_cycle</th>\n",
       "      <th>transaction_date</th>\n",
       "      <th>post_balance</th>\n",
       "      <th>prev_balance</th>\n",
       "      <th>is_less_200Ar_and_withdrawed</th>\n",
       "      <th>cycle</th>\n",
       "      <th>nth_cycle</th>\n",
       "    </tr>\n",
       "  </thead>\n",
       "  <tbody>\n",
       "    <tr>\n",
       "      <th>84170</th>\n",
       "      <td>1048</td>\n",
       "      <td>00000000940</td>\n",
       "      <td>0.0</td>\n",
       "      <td>WalletToAccount</td>\n",
       "      <td>1500.0</td>\n",
       "      <td>153761046809014187</td>\n",
       "      <td>Success</td>\n",
       "      <td>1</td>\n",
       "      <td>2018-09-22 13:01:13.736</td>\n",
       "      <td>1500.0</td>\n",
       "      <td>0.0</td>\n",
       "      <td>0</td>\n",
       "      <td>4</td>\n",
       "      <td>0</td>\n",
       "    </tr>\n",
       "    <tr>\n",
       "      <th>84171</th>\n",
       "      <td>1048</td>\n",
       "      <td>00000000940</td>\n",
       "      <td>0.0</td>\n",
       "      <td>WalletToAccount</td>\n",
       "      <td>1000.0</td>\n",
       "      <td>153762255799081182</td>\n",
       "      <td>Success</td>\n",
       "      <td>2</td>\n",
       "      <td>2018-09-22 16:22:43.610</td>\n",
       "      <td>2500.0</td>\n",
       "      <td>1500.0</td>\n",
       "      <td>0</td>\n",
       "      <td>4</td>\n",
       "      <td>0</td>\n",
       "    </tr>\n",
       "    <tr>\n",
       "      <th>84172</th>\n",
       "      <td>1048</td>\n",
       "      <td>00000000940</td>\n",
       "      <td>0.0</td>\n",
       "      <td>AccountToWallet</td>\n",
       "      <td>-500.0</td>\n",
       "      <td>153763625136761933</td>\n",
       "      <td>Success</td>\n",
       "      <td>3</td>\n",
       "      <td>2018-09-22 20:10:57.050</td>\n",
       "      <td>2000.0</td>\n",
       "      <td>2500.0</td>\n",
       "      <td>0</td>\n",
       "      <td>4</td>\n",
       "      <td>0</td>\n",
       "    </tr>\n",
       "    <tr>\n",
       "      <th>84173</th>\n",
       "      <td>1048</td>\n",
       "      <td>00000000940</td>\n",
       "      <td>0.0</td>\n",
       "      <td>AccountToWallet</td>\n",
       "      <td>-500.0</td>\n",
       "      <td>153763833914278402</td>\n",
       "      <td>Success</td>\n",
       "      <td>4</td>\n",
       "      <td>2018-09-22 20:45:44.796</td>\n",
       "      <td>1500.0</td>\n",
       "      <td>2000.0</td>\n",
       "      <td>0</td>\n",
       "      <td>4</td>\n",
       "      <td>0</td>\n",
       "    </tr>\n",
       "    <tr>\n",
       "      <th>84174</th>\n",
       "      <td>1048</td>\n",
       "      <td>00000000940</td>\n",
       "      <td>0.0</td>\n",
       "      <td>AccountToWallet</td>\n",
       "      <td>-500.0</td>\n",
       "      <td>153789041732407955</td>\n",
       "      <td>Success</td>\n",
       "      <td>5</td>\n",
       "      <td>2018-09-25 18:47:04.100</td>\n",
       "      <td>1000.0</td>\n",
       "      <td>1500.0</td>\n",
       "      <td>0</td>\n",
       "      <td>4</td>\n",
       "      <td>0</td>\n",
       "    </tr>\n",
       "    <tr>\n",
       "      <th>84175</th>\n",
       "      <td>1048</td>\n",
       "      <td>00000000940</td>\n",
       "      <td>0.0</td>\n",
       "      <td>AccountToWallet</td>\n",
       "      <td>-200.0</td>\n",
       "      <td>153821534731913807</td>\n",
       "      <td>Success</td>\n",
       "      <td>6</td>\n",
       "      <td>2018-09-29 13:02:33.950</td>\n",
       "      <td>800.0</td>\n",
       "      <td>1000.0</td>\n",
       "      <td>0</td>\n",
       "      <td>4</td>\n",
       "      <td>0</td>\n",
       "    </tr>\n",
       "    <tr>\n",
       "      <th>84176</th>\n",
       "      <td>1048</td>\n",
       "      <td>00000000940</td>\n",
       "      <td>0.0</td>\n",
       "      <td>AccountToWallet</td>\n",
       "      <td>-500.0</td>\n",
       "      <td>153831827592454775</td>\n",
       "      <td>Success</td>\n",
       "      <td>7</td>\n",
       "      <td>2018-09-30 17:38:02.733</td>\n",
       "      <td>300.0</td>\n",
       "      <td>800.0</td>\n",
       "      <td>0</td>\n",
       "      <td>4</td>\n",
       "      <td>0</td>\n",
       "    </tr>\n",
       "    <tr>\n",
       "      <th>84177</th>\n",
       "      <td>1048</td>\n",
       "      <td>00000000940</td>\n",
       "      <td>0.0</td>\n",
       "      <td>AccountToWallet</td>\n",
       "      <td>-100.0</td>\n",
       "      <td>153945187742449815</td>\n",
       "      <td>Success</td>\n",
       "      <td>8</td>\n",
       "      <td>2018-10-13 20:31:26.120</td>\n",
       "      <td>200.0</td>\n",
       "      <td>300.0</td>\n",
       "      <td>0</td>\n",
       "      <td>4</td>\n",
       "      <td>0</td>\n",
       "    </tr>\n",
       "    <tr>\n",
       "      <th>84178</th>\n",
       "      <td>1048</td>\n",
       "      <td>00000000940</td>\n",
       "      <td>0.0</td>\n",
       "      <td>AccountToWallet</td>\n",
       "      <td>-200.0</td>\n",
       "      <td>154020822425879167</td>\n",
       "      <td>Success</td>\n",
       "      <td>9</td>\n",
       "      <td>2018-10-22 14:37:14.223</td>\n",
       "      <td>0.0</td>\n",
       "      <td>200.0</td>\n",
       "      <td>1</td>\n",
       "      <td>4</td>\n",
       "      <td>1</td>\n",
       "    </tr>\n",
       "    <tr>\n",
       "      <th>84179</th>\n",
       "      <td>1048</td>\n",
       "      <td>00000000940</td>\n",
       "      <td>0.0</td>\n",
       "      <td>WalletToAccount</td>\n",
       "      <td>120000.0</td>\n",
       "      <td>154520627421250071</td>\n",
       "      <td>Success</td>\n",
       "      <td>10</td>\n",
       "      <td>2018-12-19 10:58:37.806</td>\n",
       "      <td>120000.0</td>\n",
       "      <td>0.0</td>\n",
       "      <td>0</td>\n",
       "      <td>4</td>\n",
       "      <td>1</td>\n",
       "    </tr>\n",
       "    <tr>\n",
       "      <th>84180</th>\n",
       "      <td>1048</td>\n",
       "      <td>00000000940</td>\n",
       "      <td>0.0</td>\n",
       "      <td>AccountToWallet</td>\n",
       "      <td>-120000.0</td>\n",
       "      <td>154527335207215627</td>\n",
       "      <td>Success</td>\n",
       "      <td>11</td>\n",
       "      <td>2018-12-20 05:36:36.420</td>\n",
       "      <td>0.0</td>\n",
       "      <td>120000.0</td>\n",
       "      <td>1</td>\n",
       "      <td>4</td>\n",
       "      <td>2</td>\n",
       "    </tr>\n",
       "    <tr>\n",
       "      <th>84181</th>\n",
       "      <td>1048</td>\n",
       "      <td>00000000940</td>\n",
       "      <td>0.0</td>\n",
       "      <td>WalletToAccount</td>\n",
       "      <td>175000.0</td>\n",
       "      <td>155819303734351834</td>\n",
       "      <td>Success</td>\n",
       "      <td>12</td>\n",
       "      <td>2019-05-18 18:25:38.740</td>\n",
       "      <td>175000.0</td>\n",
       "      <td>0.0</td>\n",
       "      <td>0</td>\n",
       "      <td>4</td>\n",
       "      <td>2</td>\n",
       "    </tr>\n",
       "    <tr>\n",
       "      <th>84182</th>\n",
       "      <td>1048</td>\n",
       "      <td>00000000940</td>\n",
       "      <td>0.0</td>\n",
       "      <td>AccountToWallet</td>\n",
       "      <td>-100000.0</td>\n",
       "      <td>155834105887820427</td>\n",
       "      <td>Success</td>\n",
       "      <td>13</td>\n",
       "      <td>2019-05-20 11:32:42.416</td>\n",
       "      <td>75000.0</td>\n",
       "      <td>175000.0</td>\n",
       "      <td>0</td>\n",
       "      <td>4</td>\n",
       "      <td>2</td>\n",
       "    </tr>\n",
       "    <tr>\n",
       "      <th>84183</th>\n",
       "      <td>1048</td>\n",
       "      <td>00000000940</td>\n",
       "      <td>0.0</td>\n",
       "      <td>AccountToWallet</td>\n",
       "      <td>-72000.0</td>\n",
       "      <td>155834392664073984</td>\n",
       "      <td>Success</td>\n",
       "      <td>14</td>\n",
       "      <td>2019-05-20 12:20:29.476</td>\n",
       "      <td>3000.0</td>\n",
       "      <td>75000.0</td>\n",
       "      <td>0</td>\n",
       "      <td>4</td>\n",
       "      <td>2</td>\n",
       "    </tr>\n",
       "    <tr>\n",
       "      <th>84184</th>\n",
       "      <td>1048</td>\n",
       "      <td>00000000940</td>\n",
       "      <td>0.0</td>\n",
       "      <td>AccountToWallet</td>\n",
       "      <td>-500.0</td>\n",
       "      <td>155850756691496338</td>\n",
       "      <td>Success</td>\n",
       "      <td>15</td>\n",
       "      <td>2019-05-22 09:47:50.380</td>\n",
       "      <td>2500.0</td>\n",
       "      <td>3000.0</td>\n",
       "      <td>0</td>\n",
       "      <td>4</td>\n",
       "      <td>2</td>\n",
       "    </tr>\n",
       "    <tr>\n",
       "      <th>84185</th>\n",
       "      <td>1048</td>\n",
       "      <td>00000000940</td>\n",
       "      <td>0.0</td>\n",
       "      <td>AccountToWallet</td>\n",
       "      <td>-2000.0</td>\n",
       "      <td>155867817378052336</td>\n",
       "      <td>Success</td>\n",
       "      <td>16</td>\n",
       "      <td>2019-05-24 09:11:17.130</td>\n",
       "      <td>500.0</td>\n",
       "      <td>2500.0</td>\n",
       "      <td>0</td>\n",
       "      <td>4</td>\n",
       "      <td>2</td>\n",
       "    </tr>\n",
       "    <tr>\n",
       "      <th>84186</th>\n",
       "      <td>1048</td>\n",
       "      <td>00000000940</td>\n",
       "      <td>0.0</td>\n",
       "      <td>WalletToAccount</td>\n",
       "      <td>50000.0</td>\n",
       "      <td>155869955308382494</td>\n",
       "      <td>Success</td>\n",
       "      <td>17</td>\n",
       "      <td>2019-05-24 15:07:37.583</td>\n",
       "      <td>50500.0</td>\n",
       "      <td>500.0</td>\n",
       "      <td>0</td>\n",
       "      <td>4</td>\n",
       "      <td>2</td>\n",
       "    </tr>\n",
       "    <tr>\n",
       "      <th>84187</th>\n",
       "      <td>1048</td>\n",
       "      <td>00000000940</td>\n",
       "      <td>0.0</td>\n",
       "      <td>AccountToWallet</td>\n",
       "      <td>-50000.0</td>\n",
       "      <td>155902775475518248</td>\n",
       "      <td>Success</td>\n",
       "      <td>18</td>\n",
       "      <td>2019-05-28 10:17:39.530</td>\n",
       "      <td>500.0</td>\n",
       "      <td>50500.0</td>\n",
       "      <td>0</td>\n",
       "      <td>4</td>\n",
       "      <td>2</td>\n",
       "    </tr>\n",
       "    <tr>\n",
       "      <th>84188</th>\n",
       "      <td>1048</td>\n",
       "      <td>00000000940</td>\n",
       "      <td>0.0</td>\n",
       "      <td>AccountToWallet</td>\n",
       "      <td>-500.0</td>\n",
       "      <td>155921631606679797</td>\n",
       "      <td>Success</td>\n",
       "      <td>19</td>\n",
       "      <td>2019-05-30 14:40:21.620</td>\n",
       "      <td>0.0</td>\n",
       "      <td>500.0</td>\n",
       "      <td>1</td>\n",
       "      <td>4</td>\n",
       "      <td>3</td>\n",
       "    </tr>\n",
       "    <tr>\n",
       "      <th>84189</th>\n",
       "      <td>1048</td>\n",
       "      <td>00000000940</td>\n",
       "      <td>0.0</td>\n",
       "      <td>Loan Payment</td>\n",
       "      <td>-47.0</td>\n",
       "      <td>9C79B574-B861-48C9-B6EB-A8BC977CD880</td>\n",
       "      <td>Success</td>\n",
       "      <td>20</td>\n",
       "      <td>2019-08-19 18:30:55.096</td>\n",
       "      <td>-47.0</td>\n",
       "      <td>0.0</td>\n",
       "      <td>1</td>\n",
       "      <td>4</td>\n",
       "      <td>4</td>\n",
       "    </tr>\n",
       "    <tr>\n",
       "      <th>84190</th>\n",
       "      <td>1048</td>\n",
       "      <td>00000000940</td>\n",
       "      <td>0.0</td>\n",
       "      <td>Interest</td>\n",
       "      <td>47.0</td>\n",
       "      <td>9C79B574-B861-48C9-B6EB-A8BC977CD880</td>\n",
       "      <td>Success</td>\n",
       "      <td>21</td>\n",
       "      <td>2019-08-19 18:30:55.096</td>\n",
       "      <td>0.0</td>\n",
       "      <td>-47.0</td>\n",
       "      <td>0</td>\n",
       "      <td>4</td>\n",
       "      <td>4</td>\n",
       "    </tr>\n",
       "  </tbody>\n",
       "</table>\n",
       "</div>"
      ],
      "text/plain": [
       "       rContactID Account_Number  Balance Transaction_Type  Total_Payment  \\\n",
       "84170        1048    00000000940      0.0  WalletToAccount         1500.0   \n",
       "84171        1048    00000000940      0.0  WalletToAccount         1000.0   \n",
       "84172        1048    00000000940      0.0  AccountToWallet         -500.0   \n",
       "84173        1048    00000000940      0.0  AccountToWallet         -500.0   \n",
       "84174        1048    00000000940      0.0  AccountToWallet         -500.0   \n",
       "84175        1048    00000000940      0.0  AccountToWallet         -200.0   \n",
       "84176        1048    00000000940      0.0  AccountToWallet         -500.0   \n",
       "84177        1048    00000000940      0.0  AccountToWallet         -100.0   \n",
       "84178        1048    00000000940      0.0  AccountToWallet         -200.0   \n",
       "84179        1048    00000000940      0.0  WalletToAccount       120000.0   \n",
       "84180        1048    00000000940      0.0  AccountToWallet      -120000.0   \n",
       "84181        1048    00000000940      0.0  WalletToAccount       175000.0   \n",
       "84182        1048    00000000940      0.0  AccountToWallet      -100000.0   \n",
       "84183        1048    00000000940      0.0  AccountToWallet       -72000.0   \n",
       "84184        1048    00000000940      0.0  AccountToWallet         -500.0   \n",
       "84185        1048    00000000940      0.0  AccountToWallet        -2000.0   \n",
       "84186        1048    00000000940      0.0  WalletToAccount        50000.0   \n",
       "84187        1048    00000000940      0.0  AccountToWallet       -50000.0   \n",
       "84188        1048    00000000940      0.0  AccountToWallet         -500.0   \n",
       "84189        1048    00000000940      0.0     Loan Payment          -47.0   \n",
       "84190        1048    00000000940      0.0         Interest           47.0   \n",
       "\n",
       "                             Transaction_ID   Status  saving_cycle  \\\n",
       "84170                    153761046809014187  Success             1   \n",
       "84171                    153762255799081182  Success             2   \n",
       "84172                    153763625136761933  Success             3   \n",
       "84173                    153763833914278402  Success             4   \n",
       "84174                    153789041732407955  Success             5   \n",
       "84175                    153821534731913807  Success             6   \n",
       "84176                    153831827592454775  Success             7   \n",
       "84177                    153945187742449815  Success             8   \n",
       "84178                    154020822425879167  Success             9   \n",
       "84179                    154520627421250071  Success            10   \n",
       "84180                    154527335207215627  Success            11   \n",
       "84181                    155819303734351834  Success            12   \n",
       "84182                    155834105887820427  Success            13   \n",
       "84183                    155834392664073984  Success            14   \n",
       "84184                    155850756691496338  Success            15   \n",
       "84185                    155867817378052336  Success            16   \n",
       "84186                    155869955308382494  Success            17   \n",
       "84187                    155902775475518248  Success            18   \n",
       "84188                    155921631606679797  Success            19   \n",
       "84189  9C79B574-B861-48C9-B6EB-A8BC977CD880  Success            20   \n",
       "84190  9C79B574-B861-48C9-B6EB-A8BC977CD880  Success            21   \n",
       "\n",
       "             transaction_date  post_balance  prev_balance  \\\n",
       "84170 2018-09-22 13:01:13.736        1500.0           0.0   \n",
       "84171 2018-09-22 16:22:43.610        2500.0        1500.0   \n",
       "84172 2018-09-22 20:10:57.050        2000.0        2500.0   \n",
       "84173 2018-09-22 20:45:44.796        1500.0        2000.0   \n",
       "84174 2018-09-25 18:47:04.100        1000.0        1500.0   \n",
       "84175 2018-09-29 13:02:33.950         800.0        1000.0   \n",
       "84176 2018-09-30 17:38:02.733         300.0         800.0   \n",
       "84177 2018-10-13 20:31:26.120         200.0         300.0   \n",
       "84178 2018-10-22 14:37:14.223           0.0         200.0   \n",
       "84179 2018-12-19 10:58:37.806      120000.0           0.0   \n",
       "84180 2018-12-20 05:36:36.420           0.0      120000.0   \n",
       "84181 2019-05-18 18:25:38.740      175000.0           0.0   \n",
       "84182 2019-05-20 11:32:42.416       75000.0      175000.0   \n",
       "84183 2019-05-20 12:20:29.476        3000.0       75000.0   \n",
       "84184 2019-05-22 09:47:50.380        2500.0        3000.0   \n",
       "84185 2019-05-24 09:11:17.130         500.0        2500.0   \n",
       "84186 2019-05-24 15:07:37.583       50500.0         500.0   \n",
       "84187 2019-05-28 10:17:39.530         500.0       50500.0   \n",
       "84188 2019-05-30 14:40:21.620           0.0         500.0   \n",
       "84189 2019-08-19 18:30:55.096         -47.0           0.0   \n",
       "84190 2019-08-19 18:30:55.096           0.0         -47.0   \n",
       "\n",
       "       is_less_200Ar_and_withdrawed  cycle  nth_cycle  \n",
       "84170                             0      4          0  \n",
       "84171                             0      4          0  \n",
       "84172                             0      4          0  \n",
       "84173                             0      4          0  \n",
       "84174                             0      4          0  \n",
       "84175                             0      4          0  \n",
       "84176                             0      4          0  \n",
       "84177                             0      4          0  \n",
       "84178                             1      4          1  \n",
       "84179                             0      4          1  \n",
       "84180                             1      4          2  \n",
       "84181                             0      4          2  \n",
       "84182                             0      4          2  \n",
       "84183                             0      4          2  \n",
       "84184                             0      4          2  \n",
       "84185                             0      4          2  \n",
       "84186                             0      4          2  \n",
       "84187                             0      4          2  \n",
       "84188                             1      4          3  \n",
       "84189                             1      4          4  \n",
       "84190                             0      4          4  "
      ]
     },
     "execution_count": 13,
     "metadata": {},
     "output_type": "execute_result"
    }
   ],
   "source": [
    "savings[savings['rContactID']==1048]# ['Transaction_ID'] #[45488] #.sum()"
   ]
  },
  {
   "cell_type": "code",
   "execution_count": 14,
   "metadata": {},
   "outputs": [],
   "source": [
    "mx_pst_bal.rename(columns={'post_balance':'mean_post_balance_per_cycle'},inplace=True)"
   ]
  },
  {
   "cell_type": "code",
   "execution_count": 15,
   "metadata": {},
   "outputs": [],
   "source": [
    "savings = savings.merge(mx_pst_bal[['rContactID','mean_post_balance_per_cycle']], on='rContactID', how = 'inner')"
   ]
  },
  {
   "cell_type": "code",
   "execution_count": 16,
   "metadata": {
    "collapsed": true
   },
   "outputs": [
    {
     "ename": "KeyError",
     "evalue": "\"['saving_duration'] not in index\"",
     "output_type": "error",
     "traceback": [
      "\u001b[1;31m---------------------------------------------------------------------------\u001b[0m",
      "\u001b[1;31mKeyError\u001b[0m                                  Traceback (most recent call last)",
      "\u001b[1;32m<ipython-input-16-8aef85ef64eb>\u001b[0m in \u001b[0;36m<module>\u001b[1;34m()\u001b[0m\n\u001b[1;32m----> 1\u001b[1;33m \u001b[0msavings\u001b[0m\u001b[1;33m[\u001b[0m\u001b[0msavings\u001b[0m\u001b[1;33m[\u001b[0m\u001b[1;33m[\u001b[0m\u001b[1;34m'rContactID'\u001b[0m\u001b[1;33m,\u001b[0m\u001b[1;34m'saving_duration'\u001b[0m\u001b[1;33m,\u001b[0m\u001b[1;34m'cycle'\u001b[0m\u001b[1;33m,\u001b[0m\u001b[1;34m'mean_post_balance_per_cycle'\u001b[0m\u001b[1;33m]\u001b[0m\u001b[1;33m]\u001b[0m\u001b[1;33m[\u001b[0m\u001b[1;34m'mean_post_balance_per_cycle'\u001b[0m\u001b[1;33m]\u001b[0m\u001b[1;33m>\u001b[0m\u001b[1;36m0\u001b[0m\u001b[1;33m]\u001b[0m\u001b[1;33m.\u001b[0m\u001b[0msample\u001b[0m\u001b[1;33m(\u001b[0m\u001b[1;36m10\u001b[0m\u001b[1;33m)\u001b[0m\u001b[1;33m\u001b[0m\u001b[0m\n\u001b[0m",
      "\u001b[1;32mE:\\Anaconda3\\lib\\site-packages\\pandas\\core\\frame.py\u001b[0m in \u001b[0;36m__getitem__\u001b[1;34m(self, key)\u001b[0m\n\u001b[0;32m   2932\u001b[0m                 \u001b[0mkey\u001b[0m \u001b[1;33m=\u001b[0m \u001b[0mlist\u001b[0m\u001b[1;33m(\u001b[0m\u001b[0mkey\u001b[0m\u001b[1;33m)\u001b[0m\u001b[1;33m\u001b[0m\u001b[0m\n\u001b[0;32m   2933\u001b[0m             indexer = self.loc._convert_to_indexer(key, axis=1,\n\u001b[1;32m-> 2934\u001b[1;33m                                                    raise_missing=True)\n\u001b[0m\u001b[0;32m   2935\u001b[0m \u001b[1;33m\u001b[0m\u001b[0m\n\u001b[0;32m   2936\u001b[0m         \u001b[1;31m# take() does not accept boolean indexers\u001b[0m\u001b[1;33m\u001b[0m\u001b[1;33m\u001b[0m\u001b[0m\n",
      "\u001b[1;32mE:\\Anaconda3\\lib\\site-packages\\pandas\\core\\indexing.py\u001b[0m in \u001b[0;36m_convert_to_indexer\u001b[1;34m(self, obj, axis, is_setter, raise_missing)\u001b[0m\n\u001b[0;32m   1352\u001b[0m                 kwargs = {'raise_missing': True if is_setter else\n\u001b[0;32m   1353\u001b[0m                           raise_missing}\n\u001b[1;32m-> 1354\u001b[1;33m                 \u001b[1;32mreturn\u001b[0m \u001b[0mself\u001b[0m\u001b[1;33m.\u001b[0m\u001b[0m_get_listlike_indexer\u001b[0m\u001b[1;33m(\u001b[0m\u001b[0mobj\u001b[0m\u001b[1;33m,\u001b[0m \u001b[0maxis\u001b[0m\u001b[1;33m,\u001b[0m \u001b[1;33m**\u001b[0m\u001b[0mkwargs\u001b[0m\u001b[1;33m)\u001b[0m\u001b[1;33m[\u001b[0m\u001b[1;36m1\u001b[0m\u001b[1;33m]\u001b[0m\u001b[1;33m\u001b[0m\u001b[0m\n\u001b[0m\u001b[0;32m   1355\u001b[0m         \u001b[1;32melse\u001b[0m\u001b[1;33m:\u001b[0m\u001b[1;33m\u001b[0m\u001b[0m\n\u001b[0;32m   1356\u001b[0m             \u001b[1;32mtry\u001b[0m\u001b[1;33m:\u001b[0m\u001b[1;33m\u001b[0m\u001b[0m\n",
      "\u001b[1;32mE:\\Anaconda3\\lib\\site-packages\\pandas\\core\\indexing.py\u001b[0m in \u001b[0;36m_get_listlike_indexer\u001b[1;34m(self, key, axis, raise_missing)\u001b[0m\n\u001b[0;32m   1159\u001b[0m         self._validate_read_indexer(keyarr, indexer,\n\u001b[0;32m   1160\u001b[0m                                     \u001b[0mo\u001b[0m\u001b[1;33m.\u001b[0m\u001b[0m_get_axis_number\u001b[0m\u001b[1;33m(\u001b[0m\u001b[0maxis\u001b[0m\u001b[1;33m)\u001b[0m\u001b[1;33m,\u001b[0m\u001b[1;33m\u001b[0m\u001b[0m\n\u001b[1;32m-> 1161\u001b[1;33m                                     raise_missing=raise_missing)\n\u001b[0m\u001b[0;32m   1162\u001b[0m         \u001b[1;32mreturn\u001b[0m \u001b[0mkeyarr\u001b[0m\u001b[1;33m,\u001b[0m \u001b[0mindexer\u001b[0m\u001b[1;33m\u001b[0m\u001b[0m\n\u001b[0;32m   1163\u001b[0m \u001b[1;33m\u001b[0m\u001b[0m\n",
      "\u001b[1;32mE:\\Anaconda3\\lib\\site-packages\\pandas\\core\\indexing.py\u001b[0m in \u001b[0;36m_validate_read_indexer\u001b[1;34m(self, key, indexer, axis, raise_missing)\u001b[0m\n\u001b[0;32m   1250\u001b[0m             \u001b[1;32mif\u001b[0m \u001b[1;32mnot\u001b[0m\u001b[1;33m(\u001b[0m\u001b[0mself\u001b[0m\u001b[1;33m.\u001b[0m\u001b[0mname\u001b[0m \u001b[1;33m==\u001b[0m \u001b[1;34m'loc'\u001b[0m \u001b[1;32mand\u001b[0m \u001b[1;32mnot\u001b[0m \u001b[0mraise_missing\u001b[0m\u001b[1;33m)\u001b[0m\u001b[1;33m:\u001b[0m\u001b[1;33m\u001b[0m\u001b[0m\n\u001b[0;32m   1251\u001b[0m                 \u001b[0mnot_found\u001b[0m \u001b[1;33m=\u001b[0m \u001b[0mlist\u001b[0m\u001b[1;33m(\u001b[0m\u001b[0mset\u001b[0m\u001b[1;33m(\u001b[0m\u001b[0mkey\u001b[0m\u001b[1;33m)\u001b[0m \u001b[1;33m-\u001b[0m \u001b[0mset\u001b[0m\u001b[1;33m(\u001b[0m\u001b[0max\u001b[0m\u001b[1;33m)\u001b[0m\u001b[1;33m)\u001b[0m\u001b[1;33m\u001b[0m\u001b[0m\n\u001b[1;32m-> 1252\u001b[1;33m                 \u001b[1;32mraise\u001b[0m \u001b[0mKeyError\u001b[0m\u001b[1;33m(\u001b[0m\u001b[1;34m\"{} not in index\"\u001b[0m\u001b[1;33m.\u001b[0m\u001b[0mformat\u001b[0m\u001b[1;33m(\u001b[0m\u001b[0mnot_found\u001b[0m\u001b[1;33m)\u001b[0m\u001b[1;33m)\u001b[0m\u001b[1;33m\u001b[0m\u001b[0m\n\u001b[0m\u001b[0;32m   1253\u001b[0m \u001b[1;33m\u001b[0m\u001b[0m\n\u001b[0;32m   1254\u001b[0m             \u001b[1;31m# we skip the warning on Categorical/Interval\u001b[0m\u001b[1;33m\u001b[0m\u001b[1;33m\u001b[0m\u001b[0m\n",
      "\u001b[1;31mKeyError\u001b[0m: \"['saving_duration'] not in index\""
     ]
    }
   ],
   "source": [
    "savings[savings[['rContactID','saving_duration','cycle','mean_post_balance_per_cycle']]['mean_post_balance_per_cycle']>0].sample(10)"
   ]
  },
  {
   "cell_type": "code",
   "execution_count": 17,
   "metadata": {},
   "outputs": [
    {
     "data": {
      "text/plain": [
       "0.0"
      ]
     },
     "execution_count": 17,
     "metadata": {},
     "output_type": "execute_result"
    }
   ],
   "source": [
    "savings[savings['rContactID']==79338].Total_Payment.sum()"
   ]
  },
  {
   "cell_type": "code",
   "execution_count": 18,
   "metadata": {},
   "outputs": [
    {
     "data": {
      "text/plain": [
       "201788"
      ]
     },
     "execution_count": 18,
     "metadata": {},
     "output_type": "execute_result"
    }
   ],
   "source": [
    "len(savings)"
   ]
  },
  {
   "cell_type": "code",
   "execution_count": 71,
   "metadata": {},
   "outputs": [],
   "source": [
    "\n",
    "dd = savings.groupby('rContactID').agg(\n",
    "    {\"transaction_date\":\"max\"\n",
    "        \n",
    "    }\n",
    "    )\n",
    "dd.rename({'transaction_date':'last_payment'}, axis=1, inplace=True)\n",
    "\n",
    "dd = dd.reset_index()\n",
    "\n",
    "\n",
    "savings = savings.merge(dd, how = 'inner', on='rContactID')"
   ]
  },
  {
   "cell_type": "code",
   "execution_count": 72,
   "metadata": {},
   "outputs": [],
   "source": [
    "sav = savings.groupby('rContactID').agg(\n",
    "    {'Total_Payment':'sum','transaction_date':('min', 'max'), 'cycle':'max'})\n",
    "sav.columns = [\"_\".join(x) for x in sav.columns.ravel()]\n",
    "#dd.columns = dd.columns.droplevel(0)\n",
    "sav = sav.reset_index()\n",
    "sav.rename(columns={'Total_Payment_sum':'balance'}, inplace = True)\n",
    "\n",
    "sav['saving_duration'] = sav['transaction_date_max']-sav['transaction_date_min'] \n",
    "#if pd.isnull(saving_duration) != pd.isnull(pd.NaT):\n",
    "sav.saving_duration = sav.saving_duration.apply(lambda x: str(x))\n",
    "\n",
    "sav.saving_duration = sav.saving_duration.apply(lambda x: str.split(x)[0])\n",
    "\n",
    "savings.transaction_date = savings.transaction_date.apply(lambda x: pd.to_datetime(x))\n",
    "savings.last_payment = savings.last_payment.apply(lambda x: pd.to_datetime(x))"
   ]
  },
  {
   "cell_type": "markdown",
   "metadata": {},
   "source": [
    "# RFM"
   ]
  },
  {
   "cell_type": "code",
   "execution_count": 19,
   "metadata": {},
   "outputs": [
    {
     "data": {
      "text/plain": [
       "\"\\nimport datetime as dt\\nNOW = dt.datetime(2011,12,10)df1['InvoiceDate'] = pd.to_datetime(df1['InvoiceDate'])\\n\\nrfmTable = df1.groupby('CustomerID').agg({'InvoiceDate': lambda x: (NOW - x.max()).days, 'InvoiceNo': lambda x: len(x), 'TotalPrice': lambda x: x.sum()})rfmTable['InvoiceDate'] = rfmTable['InvoiceDate'].astype(int)\\nrfmTable.rename(columns={'InvoiceDate': 'recency', \\n                         'InvoiceNo': 'frequency', \\n                         'TotalPrice': 'monetary_value'}, inplace=True)\\n\\n\""
      ]
     },
     "execution_count": 19,
     "metadata": {},
     "output_type": "execute_result"
    }
   ],
   "source": [
    "\"\"\"\n",
    "import datetime as dt\n",
    "NOW = dt.datetime(2011,12,10)df1['InvoiceDate'] = pd.to_datetime(df1['InvoiceDate'])\n",
    "\n",
    "rfmTable = df1.groupby('CustomerID').agg({'InvoiceDate': lambda x: (NOW - x.max()).days, 'InvoiceNo': lambda x: len(x), 'TotalPrice': lambda x: x.sum()})rfmTable['InvoiceDate'] = rfmTable['InvoiceDate'].astype(int)\n",
    "rfmTable.rename(columns={'InvoiceDate': 'recency', \n",
    "                         'InvoiceNo': 'frequency', \n",
    "                         'TotalPrice': 'monetary_value'}, inplace=True)\n",
    "\n",
    "\"\"\""
   ]
  },
  {
   "cell_type": "code",
   "execution_count": 22,
   "metadata": {},
   "outputs": [
    {
     "name": "stdout",
     "output_type": "stream",
     "text": [
      "Today's date: 2019-08-26\n"
     ]
    }
   ],
   "source": [
    "from datetime import date\n",
    "today = date.today()\n",
    "print(\"Today's date:\", today)\n",
    "\n",
    "today = pd.to_datetime(today)\n",
    "today = today.tz_localize(None)\n",
    "first_submission = pd.datetime(2018,3,26)\n",
    "\n",
    "max_duration_allowed = abs(first_submission - today)"
   ]
  },
  {
   "cell_type": "code",
   "execution_count": 23,
   "metadata": {},
   "outputs": [],
   "source": [
    "rfmTable = savings.groupby('rContactID').agg({'transaction_date': lambda x: abs((x.max()-today).days), \n",
    "                                           'cycle': 'max'}) \n",
    "                                           #'mean_post_balance_per_cycle': lambda x: x.mean()})"
   ]
  },
  {
   "cell_type": "code",
   "execution_count": 24,
   "metadata": {},
   "outputs": [],
   "source": [
    "rfmTable = rfmTable.merge(mx_pst_bal[['rContactID','mean_post_balance_per_cycle']], on ='rContactID', how = 'inner')"
   ]
  },
  {
   "cell_type": "code",
   "execution_count": 26,
   "metadata": {
    "scrolled": true
   },
   "outputs": [
    {
     "data": {
      "text/html": [
       "<div>\n",
       "<style scoped>\n",
       "    .dataframe tbody tr th:only-of-type {\n",
       "        vertical-align: middle;\n",
       "    }\n",
       "\n",
       "    .dataframe tbody tr th {\n",
       "        vertical-align: top;\n",
       "    }\n",
       "\n",
       "    .dataframe thead th {\n",
       "        text-align: right;\n",
       "    }\n",
       "</style>\n",
       "<table border=\"1\" class=\"dataframe\">\n",
       "  <thead>\n",
       "    <tr style=\"text-align: right;\">\n",
       "      <th></th>\n",
       "      <th>rContactID</th>\n",
       "      <th>transaction_date</th>\n",
       "      <th>cycle</th>\n",
       "      <th>mean_post_balance_per_cycle</th>\n",
       "    </tr>\n",
       "  </thead>\n",
       "  <tbody>\n",
       "    <tr>\n",
       "      <th>0</th>\n",
       "      <td>23</td>\n",
       "      <td>388</td>\n",
       "      <td>1</td>\n",
       "      <td>2.500000e+02</td>\n",
       "    </tr>\n",
       "    <tr>\n",
       "      <th>1</th>\n",
       "      <td>24</td>\n",
       "      <td>481</td>\n",
       "      <td>3</td>\n",
       "      <td>6.522625e+02</td>\n",
       "    </tr>\n",
       "    <tr>\n",
       "      <th>2</th>\n",
       "      <td>25</td>\n",
       "      <td>13</td>\n",
       "      <td>14</td>\n",
       "      <td>5.245400e+04</td>\n",
       "    </tr>\n",
       "    <tr>\n",
       "      <th>3</th>\n",
       "      <td>26</td>\n",
       "      <td>64</td>\n",
       "      <td>1</td>\n",
       "      <td>1.504500e+06</td>\n",
       "    </tr>\n",
       "    <tr>\n",
       "      <th>4</th>\n",
       "      <td>27</td>\n",
       "      <td>4</td>\n",
       "      <td>2</td>\n",
       "      <td>2.279300e+04</td>\n",
       "    </tr>\n",
       "    <tr>\n",
       "      <th>5</th>\n",
       "      <td>28</td>\n",
       "      <td>374</td>\n",
       "      <td>2</td>\n",
       "      <td>1.100000e+04</td>\n",
       "    </tr>\n",
       "    <tr>\n",
       "      <th>6</th>\n",
       "      <td>29</td>\n",
       "      <td>282</td>\n",
       "      <td>3</td>\n",
       "      <td>5.870000e+03</td>\n",
       "    </tr>\n",
       "    <tr>\n",
       "      <th>7</th>\n",
       "      <td>30</td>\n",
       "      <td>199</td>\n",
       "      <td>6</td>\n",
       "      <td>8.787086e+04</td>\n",
       "    </tr>\n",
       "    <tr>\n",
       "      <th>8</th>\n",
       "      <td>31</td>\n",
       "      <td>505</td>\n",
       "      <td>0</td>\n",
       "      <td>1.000000e+05</td>\n",
       "    </tr>\n",
       "    <tr>\n",
       "      <th>9</th>\n",
       "      <td>32</td>\n",
       "      <td>442</td>\n",
       "      <td>4</td>\n",
       "      <td>4.200480e+04</td>\n",
       "    </tr>\n",
       "    <tr>\n",
       "      <th>10</th>\n",
       "      <td>34</td>\n",
       "      <td>402</td>\n",
       "      <td>0</td>\n",
       "      <td>6.000000e+03</td>\n",
       "    </tr>\n",
       "    <tr>\n",
       "      <th>11</th>\n",
       "      <td>35</td>\n",
       "      <td>150</td>\n",
       "      <td>4</td>\n",
       "      <td>5.200000e+04</td>\n",
       "    </tr>\n",
       "    <tr>\n",
       "      <th>12</th>\n",
       "      <td>36</td>\n",
       "      <td>506</td>\n",
       "      <td>3</td>\n",
       "      <td>6.125000e+03</td>\n",
       "    </tr>\n",
       "    <tr>\n",
       "      <th>13</th>\n",
       "      <td>37</td>\n",
       "      <td>73</td>\n",
       "      <td>15</td>\n",
       "      <td>1.133938e+05</td>\n",
       "    </tr>\n",
       "    <tr>\n",
       "      <th>14</th>\n",
       "      <td>38</td>\n",
       "      <td>308</td>\n",
       "      <td>2</td>\n",
       "      <td>2.276667e+04</td>\n",
       "    </tr>\n",
       "    <tr>\n",
       "      <th>15</th>\n",
       "      <td>39</td>\n",
       "      <td>3</td>\n",
       "      <td>3</td>\n",
       "      <td>1.052500e+04</td>\n",
       "    </tr>\n",
       "    <tr>\n",
       "      <th>16</th>\n",
       "      <td>40</td>\n",
       "      <td>227</td>\n",
       "      <td>0</td>\n",
       "      <td>1.827000e+05</td>\n",
       "    </tr>\n",
       "    <tr>\n",
       "      <th>17</th>\n",
       "      <td>42</td>\n",
       "      <td>433</td>\n",
       "      <td>0</td>\n",
       "      <td>8.250000e+03</td>\n",
       "    </tr>\n",
       "    <tr>\n",
       "      <th>18</th>\n",
       "      <td>43</td>\n",
       "      <td>15</td>\n",
       "      <td>5</td>\n",
       "      <td>3.667050e+04</td>\n",
       "    </tr>\n",
       "    <tr>\n",
       "      <th>19</th>\n",
       "      <td>44</td>\n",
       "      <td>26</td>\n",
       "      <td>7</td>\n",
       "      <td>3.941400e+04</td>\n",
       "    </tr>\n",
       "    <tr>\n",
       "      <th>20</th>\n",
       "      <td>45</td>\n",
       "      <td>2</td>\n",
       "      <td>2</td>\n",
       "      <td>2.306000e+05</td>\n",
       "    </tr>\n",
       "    <tr>\n",
       "      <th>21</th>\n",
       "      <td>46</td>\n",
       "      <td>506</td>\n",
       "      <td>0</td>\n",
       "      <td>2.000000e+04</td>\n",
       "    </tr>\n",
       "    <tr>\n",
       "      <th>22</th>\n",
       "      <td>47</td>\n",
       "      <td>416</td>\n",
       "      <td>0</td>\n",
       "      <td>3.500000e+05</td>\n",
       "    </tr>\n",
       "    <tr>\n",
       "      <th>23</th>\n",
       "      <td>52</td>\n",
       "      <td>30</td>\n",
       "      <td>2</td>\n",
       "      <td>2.133333e+04</td>\n",
       "    </tr>\n",
       "    <tr>\n",
       "      <th>24</th>\n",
       "      <td>54</td>\n",
       "      <td>467</td>\n",
       "      <td>1</td>\n",
       "      <td>5.000000e+03</td>\n",
       "    </tr>\n",
       "    <tr>\n",
       "      <th>25</th>\n",
       "      <td>55</td>\n",
       "      <td>43</td>\n",
       "      <td>5</td>\n",
       "      <td>2.420000e+04</td>\n",
       "    </tr>\n",
       "    <tr>\n",
       "      <th>26</th>\n",
       "      <td>59</td>\n",
       "      <td>509</td>\n",
       "      <td>0</td>\n",
       "      <td>3.000000e+04</td>\n",
       "    </tr>\n",
       "    <tr>\n",
       "      <th>27</th>\n",
       "      <td>60</td>\n",
       "      <td>406</td>\n",
       "      <td>2</td>\n",
       "      <td>1.001000e+03</td>\n",
       "    </tr>\n",
       "    <tr>\n",
       "      <th>28</th>\n",
       "      <td>63</td>\n",
       "      <td>165</td>\n",
       "      <td>11</td>\n",
       "      <td>5.298750e+04</td>\n",
       "    </tr>\n",
       "    <tr>\n",
       "      <th>29</th>\n",
       "      <td>65</td>\n",
       "      <td>460</td>\n",
       "      <td>1</td>\n",
       "      <td>5.050000e+03</td>\n",
       "    </tr>\n",
       "    <tr>\n",
       "      <th>...</th>\n",
       "      <td>...</td>\n",
       "      <td>...</td>\n",
       "      <td>...</td>\n",
       "      <td>...</td>\n",
       "    </tr>\n",
       "    <tr>\n",
       "      <th>18037</th>\n",
       "      <td>170995</td>\n",
       "      <td>2</td>\n",
       "      <td>2</td>\n",
       "      <td>2.115000e+04</td>\n",
       "    </tr>\n",
       "    <tr>\n",
       "      <th>18038</th>\n",
       "      <td>171017</td>\n",
       "      <td>2</td>\n",
       "      <td>0</td>\n",
       "      <td>4.603000e+04</td>\n",
       "    </tr>\n",
       "    <tr>\n",
       "      <th>18039</th>\n",
       "      <td>171080</td>\n",
       "      <td>4</td>\n",
       "      <td>0</td>\n",
       "      <td>5.000000e+03</td>\n",
       "    </tr>\n",
       "    <tr>\n",
       "      <th>18040</th>\n",
       "      <td>171087</td>\n",
       "      <td>3</td>\n",
       "      <td>5</td>\n",
       "      <td>1.435000e+04</td>\n",
       "    </tr>\n",
       "    <tr>\n",
       "      <th>18041</th>\n",
       "      <td>171089</td>\n",
       "      <td>3</td>\n",
       "      <td>2</td>\n",
       "      <td>3.170000e+03</td>\n",
       "    </tr>\n",
       "    <tr>\n",
       "      <th>18042</th>\n",
       "      <td>171106</td>\n",
       "      <td>5</td>\n",
       "      <td>0</td>\n",
       "      <td>5.000000e+03</td>\n",
       "    </tr>\n",
       "    <tr>\n",
       "      <th>18043</th>\n",
       "      <td>171107</td>\n",
       "      <td>4</td>\n",
       "      <td>3</td>\n",
       "      <td>1.057000e+04</td>\n",
       "    </tr>\n",
       "    <tr>\n",
       "      <th>18044</th>\n",
       "      <td>171126</td>\n",
       "      <td>5</td>\n",
       "      <td>0</td>\n",
       "      <td>4.000000e+02</td>\n",
       "    </tr>\n",
       "    <tr>\n",
       "      <th>18045</th>\n",
       "      <td>171130</td>\n",
       "      <td>2</td>\n",
       "      <td>3</td>\n",
       "      <td>8.000000e+04</td>\n",
       "    </tr>\n",
       "    <tr>\n",
       "      <th>18046</th>\n",
       "      <td>171137</td>\n",
       "      <td>3</td>\n",
       "      <td>0</td>\n",
       "      <td>1.000000e+04</td>\n",
       "    </tr>\n",
       "    <tr>\n",
       "      <th>18047</th>\n",
       "      <td>171185</td>\n",
       "      <td>4</td>\n",
       "      <td>0</td>\n",
       "      <td>5.000000e+03</td>\n",
       "    </tr>\n",
       "    <tr>\n",
       "      <th>18048</th>\n",
       "      <td>171235</td>\n",
       "      <td>3</td>\n",
       "      <td>0</td>\n",
       "      <td>5.000000e+02</td>\n",
       "    </tr>\n",
       "    <tr>\n",
       "      <th>18049</th>\n",
       "      <td>171273</td>\n",
       "      <td>4</td>\n",
       "      <td>0</td>\n",
       "      <td>3.000000e+02</td>\n",
       "    </tr>\n",
       "    <tr>\n",
       "      <th>18050</th>\n",
       "      <td>171295</td>\n",
       "      <td>2</td>\n",
       "      <td>0</td>\n",
       "      <td>3.023650e+05</td>\n",
       "    </tr>\n",
       "    <tr>\n",
       "      <th>18051</th>\n",
       "      <td>171307</td>\n",
       "      <td>4</td>\n",
       "      <td>0</td>\n",
       "      <td>3.000000e+02</td>\n",
       "    </tr>\n",
       "    <tr>\n",
       "      <th>18052</th>\n",
       "      <td>171319</td>\n",
       "      <td>3</td>\n",
       "      <td>0</td>\n",
       "      <td>4.000000e+03</td>\n",
       "    </tr>\n",
       "    <tr>\n",
       "      <th>18053</th>\n",
       "      <td>171330</td>\n",
       "      <td>4</td>\n",
       "      <td>0</td>\n",
       "      <td>3.000000e+03</td>\n",
       "    </tr>\n",
       "    <tr>\n",
       "      <th>18054</th>\n",
       "      <td>171345</td>\n",
       "      <td>4</td>\n",
       "      <td>0</td>\n",
       "      <td>1.000000e+04</td>\n",
       "    </tr>\n",
       "    <tr>\n",
       "      <th>18055</th>\n",
       "      <td>171371</td>\n",
       "      <td>4</td>\n",
       "      <td>0</td>\n",
       "      <td>5.000000e+04</td>\n",
       "    </tr>\n",
       "    <tr>\n",
       "      <th>18056</th>\n",
       "      <td>171403</td>\n",
       "      <td>4</td>\n",
       "      <td>0</td>\n",
       "      <td>6.000000e+03</td>\n",
       "    </tr>\n",
       "    <tr>\n",
       "      <th>18057</th>\n",
       "      <td>171460</td>\n",
       "      <td>2</td>\n",
       "      <td>1</td>\n",
       "      <td>3.991500e+04</td>\n",
       "    </tr>\n",
       "    <tr>\n",
       "      <th>18058</th>\n",
       "      <td>171468</td>\n",
       "      <td>3</td>\n",
       "      <td>0</td>\n",
       "      <td>4.000000e+03</td>\n",
       "    </tr>\n",
       "    <tr>\n",
       "      <th>18059</th>\n",
       "      <td>171496</td>\n",
       "      <td>2</td>\n",
       "      <td>1</td>\n",
       "      <td>4.000000e+02</td>\n",
       "    </tr>\n",
       "    <tr>\n",
       "      <th>18060</th>\n",
       "      <td>171503</td>\n",
       "      <td>2</td>\n",
       "      <td>1</td>\n",
       "      <td>1.000000e+05</td>\n",
       "    </tr>\n",
       "    <tr>\n",
       "      <th>18061</th>\n",
       "      <td>171504</td>\n",
       "      <td>2</td>\n",
       "      <td>4</td>\n",
       "      <td>1.000000e+04</td>\n",
       "    </tr>\n",
       "    <tr>\n",
       "      <th>18062</th>\n",
       "      <td>171507</td>\n",
       "      <td>3</td>\n",
       "      <td>1</td>\n",
       "      <td>4.027500e+03</td>\n",
       "    </tr>\n",
       "    <tr>\n",
       "      <th>18063</th>\n",
       "      <td>171541</td>\n",
       "      <td>2</td>\n",
       "      <td>0</td>\n",
       "      <td>5.020000e+04</td>\n",
       "    </tr>\n",
       "    <tr>\n",
       "      <th>18064</th>\n",
       "      <td>171585</td>\n",
       "      <td>2</td>\n",
       "      <td>0</td>\n",
       "      <td>2.000000e+05</td>\n",
       "    </tr>\n",
       "    <tr>\n",
       "      <th>18065</th>\n",
       "      <td>171596</td>\n",
       "      <td>2</td>\n",
       "      <td>1</td>\n",
       "      <td>2.500000e+03</td>\n",
       "    </tr>\n",
       "    <tr>\n",
       "      <th>18066</th>\n",
       "      <td>171597</td>\n",
       "      <td>2</td>\n",
       "      <td>1</td>\n",
       "      <td>2.500000e+03</td>\n",
       "    </tr>\n",
       "  </tbody>\n",
       "</table>\n",
       "<p>18067 rows × 4 columns</p>\n",
       "</div>"
      ],
      "text/plain": [
       "       rContactID  transaction_date  cycle  mean_post_balance_per_cycle\n",
       "0              23               388      1                 2.500000e+02\n",
       "1              24               481      3                 6.522625e+02\n",
       "2              25                13     14                 5.245400e+04\n",
       "3              26                64      1                 1.504500e+06\n",
       "4              27                 4      2                 2.279300e+04\n",
       "5              28               374      2                 1.100000e+04\n",
       "6              29               282      3                 5.870000e+03\n",
       "7              30               199      6                 8.787086e+04\n",
       "8              31               505      0                 1.000000e+05\n",
       "9              32               442      4                 4.200480e+04\n",
       "10             34               402      0                 6.000000e+03\n",
       "11             35               150      4                 5.200000e+04\n",
       "12             36               506      3                 6.125000e+03\n",
       "13             37                73     15                 1.133938e+05\n",
       "14             38               308      2                 2.276667e+04\n",
       "15             39                 3      3                 1.052500e+04\n",
       "16             40               227      0                 1.827000e+05\n",
       "17             42               433      0                 8.250000e+03\n",
       "18             43                15      5                 3.667050e+04\n",
       "19             44                26      7                 3.941400e+04\n",
       "20             45                 2      2                 2.306000e+05\n",
       "21             46               506      0                 2.000000e+04\n",
       "22             47               416      0                 3.500000e+05\n",
       "23             52                30      2                 2.133333e+04\n",
       "24             54               467      1                 5.000000e+03\n",
       "25             55                43      5                 2.420000e+04\n",
       "26             59               509      0                 3.000000e+04\n",
       "27             60               406      2                 1.001000e+03\n",
       "28             63               165     11                 5.298750e+04\n",
       "29             65               460      1                 5.050000e+03\n",
       "...           ...               ...    ...                          ...\n",
       "18037      170995                 2      2                 2.115000e+04\n",
       "18038      171017                 2      0                 4.603000e+04\n",
       "18039      171080                 4      0                 5.000000e+03\n",
       "18040      171087                 3      5                 1.435000e+04\n",
       "18041      171089                 3      2                 3.170000e+03\n",
       "18042      171106                 5      0                 5.000000e+03\n",
       "18043      171107                 4      3                 1.057000e+04\n",
       "18044      171126                 5      0                 4.000000e+02\n",
       "18045      171130                 2      3                 8.000000e+04\n",
       "18046      171137                 3      0                 1.000000e+04\n",
       "18047      171185                 4      0                 5.000000e+03\n",
       "18048      171235                 3      0                 5.000000e+02\n",
       "18049      171273                 4      0                 3.000000e+02\n",
       "18050      171295                 2      0                 3.023650e+05\n",
       "18051      171307                 4      0                 3.000000e+02\n",
       "18052      171319                 3      0                 4.000000e+03\n",
       "18053      171330                 4      0                 3.000000e+03\n",
       "18054      171345                 4      0                 1.000000e+04\n",
       "18055      171371                 4      0                 5.000000e+04\n",
       "18056      171403                 4      0                 6.000000e+03\n",
       "18057      171460                 2      1                 3.991500e+04\n",
       "18058      171468                 3      0                 4.000000e+03\n",
       "18059      171496                 2      1                 4.000000e+02\n",
       "18060      171503                 2      1                 1.000000e+05\n",
       "18061      171504                 2      4                 1.000000e+04\n",
       "18062      171507                 3      1                 4.027500e+03\n",
       "18063      171541                 2      0                 5.020000e+04\n",
       "18064      171585                 2      0                 2.000000e+05\n",
       "18065      171596                 2      1                 2.500000e+03\n",
       "18066      171597                 2      1                 2.500000e+03\n",
       "\n",
       "[18067 rows x 4 columns]"
      ]
     },
     "execution_count": 26,
     "metadata": {},
     "output_type": "execute_result"
    }
   ],
   "source": [
    "rfmTable"
   ]
  },
  {
   "cell_type": "code",
   "execution_count": 27,
   "metadata": {},
   "outputs": [],
   "source": [
    "rfmTable['transaction_date'] = rfmTable['transaction_date'].astype(int)\n",
    "rfmTable.rename(columns={'transaction_date':'recency',\n",
    "                         'cycle':'frequency',\n",
    "                         'mean_post_balance_per_cycle':'monetary_value'}, inplace=True)"
   ]
  },
  {
   "cell_type": "code",
   "execution_count": 28,
   "metadata": {
    "scrolled": true
   },
   "outputs": [],
   "source": [
    "#rfmTable.monetary.quantile([0.25, 0.5, 0.75])"
   ]
  },
  {
   "cell_type": "markdown",
   "metadata": {},
   "source": [
    "## - should use the monetary value quantile as condition"
   ]
  },
  {
   "cell_type": "markdown",
   "metadata": {},
   "source": [
    "# - Rectification:"
   ]
  },
  {
   "cell_type": "code",
   "execution_count": 29,
   "metadata": {},
   "outputs": [],
   "source": [
    "quantiles = rfmTable.quantile(q=[0.25,0.5,0.75])\n",
    "quantiles = quantiles.to_dict()"
   ]
  },
  {
   "cell_type": "code",
   "execution_count": 30,
   "metadata": {},
   "outputs": [
    {
     "data": {
      "text/plain": [
       "{'rContactID': {0.25: 29722.0, 0.5: 70071.0, 0.75: 113910.0},\n",
       " 'recency': {0.25: 28.0, 0.5: 111.0, 0.75: 245.0},\n",
       " 'frequency': {0.25: 1.0, 0.5: 1.0, 0.75: 2.0},\n",
       " 'monetary_value': {0.25: 800.0, 0.5: 5000.0, 0.75: 26750.833333333336}}"
      ]
     },
     "execution_count": 30,
     "metadata": {},
     "output_type": "execute_result"
    }
   ],
   "source": [
    "quantiles"
   ]
  },
  {
   "cell_type": "markdown",
   "metadata": {},
   "source": [
    "# - Create a segmented RFM table"
   ]
  },
  {
   "cell_type": "code",
   "execution_count": 31,
   "metadata": {},
   "outputs": [],
   "source": [
    "segmented_rfm = rfmTable"
   ]
  },
  {
   "cell_type": "markdown",
   "metadata": {},
   "source": [
    "## The lowest recency, highest frequency and monetary amounts are our best customers."
   ]
  },
  {
   "cell_type": "code",
   "execution_count": 32,
   "metadata": {},
   "outputs": [],
   "source": [
    "def RScore(x,p,d):\n",
    "    if x <= d[p][0.25]:\n",
    "        return 1\n",
    "    elif x <= d[p][0.50]:\n",
    "        return 2\n",
    "    elif x <= d[p][0.75]: \n",
    "        return 3\n",
    "    else:\n",
    "        return 4\n",
    "    \n",
    "def FMScore(x,p,d):\n",
    "    if x <= d[p][0.25]:\n",
    "        return 4\n",
    "    elif x <= d[p][0.50]:\n",
    "        return 3\n",
    "    elif x <= d[p][0.75]: \n",
    "        return 2\n",
    "    else:\n",
    "        return 1"
   ]
  },
  {
   "cell_type": "markdown",
   "metadata": {},
   "source": [
    "## Add segment numbers to the newly created segmented RFM table"
   ]
  },
  {
   "cell_type": "code",
   "execution_count": 33,
   "metadata": {},
   "outputs": [
    {
     "data": {
      "text/html": [
       "<div>\n",
       "<style scoped>\n",
       "    .dataframe tbody tr th:only-of-type {\n",
       "        vertical-align: middle;\n",
       "    }\n",
       "\n",
       "    .dataframe tbody tr th {\n",
       "        vertical-align: top;\n",
       "    }\n",
       "\n",
       "    .dataframe thead th {\n",
       "        text-align: right;\n",
       "    }\n",
       "</style>\n",
       "<table border=\"1\" class=\"dataframe\">\n",
       "  <thead>\n",
       "    <tr style=\"text-align: right;\">\n",
       "      <th></th>\n",
       "      <th>rContactID</th>\n",
       "      <th>recency</th>\n",
       "      <th>frequency</th>\n",
       "      <th>monetary_value</th>\n",
       "      <th>r_quartile</th>\n",
       "      <th>f_quartile</th>\n",
       "      <th>m_quartile</th>\n",
       "    </tr>\n",
       "  </thead>\n",
       "  <tbody>\n",
       "    <tr>\n",
       "      <th>0</th>\n",
       "      <td>23</td>\n",
       "      <td>388</td>\n",
       "      <td>1</td>\n",
       "      <td>2.500000e+02</td>\n",
       "      <td>4</td>\n",
       "      <td>4</td>\n",
       "      <td>4</td>\n",
       "    </tr>\n",
       "    <tr>\n",
       "      <th>1</th>\n",
       "      <td>24</td>\n",
       "      <td>481</td>\n",
       "      <td>3</td>\n",
       "      <td>6.522625e+02</td>\n",
       "      <td>4</td>\n",
       "      <td>1</td>\n",
       "      <td>4</td>\n",
       "    </tr>\n",
       "    <tr>\n",
       "      <th>2</th>\n",
       "      <td>25</td>\n",
       "      <td>13</td>\n",
       "      <td>14</td>\n",
       "      <td>5.245400e+04</td>\n",
       "      <td>1</td>\n",
       "      <td>1</td>\n",
       "      <td>1</td>\n",
       "    </tr>\n",
       "    <tr>\n",
       "      <th>3</th>\n",
       "      <td>26</td>\n",
       "      <td>64</td>\n",
       "      <td>1</td>\n",
       "      <td>1.504500e+06</td>\n",
       "      <td>2</td>\n",
       "      <td>4</td>\n",
       "      <td>1</td>\n",
       "    </tr>\n",
       "    <tr>\n",
       "      <th>4</th>\n",
       "      <td>27</td>\n",
       "      <td>4</td>\n",
       "      <td>2</td>\n",
       "      <td>2.279300e+04</td>\n",
       "      <td>1</td>\n",
       "      <td>2</td>\n",
       "      <td>2</td>\n",
       "    </tr>\n",
       "  </tbody>\n",
       "</table>\n",
       "</div>"
      ],
      "text/plain": [
       "   rContactID  recency  frequency  monetary_value  r_quartile  f_quartile  \\\n",
       "0          23      388          1    2.500000e+02           4           4   \n",
       "1          24      481          3    6.522625e+02           4           1   \n",
       "2          25       13         14    5.245400e+04           1           1   \n",
       "3          26       64          1    1.504500e+06           2           4   \n",
       "4          27        4          2    2.279300e+04           1           2   \n",
       "\n",
       "   m_quartile  \n",
       "0           4  \n",
       "1           4  \n",
       "2           1  \n",
       "3           1  \n",
       "4           2  "
      ]
     },
     "execution_count": 33,
     "metadata": {},
     "output_type": "execute_result"
    }
   ],
   "source": [
    "segmented_rfm['r_quartile'] = segmented_rfm['recency'].apply(RScore, args=('recency',quantiles,))\n",
    "segmented_rfm['f_quartile'] = segmented_rfm['frequency'].apply(FMScore, args=('frequency',quantiles,))\n",
    "segmented_rfm['m_quartile'] = segmented_rfm['monetary_value'].apply(FMScore, args=('monetary_value',quantiles,))\n",
    "segmented_rfm.head()"
   ]
  },
  {
   "cell_type": "markdown",
   "metadata": {},
   "source": [
    "## Add a new column to combine RFM score: 111 is the highest score as we determined earlier."
   ]
  },
  {
   "cell_type": "code",
   "execution_count": 34,
   "metadata": {},
   "outputs": [
    {
     "data": {
      "text/html": [
       "<div>\n",
       "<style scoped>\n",
       "    .dataframe tbody tr th:only-of-type {\n",
       "        vertical-align: middle;\n",
       "    }\n",
       "\n",
       "    .dataframe tbody tr th {\n",
       "        vertical-align: top;\n",
       "    }\n",
       "\n",
       "    .dataframe thead th {\n",
       "        text-align: right;\n",
       "    }\n",
       "</style>\n",
       "<table border=\"1\" class=\"dataframe\">\n",
       "  <thead>\n",
       "    <tr style=\"text-align: right;\">\n",
       "      <th></th>\n",
       "      <th>rContactID</th>\n",
       "      <th>recency</th>\n",
       "      <th>frequency</th>\n",
       "      <th>monetary_value</th>\n",
       "      <th>r_quartile</th>\n",
       "      <th>f_quartile</th>\n",
       "      <th>m_quartile</th>\n",
       "      <th>RFMScore</th>\n",
       "    </tr>\n",
       "  </thead>\n",
       "  <tbody>\n",
       "    <tr>\n",
       "      <th>0</th>\n",
       "      <td>23</td>\n",
       "      <td>388</td>\n",
       "      <td>1</td>\n",
       "      <td>2.500000e+02</td>\n",
       "      <td>4</td>\n",
       "      <td>4</td>\n",
       "      <td>4</td>\n",
       "      <td>444</td>\n",
       "    </tr>\n",
       "    <tr>\n",
       "      <th>1</th>\n",
       "      <td>24</td>\n",
       "      <td>481</td>\n",
       "      <td>3</td>\n",
       "      <td>6.522625e+02</td>\n",
       "      <td>4</td>\n",
       "      <td>1</td>\n",
       "      <td>4</td>\n",
       "      <td>414</td>\n",
       "    </tr>\n",
       "    <tr>\n",
       "      <th>2</th>\n",
       "      <td>25</td>\n",
       "      <td>13</td>\n",
       "      <td>14</td>\n",
       "      <td>5.245400e+04</td>\n",
       "      <td>1</td>\n",
       "      <td>1</td>\n",
       "      <td>1</td>\n",
       "      <td>111</td>\n",
       "    </tr>\n",
       "    <tr>\n",
       "      <th>3</th>\n",
       "      <td>26</td>\n",
       "      <td>64</td>\n",
       "      <td>1</td>\n",
       "      <td>1.504500e+06</td>\n",
       "      <td>2</td>\n",
       "      <td>4</td>\n",
       "      <td>1</td>\n",
       "      <td>241</td>\n",
       "    </tr>\n",
       "    <tr>\n",
       "      <th>4</th>\n",
       "      <td>27</td>\n",
       "      <td>4</td>\n",
       "      <td>2</td>\n",
       "      <td>2.279300e+04</td>\n",
       "      <td>1</td>\n",
       "      <td>2</td>\n",
       "      <td>2</td>\n",
       "      <td>122</td>\n",
       "    </tr>\n",
       "  </tbody>\n",
       "</table>\n",
       "</div>"
      ],
      "text/plain": [
       "   rContactID  recency  frequency  monetary_value  r_quartile  f_quartile  \\\n",
       "0          23      388          1    2.500000e+02           4           4   \n",
       "1          24      481          3    6.522625e+02           4           1   \n",
       "2          25       13         14    5.245400e+04           1           1   \n",
       "3          26       64          1    1.504500e+06           2           4   \n",
       "4          27        4          2    2.279300e+04           1           2   \n",
       "\n",
       "   m_quartile RFMScore  \n",
       "0           4      444  \n",
       "1           4      414  \n",
       "2           1      111  \n",
       "3           1      241  \n",
       "4           2      122  "
      ]
     },
     "execution_count": 34,
     "metadata": {},
     "output_type": "execute_result"
    }
   ],
   "source": [
    "segmented_rfm['RFMScore'] = segmented_rfm.r_quartile.map(str) + segmented_rfm.f_quartile.map(str) + segmented_rfm.m_quartile.map(str)\n",
    "segmented_rfm.head()"
   ]
  },
  {
   "cell_type": "markdown",
   "metadata": {},
   "source": [
    "# -Top customers"
   ]
  },
  {
   "cell_type": "code",
   "execution_count": 35,
   "metadata": {},
   "outputs": [
    {
     "data": {
      "text/html": [
       "<div>\n",
       "<style scoped>\n",
       "    .dataframe tbody tr th:only-of-type {\n",
       "        vertical-align: middle;\n",
       "    }\n",
       "\n",
       "    .dataframe tbody tr th {\n",
       "        vertical-align: top;\n",
       "    }\n",
       "\n",
       "    .dataframe thead th {\n",
       "        text-align: right;\n",
       "    }\n",
       "</style>\n",
       "<table border=\"1\" class=\"dataframe\">\n",
       "  <thead>\n",
       "    <tr style=\"text-align: right;\">\n",
       "      <th></th>\n",
       "      <th>rContactID</th>\n",
       "      <th>recency</th>\n",
       "      <th>frequency</th>\n",
       "      <th>monetary_value</th>\n",
       "      <th>r_quartile</th>\n",
       "      <th>f_quartile</th>\n",
       "      <th>m_quartile</th>\n",
       "      <th>RFMScore</th>\n",
       "    </tr>\n",
       "  </thead>\n",
       "  <tbody>\n",
       "    <tr>\n",
       "      <th>2620</th>\n",
       "      <td>14694</td>\n",
       "      <td>7</td>\n",
       "      <td>12</td>\n",
       "      <td>5.288769e+06</td>\n",
       "      <td>1</td>\n",
       "      <td>1</td>\n",
       "      <td>1</td>\n",
       "      <td>111</td>\n",
       "    </tr>\n",
       "    <tr>\n",
       "      <th>9780</th>\n",
       "      <td>76751</td>\n",
       "      <td>9</td>\n",
       "      <td>5</td>\n",
       "      <td>2.814533e+06</td>\n",
       "      <td>1</td>\n",
       "      <td>1</td>\n",
       "      <td>1</td>\n",
       "      <td>111</td>\n",
       "    </tr>\n",
       "    <tr>\n",
       "      <th>879</th>\n",
       "      <td>3456</td>\n",
       "      <td>2</td>\n",
       "      <td>5</td>\n",
       "      <td>2.205067e+06</td>\n",
       "      <td>1</td>\n",
       "      <td>1</td>\n",
       "      <td>1</td>\n",
       "      <td>111</td>\n",
       "    </tr>\n",
       "    <tr>\n",
       "      <th>61</th>\n",
       "      <td>122</td>\n",
       "      <td>2</td>\n",
       "      <td>4</td>\n",
       "      <td>2.187000e+06</td>\n",
       "      <td>1</td>\n",
       "      <td>1</td>\n",
       "      <td>1</td>\n",
       "      <td>111</td>\n",
       "    </tr>\n",
       "    <tr>\n",
       "      <th>12726</th>\n",
       "      <td>105802</td>\n",
       "      <td>10</td>\n",
       "      <td>3</td>\n",
       "      <td>2.166250e+06</td>\n",
       "      <td>1</td>\n",
       "      <td>1</td>\n",
       "      <td>1</td>\n",
       "      <td>111</td>\n",
       "    </tr>\n",
       "    <tr>\n",
       "      <th>5412</th>\n",
       "      <td>37723</td>\n",
       "      <td>2</td>\n",
       "      <td>5</td>\n",
       "      <td>1.523378e+06</td>\n",
       "      <td>1</td>\n",
       "      <td>1</td>\n",
       "      <td>1</td>\n",
       "      <td>111</td>\n",
       "    </tr>\n",
       "    <tr>\n",
       "      <th>210</th>\n",
       "      <td>462</td>\n",
       "      <td>3</td>\n",
       "      <td>10</td>\n",
       "      <td>1.465142e+06</td>\n",
       "      <td>1</td>\n",
       "      <td>1</td>\n",
       "      <td>1</td>\n",
       "      <td>111</td>\n",
       "    </tr>\n",
       "    <tr>\n",
       "      <th>3522</th>\n",
       "      <td>21317</td>\n",
       "      <td>22</td>\n",
       "      <td>8</td>\n",
       "      <td>1.423667e+06</td>\n",
       "      <td>1</td>\n",
       "      <td>1</td>\n",
       "      <td>1</td>\n",
       "      <td>111</td>\n",
       "    </tr>\n",
       "    <tr>\n",
       "      <th>2282</th>\n",
       "      <td>12361</td>\n",
       "      <td>2</td>\n",
       "      <td>9</td>\n",
       "      <td>1.367212e+06</td>\n",
       "      <td>1</td>\n",
       "      <td>1</td>\n",
       "      <td>1</td>\n",
       "      <td>111</td>\n",
       "    </tr>\n",
       "    <tr>\n",
       "      <th>15658</th>\n",
       "      <td>138555</td>\n",
       "      <td>2</td>\n",
       "      <td>4</td>\n",
       "      <td>1.344000e+06</td>\n",
       "      <td>1</td>\n",
       "      <td>1</td>\n",
       "      <td>1</td>\n",
       "      <td>111</td>\n",
       "    </tr>\n",
       "  </tbody>\n",
       "</table>\n",
       "</div>"
      ],
      "text/plain": [
       "       rContactID  recency  frequency  monetary_value  r_quartile  f_quartile  \\\n",
       "2620        14694        7         12    5.288769e+06           1           1   \n",
       "9780        76751        9          5    2.814533e+06           1           1   \n",
       "879          3456        2          5    2.205067e+06           1           1   \n",
       "61            122        2          4    2.187000e+06           1           1   \n",
       "12726      105802       10          3    2.166250e+06           1           1   \n",
       "5412        37723        2          5    1.523378e+06           1           1   \n",
       "210           462        3         10    1.465142e+06           1           1   \n",
       "3522        21317       22          8    1.423667e+06           1           1   \n",
       "2282        12361        2          9    1.367212e+06           1           1   \n",
       "15658      138555        2          4    1.344000e+06           1           1   \n",
       "\n",
       "       m_quartile RFMScore  \n",
       "2620            1      111  \n",
       "9780            1      111  \n",
       "879             1      111  \n",
       "61              1      111  \n",
       "12726           1      111  \n",
       "5412            1      111  \n",
       "210             1      111  \n",
       "3522            1      111  \n",
       "2282            1      111  \n",
       "15658           1      111  "
      ]
     },
     "execution_count": 35,
     "metadata": {},
     "output_type": "execute_result"
    }
   ],
   "source": [
    "segmented_rfm[segmented_rfm['RFMScore']=='111'].sort_values('monetary_value', ascending=False).head(10)"
   ]
  },
  {
   "cell_type": "code",
   "execution_count": 39,
   "metadata": {},
   "outputs": [
    {
     "data": {
      "text/html": [
       "<div>\n",
       "<style scoped>\n",
       "    .dataframe tbody tr th:only-of-type {\n",
       "        vertical-align: middle;\n",
       "    }\n",
       "\n",
       "    .dataframe tbody tr th {\n",
       "        vertical-align: top;\n",
       "    }\n",
       "\n",
       "    .dataframe thead th {\n",
       "        text-align: right;\n",
       "    }\n",
       "</style>\n",
       "<table border=\"1\" class=\"dataframe\">\n",
       "  <thead>\n",
       "    <tr style=\"text-align: right;\">\n",
       "      <th></th>\n",
       "      <th>rContactID</th>\n",
       "      <th>recency</th>\n",
       "      <th>frequency</th>\n",
       "      <th>monetary_value</th>\n",
       "      <th>r_quartile</th>\n",
       "      <th>f_quartile</th>\n",
       "      <th>m_quartile</th>\n",
       "      <th>RFMScore</th>\n",
       "    </tr>\n",
       "  </thead>\n",
       "  <tbody>\n",
       "    <tr>\n",
       "      <th>8313</th>\n",
       "      <td>63716</td>\n",
       "      <td>86</td>\n",
       "      <td>1</td>\n",
       "      <td>150.500000</td>\n",
       "      <td>2</td>\n",
       "      <td>4</td>\n",
       "      <td>4</td>\n",
       "      <td>244</td>\n",
       "    </tr>\n",
       "    <tr>\n",
       "      <th>16210</th>\n",
       "      <td>146492</td>\n",
       "      <td>10</td>\n",
       "      <td>0</td>\n",
       "      <td>500.000000</td>\n",
       "      <td>1</td>\n",
       "      <td>4</td>\n",
       "      <td>4</td>\n",
       "      <td>144</td>\n",
       "    </tr>\n",
       "    <tr>\n",
       "      <th>2905</th>\n",
       "      <td>16663</td>\n",
       "      <td>34</td>\n",
       "      <td>0</td>\n",
       "      <td>15000.000000</td>\n",
       "      <td>2</td>\n",
       "      <td>4</td>\n",
       "      <td>2</td>\n",
       "      <td>242</td>\n",
       "    </tr>\n",
       "    <tr>\n",
       "      <th>6164</th>\n",
       "      <td>44887</td>\n",
       "      <td>284</td>\n",
       "      <td>1</td>\n",
       "      <td>1000.000000</td>\n",
       "      <td>4</td>\n",
       "      <td>4</td>\n",
       "      <td>3</td>\n",
       "      <td>443</td>\n",
       "    </tr>\n",
       "    <tr>\n",
       "      <th>15733</th>\n",
       "      <td>139778</td>\n",
       "      <td>83</td>\n",
       "      <td>1</td>\n",
       "      <td>250.000000</td>\n",
       "      <td>2</td>\n",
       "      <td>4</td>\n",
       "      <td>4</td>\n",
       "      <td>244</td>\n",
       "    </tr>\n",
       "    <tr>\n",
       "      <th>9289</th>\n",
       "      <td>72427</td>\n",
       "      <td>254</td>\n",
       "      <td>1</td>\n",
       "      <td>7400.000000</td>\n",
       "      <td>4</td>\n",
       "      <td>4</td>\n",
       "      <td>2</td>\n",
       "      <td>442</td>\n",
       "    </tr>\n",
       "    <tr>\n",
       "      <th>1129</th>\n",
       "      <td>4903</td>\n",
       "      <td>454</td>\n",
       "      <td>1</td>\n",
       "      <td>500.000000</td>\n",
       "      <td>4</td>\n",
       "      <td>4</td>\n",
       "      <td>4</td>\n",
       "      <td>444</td>\n",
       "    </tr>\n",
       "    <tr>\n",
       "      <th>7507</th>\n",
       "      <td>56817</td>\n",
       "      <td>131</td>\n",
       "      <td>2</td>\n",
       "      <td>800.000000</td>\n",
       "      <td>3</td>\n",
       "      <td>2</td>\n",
       "      <td>4</td>\n",
       "      <td>324</td>\n",
       "    </tr>\n",
       "    <tr>\n",
       "      <th>13098</th>\n",
       "      <td>109543</td>\n",
       "      <td>181</td>\n",
       "      <td>6</td>\n",
       "      <td>15115.571429</td>\n",
       "      <td>3</td>\n",
       "      <td>1</td>\n",
       "      <td>2</td>\n",
       "      <td>312</td>\n",
       "    </tr>\n",
       "    <tr>\n",
       "      <th>16759</th>\n",
       "      <td>152837</td>\n",
       "      <td>2</td>\n",
       "      <td>1</td>\n",
       "      <td>70000.000000</td>\n",
       "      <td>1</td>\n",
       "      <td>4</td>\n",
       "      <td>1</td>\n",
       "      <td>141</td>\n",
       "    </tr>\n",
       "    <tr>\n",
       "      <th>3470</th>\n",
       "      <td>20901</td>\n",
       "      <td>301</td>\n",
       "      <td>1</td>\n",
       "      <td>101.000000</td>\n",
       "      <td>4</td>\n",
       "      <td>4</td>\n",
       "      <td>4</td>\n",
       "      <td>444</td>\n",
       "    </tr>\n",
       "    <tr>\n",
       "      <th>11628</th>\n",
       "      <td>94467</td>\n",
       "      <td>283</td>\n",
       "      <td>0</td>\n",
       "      <td>400.000000</td>\n",
       "      <td>4</td>\n",
       "      <td>4</td>\n",
       "      <td>4</td>\n",
       "      <td>444</td>\n",
       "    </tr>\n",
       "    <tr>\n",
       "      <th>5205</th>\n",
       "      <td>35843</td>\n",
       "      <td>37</td>\n",
       "      <td>10</td>\n",
       "      <td>79367.818182</td>\n",
       "      <td>2</td>\n",
       "      <td>1</td>\n",
       "      <td>1</td>\n",
       "      <td>211</td>\n",
       "    </tr>\n",
       "    <tr>\n",
       "      <th>16184</th>\n",
       "      <td>146134</td>\n",
       "      <td>23</td>\n",
       "      <td>0</td>\n",
       "      <td>5000.000000</td>\n",
       "      <td>1</td>\n",
       "      <td>4</td>\n",
       "      <td>3</td>\n",
       "      <td>143</td>\n",
       "    </tr>\n",
       "    <tr>\n",
       "      <th>3911</th>\n",
       "      <td>24385</td>\n",
       "      <td>430</td>\n",
       "      <td>1</td>\n",
       "      <td>5000.000000</td>\n",
       "      <td>4</td>\n",
       "      <td>4</td>\n",
       "      <td>3</td>\n",
       "      <td>443</td>\n",
       "    </tr>\n",
       "    <tr>\n",
       "      <th>10469</th>\n",
       "      <td>82883</td>\n",
       "      <td>264</td>\n",
       "      <td>1</td>\n",
       "      <td>7000.000000</td>\n",
       "      <td>4</td>\n",
       "      <td>4</td>\n",
       "      <td>2</td>\n",
       "      <td>442</td>\n",
       "    </tr>\n",
       "    <tr>\n",
       "      <th>17135</th>\n",
       "      <td>157361</td>\n",
       "      <td>34</td>\n",
       "      <td>1</td>\n",
       "      <td>3000.000000</td>\n",
       "      <td>2</td>\n",
       "      <td>4</td>\n",
       "      <td>3</td>\n",
       "      <td>243</td>\n",
       "    </tr>\n",
       "    <tr>\n",
       "      <th>16314</th>\n",
       "      <td>147624</td>\n",
       "      <td>104</td>\n",
       "      <td>0</td>\n",
       "      <td>200.000000</td>\n",
       "      <td>2</td>\n",
       "      <td>4</td>\n",
       "      <td>4</td>\n",
       "      <td>244</td>\n",
       "    </tr>\n",
       "    <tr>\n",
       "      <th>15665</th>\n",
       "      <td>138650</td>\n",
       "      <td>110</td>\n",
       "      <td>0</td>\n",
       "      <td>4000.000000</td>\n",
       "      <td>2</td>\n",
       "      <td>4</td>\n",
       "      <td>3</td>\n",
       "      <td>243</td>\n",
       "    </tr>\n",
       "    <tr>\n",
       "      <th>13062</th>\n",
       "      <td>109168</td>\n",
       "      <td>134</td>\n",
       "      <td>1</td>\n",
       "      <td>2600.000000</td>\n",
       "      <td>3</td>\n",
       "      <td>4</td>\n",
       "      <td>3</td>\n",
       "      <td>343</td>\n",
       "    </tr>\n",
       "    <tr>\n",
       "      <th>8229</th>\n",
       "      <td>62948</td>\n",
       "      <td>362</td>\n",
       "      <td>1</td>\n",
       "      <td>2500.000000</td>\n",
       "      <td>4</td>\n",
       "      <td>4</td>\n",
       "      <td>3</td>\n",
       "      <td>443</td>\n",
       "    </tr>\n",
       "    <tr>\n",
       "      <th>12791</th>\n",
       "      <td>106511</td>\n",
       "      <td>74</td>\n",
       "      <td>6</td>\n",
       "      <td>16840.000000</td>\n",
       "      <td>2</td>\n",
       "      <td>1</td>\n",
       "      <td>2</td>\n",
       "      <td>212</td>\n",
       "    </tr>\n",
       "    <tr>\n",
       "      <th>11401</th>\n",
       "      <td>91988</td>\n",
       "      <td>153</td>\n",
       "      <td>1</td>\n",
       "      <td>5000.000000</td>\n",
       "      <td>3</td>\n",
       "      <td>4</td>\n",
       "      <td>3</td>\n",
       "      <td>343</td>\n",
       "    </tr>\n",
       "    <tr>\n",
       "      <th>13962</th>\n",
       "      <td>119203</td>\n",
       "      <td>177</td>\n",
       "      <td>0</td>\n",
       "      <td>1800.000000</td>\n",
       "      <td>3</td>\n",
       "      <td>4</td>\n",
       "      <td>3</td>\n",
       "      <td>343</td>\n",
       "    </tr>\n",
       "    <tr>\n",
       "      <th>7262</th>\n",
       "      <td>54830</td>\n",
       "      <td>352</td>\n",
       "      <td>7</td>\n",
       "      <td>22800.000000</td>\n",
       "      <td>4</td>\n",
       "      <td>1</td>\n",
       "      <td>2</td>\n",
       "      <td>412</td>\n",
       "    </tr>\n",
       "    <tr>\n",
       "      <th>3074</th>\n",
       "      <td>17938</td>\n",
       "      <td>54</td>\n",
       "      <td>3</td>\n",
       "      <td>225.250000</td>\n",
       "      <td>2</td>\n",
       "      <td>1</td>\n",
       "      <td>4</td>\n",
       "      <td>214</td>\n",
       "    </tr>\n",
       "    <tr>\n",
       "      <th>15605</th>\n",
       "      <td>137932</td>\n",
       "      <td>126</td>\n",
       "      <td>1</td>\n",
       "      <td>1000.000000</td>\n",
       "      <td>3</td>\n",
       "      <td>4</td>\n",
       "      <td>3</td>\n",
       "      <td>343</td>\n",
       "    </tr>\n",
       "    <tr>\n",
       "      <th>2664</th>\n",
       "      <td>14987</td>\n",
       "      <td>312</td>\n",
       "      <td>2</td>\n",
       "      <td>39000.000000</td>\n",
       "      <td>4</td>\n",
       "      <td>2</td>\n",
       "      <td>1</td>\n",
       "      <td>421</td>\n",
       "    </tr>\n",
       "    <tr>\n",
       "      <th>8470</th>\n",
       "      <td>64919</td>\n",
       "      <td>261</td>\n",
       "      <td>2</td>\n",
       "      <td>46666.666667</td>\n",
       "      <td>4</td>\n",
       "      <td>2</td>\n",
       "      <td>1</td>\n",
       "      <td>421</td>\n",
       "    </tr>\n",
       "    <tr>\n",
       "      <th>7432</th>\n",
       "      <td>56226</td>\n",
       "      <td>220</td>\n",
       "      <td>1</td>\n",
       "      <td>2500.000000</td>\n",
       "      <td>3</td>\n",
       "      <td>4</td>\n",
       "      <td>3</td>\n",
       "      <td>343</td>\n",
       "    </tr>\n",
       "  </tbody>\n",
       "</table>\n",
       "</div>"
      ],
      "text/plain": [
       "       rContactID  recency  frequency  monetary_value  r_quartile  f_quartile  \\\n",
       "8313        63716       86          1      150.500000           2           4   \n",
       "16210      146492       10          0      500.000000           1           4   \n",
       "2905        16663       34          0    15000.000000           2           4   \n",
       "6164        44887      284          1     1000.000000           4           4   \n",
       "15733      139778       83          1      250.000000           2           4   \n",
       "9289        72427      254          1     7400.000000           4           4   \n",
       "1129         4903      454          1      500.000000           4           4   \n",
       "7507        56817      131          2      800.000000           3           2   \n",
       "13098      109543      181          6    15115.571429           3           1   \n",
       "16759      152837        2          1    70000.000000           1           4   \n",
       "3470        20901      301          1      101.000000           4           4   \n",
       "11628       94467      283          0      400.000000           4           4   \n",
       "5205        35843       37         10    79367.818182           2           1   \n",
       "16184      146134       23          0     5000.000000           1           4   \n",
       "3911        24385      430          1     5000.000000           4           4   \n",
       "10469       82883      264          1     7000.000000           4           4   \n",
       "17135      157361       34          1     3000.000000           2           4   \n",
       "16314      147624      104          0      200.000000           2           4   \n",
       "15665      138650      110          0     4000.000000           2           4   \n",
       "13062      109168      134          1     2600.000000           3           4   \n",
       "8229        62948      362          1     2500.000000           4           4   \n",
       "12791      106511       74          6    16840.000000           2           1   \n",
       "11401       91988      153          1     5000.000000           3           4   \n",
       "13962      119203      177          0     1800.000000           3           4   \n",
       "7262        54830      352          7    22800.000000           4           1   \n",
       "3074        17938       54          3      225.250000           2           1   \n",
       "15605      137932      126          1     1000.000000           3           4   \n",
       "2664        14987      312          2    39000.000000           4           2   \n",
       "8470        64919      261          2    46666.666667           4           2   \n",
       "7432        56226      220          1     2500.000000           3           4   \n",
       "\n",
       "       m_quartile RFMScore  \n",
       "8313            4      244  \n",
       "16210           4      144  \n",
       "2905            2      242  \n",
       "6164            3      443  \n",
       "15733           4      244  \n",
       "9289            2      442  \n",
       "1129            4      444  \n",
       "7507            4      324  \n",
       "13098           2      312  \n",
       "16759           1      141  \n",
       "3470            4      444  \n",
       "11628           4      444  \n",
       "5205            1      211  \n",
       "16184           3      143  \n",
       "3911            3      443  \n",
       "10469           2      442  \n",
       "17135           3      243  \n",
       "16314           4      244  \n",
       "15665           3      243  \n",
       "13062           3      343  \n",
       "8229            3      443  \n",
       "12791           2      212  \n",
       "11401           3      343  \n",
       "13962           3      343  \n",
       "7262            2      412  \n",
       "3074            4      214  \n",
       "15605           3      343  \n",
       "2664            1      421  \n",
       "8470            1      421  \n",
       "7432            3      343  "
      ]
     },
     "execution_count": 39,
     "metadata": {},
     "output_type": "execute_result"
    }
   ],
   "source": [
    "rfmTable.sample(30)"
   ]
  },
  {
   "cell_type": "code",
   "execution_count": 38,
   "metadata": {},
   "outputs": [],
   "source": [
    "#rfm Analysis"
   ]
  },
  {
   "cell_type": "markdown",
   "metadata": {},
   "source": [
    "# m good (1,2) and f bad (4,3)"
   ]
  },
  {
   "cell_type": "code",
   "execution_count": 63,
   "metadata": {},
   "outputs": [],
   "source": [
    " m12_f43=rfmTable.query('(m_quartile == \"1\" or m_quartile == \"2\") and (f_quartile == \"4\" or f_quartile == \"3\")')"
   ]
  },
  {
   "cell_type": "code",
   "execution_count": 74,
   "metadata": {},
   "outputs": [],
   "source": [
    "m12_f43 = m12_f43.merge(sav[['rContactID','saving_duration']], on= 'rContactID', how='inner')"
   ]
  },
  {
   "cell_type": "code",
   "execution_count": 87,
   "metadata": {},
   "outputs": [
    {
     "data": {
      "text/html": [
       "<div>\n",
       "<style scoped>\n",
       "    .dataframe tbody tr th:only-of-type {\n",
       "        vertical-align: middle;\n",
       "    }\n",
       "\n",
       "    .dataframe tbody tr th {\n",
       "        vertical-align: top;\n",
       "    }\n",
       "\n",
       "    .dataframe thead th {\n",
       "        text-align: right;\n",
       "    }\n",
       "</style>\n",
       "<table border=\"1\" class=\"dataframe\">\n",
       "  <thead>\n",
       "    <tr style=\"text-align: right;\">\n",
       "      <th></th>\n",
       "      <th>rContactID</th>\n",
       "      <th>Account_Number</th>\n",
       "      <th>Balance</th>\n",
       "      <th>Transaction_Type</th>\n",
       "      <th>Total_Payment</th>\n",
       "      <th>Transaction_ID</th>\n",
       "      <th>Status</th>\n",
       "      <th>saving_cycle</th>\n",
       "      <th>transaction_date</th>\n",
       "      <th>post_balance</th>\n",
       "      <th>prev_balance</th>\n",
       "      <th>is_less_200Ar_and_withdrawed</th>\n",
       "      <th>cycle</th>\n",
       "      <th>nth_cycle</th>\n",
       "      <th>mean_post_balance_per_cycle</th>\n",
       "      <th>last_payment</th>\n",
       "    </tr>\n",
       "  </thead>\n",
       "  <tbody>\n",
       "    <tr>\n",
       "      <th>1299</th>\n",
       "      <td>46</td>\n",
       "      <td>00000000023</td>\n",
       "      <td>20000.0</td>\n",
       "      <td>WalletToAccount</td>\n",
       "      <td>20000.0</td>\n",
       "      <td>152307184196319735</td>\n",
       "      <td>Success</td>\n",
       "      <td>1</td>\n",
       "      <td>2018-04-07 06:31:39.420</td>\n",
       "      <td>20000.0</td>\n",
       "      <td>0.0</td>\n",
       "      <td>0</td>\n",
       "      <td>0</td>\n",
       "      <td>0</td>\n",
       "      <td>20000.0</td>\n",
       "      <td>2018-04-07 06:31:39.420</td>\n",
       "    </tr>\n",
       "  </tbody>\n",
       "</table>\n",
       "</div>"
      ],
      "text/plain": [
       "      rContactID Account_Number  Balance Transaction_Type  Total_Payment  \\\n",
       "1299          46    00000000023  20000.0  WalletToAccount        20000.0   \n",
       "\n",
       "          Transaction_ID   Status  saving_cycle        transaction_date  \\\n",
       "1299  152307184196319735  Success             1 2018-04-07 06:31:39.420   \n",
       "\n",
       "      post_balance  prev_balance  is_less_200Ar_and_withdrawed  cycle  \\\n",
       "1299       20000.0           0.0                             0      0   \n",
       "\n",
       "      nth_cycle  mean_post_balance_per_cycle            last_payment  \n",
       "1299          0                      20000.0 2018-04-07 06:31:39.420  "
      ]
     },
     "execution_count": 87,
     "metadata": {},
     "output_type": "execute_result"
    }
   ],
   "source": [
    "savings[savings['rContactID']==46]"
   ]
  },
  {
   "cell_type": "code",
   "execution_count": 86,
   "metadata": {},
   "outputs": [
    {
     "data": {
      "text/html": [
       "<div>\n",
       "<style scoped>\n",
       "    .dataframe tbody tr th:only-of-type {\n",
       "        vertical-align: middle;\n",
       "    }\n",
       "\n",
       "    .dataframe tbody tr th {\n",
       "        vertical-align: top;\n",
       "    }\n",
       "\n",
       "    .dataframe thead th {\n",
       "        text-align: right;\n",
       "    }\n",
       "</style>\n",
       "<table border=\"1\" class=\"dataframe\">\n",
       "  <thead>\n",
       "    <tr style=\"text-align: right;\">\n",
       "      <th></th>\n",
       "      <th>rContactID</th>\n",
       "      <th>saving_duration</th>\n",
       "      <th>monetary_value</th>\n",
       "      <th>RFMScore</th>\n",
       "    </tr>\n",
       "  </thead>\n",
       "  <tbody>\n",
       "    <tr>\n",
       "      <th>0</th>\n",
       "      <td>26</td>\n",
       "      <td>432</td>\n",
       "      <td>1504500.0</td>\n",
       "      <td>241</td>\n",
       "    </tr>\n",
       "    <tr>\n",
       "      <th>1</th>\n",
       "      <td>31</td>\n",
       "      <td>9</td>\n",
       "      <td>100000.0</td>\n",
       "      <td>441</td>\n",
       "    </tr>\n",
       "    <tr>\n",
       "      <th>2</th>\n",
       "      <td>34</td>\n",
       "      <td>114</td>\n",
       "      <td>6000.0</td>\n",
       "      <td>442</td>\n",
       "    </tr>\n",
       "    <tr>\n",
       "      <th>3</th>\n",
       "      <td>40</td>\n",
       "      <td>288</td>\n",
       "      <td>182700.0</td>\n",
       "      <td>341</td>\n",
       "    </tr>\n",
       "    <tr>\n",
       "      <th>4</th>\n",
       "      <td>42</td>\n",
       "      <td>82</td>\n",
       "      <td>8250.0</td>\n",
       "      <td>442</td>\n",
       "    </tr>\n",
       "    <tr>\n",
       "      <th>5</th>\n",
       "      <td>46</td>\n",
       "      <td>0</td>\n",
       "      <td>20000.0</td>\n",
       "      <td>442</td>\n",
       "    </tr>\n",
       "    <tr>\n",
       "      <th>6</th>\n",
       "      <td>47</td>\n",
       "      <td>99</td>\n",
       "      <td>350000.0</td>\n",
       "      <td>441</td>\n",
       "    </tr>\n",
       "    <tr>\n",
       "      <th>7</th>\n",
       "      <td>59</td>\n",
       "      <td>6</td>\n",
       "      <td>30000.0</td>\n",
       "      <td>441</td>\n",
       "    </tr>\n",
       "    <tr>\n",
       "      <th>8</th>\n",
       "      <td>65</td>\n",
       "      <td>24</td>\n",
       "      <td>5050.0</td>\n",
       "      <td>442</td>\n",
       "    </tr>\n",
       "    <tr>\n",
       "      <th>9</th>\n",
       "      <td>66</td>\n",
       "      <td>0</td>\n",
       "      <td>10000.0</td>\n",
       "      <td>442</td>\n",
       "    </tr>\n",
       "    <tr>\n",
       "      <th>10</th>\n",
       "      <td>70</td>\n",
       "      <td>443</td>\n",
       "      <td>2452000.0</td>\n",
       "      <td>241</td>\n",
       "    </tr>\n",
       "    <tr>\n",
       "      <th>11</th>\n",
       "      <td>80</td>\n",
       "      <td>453</td>\n",
       "      <td>24000.0</td>\n",
       "      <td>242</td>\n",
       "    </tr>\n",
       "    <tr>\n",
       "      <th>12</th>\n",
       "      <td>87</td>\n",
       "      <td>459</td>\n",
       "      <td>2299000.0</td>\n",
       "      <td>241</td>\n",
       "    </tr>\n",
       "    <tr>\n",
       "      <th>13</th>\n",
       "      <td>90</td>\n",
       "      <td>434</td>\n",
       "      <td>101909.0</td>\n",
       "      <td>241</td>\n",
       "    </tr>\n",
       "    <tr>\n",
       "      <th>14</th>\n",
       "      <td>91</td>\n",
       "      <td>1</td>\n",
       "      <td>7000.0</td>\n",
       "      <td>442</td>\n",
       "    </tr>\n",
       "    <tr>\n",
       "      <th>15</th>\n",
       "      <td>102</td>\n",
       "      <td>40</td>\n",
       "      <td>250050.0</td>\n",
       "      <td>341</td>\n",
       "    </tr>\n",
       "    <tr>\n",
       "      <th>16</th>\n",
       "      <td>109</td>\n",
       "      <td>0</td>\n",
       "      <td>10000.0</td>\n",
       "      <td>442</td>\n",
       "    </tr>\n",
       "    <tr>\n",
       "      <th>17</th>\n",
       "      <td>117</td>\n",
       "      <td>363</td>\n",
       "      <td>25000.0</td>\n",
       "      <td>342</td>\n",
       "    </tr>\n",
       "    <tr>\n",
       "      <th>18</th>\n",
       "      <td>121</td>\n",
       "      <td>0</td>\n",
       "      <td>30500.0</td>\n",
       "      <td>441</td>\n",
       "    </tr>\n",
       "    <tr>\n",
       "      <th>19</th>\n",
       "      <td>124</td>\n",
       "      <td>492</td>\n",
       "      <td>976500.0</td>\n",
       "      <td>141</td>\n",
       "    </tr>\n",
       "    <tr>\n",
       "      <th>20</th>\n",
       "      <td>136</td>\n",
       "      <td>0</td>\n",
       "      <td>10000.0</td>\n",
       "      <td>442</td>\n",
       "    </tr>\n",
       "    <tr>\n",
       "      <th>21</th>\n",
       "      <td>137</td>\n",
       "      <td>500</td>\n",
       "      <td>55256.0</td>\n",
       "      <td>141</td>\n",
       "    </tr>\n",
       "    <tr>\n",
       "      <th>22</th>\n",
       "      <td>142</td>\n",
       "      <td>473</td>\n",
       "      <td>67875.0</td>\n",
       "      <td>241</td>\n",
       "    </tr>\n",
       "    <tr>\n",
       "      <th>23</th>\n",
       "      <td>152</td>\n",
       "      <td>348</td>\n",
       "      <td>105859.0</td>\n",
       "      <td>341</td>\n",
       "    </tr>\n",
       "    <tr>\n",
       "      <th>24</th>\n",
       "      <td>165</td>\n",
       "      <td>478</td>\n",
       "      <td>6500.0</td>\n",
       "      <td>142</td>\n",
       "    </tr>\n",
       "    <tr>\n",
       "      <th>25</th>\n",
       "      <td>180</td>\n",
       "      <td>28</td>\n",
       "      <td>82200.0</td>\n",
       "      <td>441</td>\n",
       "    </tr>\n",
       "    <tr>\n",
       "      <th>26</th>\n",
       "      <td>184</td>\n",
       "      <td>406</td>\n",
       "      <td>20000.0</td>\n",
       "      <td>242</td>\n",
       "    </tr>\n",
       "    <tr>\n",
       "      <th>27</th>\n",
       "      <td>186</td>\n",
       "      <td>0</td>\n",
       "      <td>50000.0</td>\n",
       "      <td>441</td>\n",
       "    </tr>\n",
       "    <tr>\n",
       "      <th>28</th>\n",
       "      <td>187</td>\n",
       "      <td>32</td>\n",
       "      <td>9000.0</td>\n",
       "      <td>442</td>\n",
       "    </tr>\n",
       "    <tr>\n",
       "      <th>29</th>\n",
       "      <td>188</td>\n",
       "      <td>11</td>\n",
       "      <td>10300.0</td>\n",
       "      <td>442</td>\n",
       "    </tr>\n",
       "    <tr>\n",
       "      <th>...</th>\n",
       "      <td>...</td>\n",
       "      <td>...</td>\n",
       "      <td>...</td>\n",
       "      <td>...</td>\n",
       "    </tr>\n",
       "    <tr>\n",
       "      <th>4299</th>\n",
       "      <td>170033</td>\n",
       "      <td>0</td>\n",
       "      <td>62000.0</td>\n",
       "      <td>141</td>\n",
       "    </tr>\n",
       "    <tr>\n",
       "      <th>4300</th>\n",
       "      <td>170102</td>\n",
       "      <td>8</td>\n",
       "      <td>20000.0</td>\n",
       "      <td>142</td>\n",
       "    </tr>\n",
       "    <tr>\n",
       "      <th>4301</th>\n",
       "      <td>170107</td>\n",
       "      <td>8</td>\n",
       "      <td>102500.0</td>\n",
       "      <td>141</td>\n",
       "    </tr>\n",
       "    <tr>\n",
       "      <th>4302</th>\n",
       "      <td>170109</td>\n",
       "      <td>1</td>\n",
       "      <td>30000.0</td>\n",
       "      <td>141</td>\n",
       "    </tr>\n",
       "    <tr>\n",
       "      <th>4303</th>\n",
       "      <td>170125</td>\n",
       "      <td>2</td>\n",
       "      <td>7850.0</td>\n",
       "      <td>142</td>\n",
       "    </tr>\n",
       "    <tr>\n",
       "      <th>4304</th>\n",
       "      <td>170155</td>\n",
       "      <td>4</td>\n",
       "      <td>7000.0</td>\n",
       "      <td>142</td>\n",
       "    </tr>\n",
       "    <tr>\n",
       "      <th>4305</th>\n",
       "      <td>170306</td>\n",
       "      <td>0</td>\n",
       "      <td>15000.0</td>\n",
       "      <td>142</td>\n",
       "    </tr>\n",
       "    <tr>\n",
       "      <th>4306</th>\n",
       "      <td>170327</td>\n",
       "      <td>0</td>\n",
       "      <td>19200.0</td>\n",
       "      <td>142</td>\n",
       "    </tr>\n",
       "    <tr>\n",
       "      <th>4307</th>\n",
       "      <td>170350</td>\n",
       "      <td>0</td>\n",
       "      <td>1000000.0</td>\n",
       "      <td>141</td>\n",
       "    </tr>\n",
       "    <tr>\n",
       "      <th>4308</th>\n",
       "      <td>170352</td>\n",
       "      <td>3</td>\n",
       "      <td>69000.0</td>\n",
       "      <td>141</td>\n",
       "    </tr>\n",
       "    <tr>\n",
       "      <th>4309</th>\n",
       "      <td>170420</td>\n",
       "      <td>3</td>\n",
       "      <td>500000.0</td>\n",
       "      <td>141</td>\n",
       "    </tr>\n",
       "    <tr>\n",
       "      <th>4310</th>\n",
       "      <td>170426</td>\n",
       "      <td>3</td>\n",
       "      <td>62385.0</td>\n",
       "      <td>141</td>\n",
       "    </tr>\n",
       "    <tr>\n",
       "      <th>4311</th>\n",
       "      <td>170508</td>\n",
       "      <td>3</td>\n",
       "      <td>58000.0</td>\n",
       "      <td>141</td>\n",
       "    </tr>\n",
       "    <tr>\n",
       "      <th>4312</th>\n",
       "      <td>170544</td>\n",
       "      <td>4</td>\n",
       "      <td>39500.0</td>\n",
       "      <td>141</td>\n",
       "    </tr>\n",
       "    <tr>\n",
       "      <th>4313</th>\n",
       "      <td>170546</td>\n",
       "      <td>2</td>\n",
       "      <td>9000.0</td>\n",
       "      <td>142</td>\n",
       "    </tr>\n",
       "    <tr>\n",
       "      <th>4314</th>\n",
       "      <td>170589</td>\n",
       "      <td>3</td>\n",
       "      <td>6500.0</td>\n",
       "      <td>142</td>\n",
       "    </tr>\n",
       "    <tr>\n",
       "      <th>4315</th>\n",
       "      <td>170701</td>\n",
       "      <td>0</td>\n",
       "      <td>199980.0</td>\n",
       "      <td>141</td>\n",
       "    </tr>\n",
       "    <tr>\n",
       "      <th>4316</th>\n",
       "      <td>170725</td>\n",
       "      <td>4</td>\n",
       "      <td>28150.0</td>\n",
       "      <td>141</td>\n",
       "    </tr>\n",
       "    <tr>\n",
       "      <th>4317</th>\n",
       "      <td>170838</td>\n",
       "      <td>0</td>\n",
       "      <td>50000.0</td>\n",
       "      <td>141</td>\n",
       "    </tr>\n",
       "    <tr>\n",
       "      <th>4318</th>\n",
       "      <td>170862</td>\n",
       "      <td>4</td>\n",
       "      <td>45200.0</td>\n",
       "      <td>141</td>\n",
       "    </tr>\n",
       "    <tr>\n",
       "      <th>4319</th>\n",
       "      <td>171017</td>\n",
       "      <td>1</td>\n",
       "      <td>46030.0</td>\n",
       "      <td>141</td>\n",
       "    </tr>\n",
       "    <tr>\n",
       "      <th>4320</th>\n",
       "      <td>171137</td>\n",
       "      <td>0</td>\n",
       "      <td>10000.0</td>\n",
       "      <td>142</td>\n",
       "    </tr>\n",
       "    <tr>\n",
       "      <th>4321</th>\n",
       "      <td>171295</td>\n",
       "      <td>0</td>\n",
       "      <td>302365.0</td>\n",
       "      <td>141</td>\n",
       "    </tr>\n",
       "    <tr>\n",
       "      <th>4322</th>\n",
       "      <td>171345</td>\n",
       "      <td>0</td>\n",
       "      <td>10000.0</td>\n",
       "      <td>142</td>\n",
       "    </tr>\n",
       "    <tr>\n",
       "      <th>4323</th>\n",
       "      <td>171371</td>\n",
       "      <td>0</td>\n",
       "      <td>50000.0</td>\n",
       "      <td>141</td>\n",
       "    </tr>\n",
       "    <tr>\n",
       "      <th>4324</th>\n",
       "      <td>171403</td>\n",
       "      <td>0</td>\n",
       "      <td>6000.0</td>\n",
       "      <td>142</td>\n",
       "    </tr>\n",
       "    <tr>\n",
       "      <th>4325</th>\n",
       "      <td>171460</td>\n",
       "      <td>1</td>\n",
       "      <td>39915.0</td>\n",
       "      <td>141</td>\n",
       "    </tr>\n",
       "    <tr>\n",
       "      <th>4326</th>\n",
       "      <td>171503</td>\n",
       "      <td>0</td>\n",
       "      <td>100000.0</td>\n",
       "      <td>141</td>\n",
       "    </tr>\n",
       "    <tr>\n",
       "      <th>4327</th>\n",
       "      <td>171541</td>\n",
       "      <td>0</td>\n",
       "      <td>50200.0</td>\n",
       "      <td>141</td>\n",
       "    </tr>\n",
       "    <tr>\n",
       "      <th>4328</th>\n",
       "      <td>171585</td>\n",
       "      <td>1</td>\n",
       "      <td>200000.0</td>\n",
       "      <td>141</td>\n",
       "    </tr>\n",
       "  </tbody>\n",
       "</table>\n",
       "<p>4329 rows × 4 columns</p>\n",
       "</div>"
      ],
      "text/plain": [
       "      rContactID saving_duration  monetary_value RFMScore\n",
       "0             26             432       1504500.0      241\n",
       "1             31               9        100000.0      441\n",
       "2             34             114          6000.0      442\n",
       "3             40             288        182700.0      341\n",
       "4             42              82          8250.0      442\n",
       "5             46               0         20000.0      442\n",
       "6             47              99        350000.0      441\n",
       "7             59               6         30000.0      441\n",
       "8             65              24          5050.0      442\n",
       "9             66               0         10000.0      442\n",
       "10            70             443       2452000.0      241\n",
       "11            80             453         24000.0      242\n",
       "12            87             459       2299000.0      241\n",
       "13            90             434        101909.0      241\n",
       "14            91               1          7000.0      442\n",
       "15           102              40        250050.0      341\n",
       "16           109               0         10000.0      442\n",
       "17           117             363         25000.0      342\n",
       "18           121               0         30500.0      441\n",
       "19           124             492        976500.0      141\n",
       "20           136               0         10000.0      442\n",
       "21           137             500         55256.0      141\n",
       "22           142             473         67875.0      241\n",
       "23           152             348        105859.0      341\n",
       "24           165             478          6500.0      142\n",
       "25           180              28         82200.0      441\n",
       "26           184             406         20000.0      242\n",
       "27           186               0         50000.0      441\n",
       "28           187              32          9000.0      442\n",
       "29           188              11         10300.0      442\n",
       "...          ...             ...             ...      ...\n",
       "4299      170033               0         62000.0      141\n",
       "4300      170102               8         20000.0      142\n",
       "4301      170107               8        102500.0      141\n",
       "4302      170109               1         30000.0      141\n",
       "4303      170125               2          7850.0      142\n",
       "4304      170155               4          7000.0      142\n",
       "4305      170306               0         15000.0      142\n",
       "4306      170327               0         19200.0      142\n",
       "4307      170350               0       1000000.0      141\n",
       "4308      170352               3         69000.0      141\n",
       "4309      170420               3        500000.0      141\n",
       "4310      170426               3         62385.0      141\n",
       "4311      170508               3         58000.0      141\n",
       "4312      170544               4         39500.0      141\n",
       "4313      170546               2          9000.0      142\n",
       "4314      170589               3          6500.0      142\n",
       "4315      170701               0        199980.0      141\n",
       "4316      170725               4         28150.0      141\n",
       "4317      170838               0         50000.0      141\n",
       "4318      170862               4         45200.0      141\n",
       "4319      171017               1         46030.0      141\n",
       "4320      171137               0         10000.0      142\n",
       "4321      171295               0        302365.0      141\n",
       "4322      171345               0         10000.0      142\n",
       "4323      171371               0         50000.0      141\n",
       "4324      171403               0          6000.0      142\n",
       "4325      171460               1         39915.0      141\n",
       "4326      171503               0        100000.0      141\n",
       "4327      171541               0         50200.0      141\n",
       "4328      171585               1        200000.0      141\n",
       "\n",
       "[4329 rows x 4 columns]"
      ]
     },
     "execution_count": 86,
     "metadata": {},
     "output_type": "execute_result"
    }
   ],
   "source": [
    "m12_f43[['rContactID','saving_duration','monetary_value','RFMScore']]"
   ]
  },
  {
   "cell_type": "code",
   "execution_count": 80,
   "metadata": {},
   "outputs": [
    {
     "data": {
      "text/html": [
       "<div>\n",
       "<style scoped>\n",
       "    .dataframe tbody tr th:only-of-type {\n",
       "        vertical-align: middle;\n",
       "    }\n",
       "\n",
       "    .dataframe tbody tr th {\n",
       "        vertical-align: top;\n",
       "    }\n",
       "\n",
       "    .dataframe thead th {\n",
       "        text-align: right;\n",
       "    }\n",
       "</style>\n",
       "<table border=\"1\" class=\"dataframe\">\n",
       "  <thead>\n",
       "    <tr style=\"text-align: right;\">\n",
       "      <th></th>\n",
       "      <th>recency</th>\n",
       "      <th>frequency</th>\n",
       "      <th>monetary_value</th>\n",
       "    </tr>\n",
       "  </thead>\n",
       "  <tbody>\n",
       "    <tr>\n",
       "      <th>count</th>\n",
       "      <td>4329.000000</td>\n",
       "      <td>4329.000000</td>\n",
       "      <td>4.329000e+03</td>\n",
       "    </tr>\n",
       "    <tr>\n",
       "      <th>mean</th>\n",
       "      <td>156.022869</td>\n",
       "      <td>0.589282</td>\n",
       "      <td>1.024003e+05</td>\n",
       "    </tr>\n",
       "    <tr>\n",
       "      <th>std</th>\n",
       "      <td>148.962063</td>\n",
       "      <td>0.492021</td>\n",
       "      <td>3.611696e+05</td>\n",
       "    </tr>\n",
       "    <tr>\n",
       "      <th>min</th>\n",
       "      <td>2.000000</td>\n",
       "      <td>0.000000</td>\n",
       "      <td>5.000500e+03</td>\n",
       "    </tr>\n",
       "    <tr>\n",
       "      <th>25%</th>\n",
       "      <td>18.000000</td>\n",
       "      <td>0.000000</td>\n",
       "      <td>1.123500e+04</td>\n",
       "    </tr>\n",
       "    <tr>\n",
       "      <th>50%</th>\n",
       "      <td>107.000000</td>\n",
       "      <td>1.000000</td>\n",
       "      <td>2.930000e+04</td>\n",
       "    </tr>\n",
       "    <tr>\n",
       "      <th>75%</th>\n",
       "      <td>278.000000</td>\n",
       "      <td>1.000000</td>\n",
       "      <td>7.710000e+04</td>\n",
       "    </tr>\n",
       "    <tr>\n",
       "      <th>max</th>\n",
       "      <td>510.000000</td>\n",
       "      <td>1.000000</td>\n",
       "      <td>9.295200e+06</td>\n",
       "    </tr>\n",
       "  </tbody>\n",
       "</table>\n",
       "</div>"
      ],
      "text/plain": [
       "           recency    frequency  monetary_value\n",
       "count  4329.000000  4329.000000    4.329000e+03\n",
       "mean    156.022869     0.589282    1.024003e+05\n",
       "std     148.962063     0.492021    3.611696e+05\n",
       "min       2.000000     0.000000    5.000500e+03\n",
       "25%      18.000000     0.000000    1.123500e+04\n",
       "50%     107.000000     1.000000    2.930000e+04\n",
       "75%     278.000000     1.000000    7.710000e+04\n",
       "max     510.000000     1.000000    9.295200e+06"
      ]
     },
     "execution_count": 80,
     "metadata": {},
     "output_type": "execute_result"
    }
   ],
   "source": [
    "m12_f43[['recency','frequency','monetary_value','saving_duration']].describe()"
   ]
  },
  {
   "cell_type": "code",
   "execution_count": 64,
   "metadata": {},
   "outputs": [
    {
     "data": {
      "text/html": [
       "<div>\n",
       "<style scoped>\n",
       "    .dataframe tbody tr th:only-of-type {\n",
       "        vertical-align: middle;\n",
       "    }\n",
       "\n",
       "    .dataframe tbody tr th {\n",
       "        vertical-align: top;\n",
       "    }\n",
       "\n",
       "    .dataframe thead th {\n",
       "        text-align: right;\n",
       "    }\n",
       "</style>\n",
       "<table border=\"1\" class=\"dataframe\">\n",
       "  <thead>\n",
       "    <tr style=\"text-align: right;\">\n",
       "      <th></th>\n",
       "      <th>rContactID</th>\n",
       "      <th>recency</th>\n",
       "      <th>frequency</th>\n",
       "      <th>monetary_value</th>\n",
       "      <th>r_quartile</th>\n",
       "      <th>f_quartile</th>\n",
       "      <th>m_quartile</th>\n",
       "    </tr>\n",
       "  </thead>\n",
       "  <tbody>\n",
       "    <tr>\n",
       "      <th>count</th>\n",
       "      <td>4329.000000</td>\n",
       "      <td>4329.000000</td>\n",
       "      <td>4329.000000</td>\n",
       "      <td>4.329000e+03</td>\n",
       "      <td>4329.000000</td>\n",
       "      <td>4329.0</td>\n",
       "      <td>4329.000000</td>\n",
       "    </tr>\n",
       "    <tr>\n",
       "      <th>mean</th>\n",
       "      <td>72339.122430</td>\n",
       "      <td>156.022869</td>\n",
       "      <td>0.589282</td>\n",
       "      <td>1.024003e+05</td>\n",
       "      <td>2.477477</td>\n",
       "      <td>4.0</td>\n",
       "      <td>1.482559</td>\n",
       "    </tr>\n",
       "    <tr>\n",
       "      <th>std</th>\n",
       "      <td>51064.969101</td>\n",
       "      <td>148.962063</td>\n",
       "      <td>0.492021</td>\n",
       "      <td>3.611696e+05</td>\n",
       "      <td>1.203435</td>\n",
       "      <td>0.0</td>\n",
       "      <td>0.499753</td>\n",
       "    </tr>\n",
       "    <tr>\n",
       "      <th>min</th>\n",
       "      <td>26.000000</td>\n",
       "      <td>2.000000</td>\n",
       "      <td>0.000000</td>\n",
       "      <td>5.000500e+03</td>\n",
       "      <td>1.000000</td>\n",
       "      <td>4.0</td>\n",
       "      <td>1.000000</td>\n",
       "    </tr>\n",
       "    <tr>\n",
       "      <th>25%</th>\n",
       "      <td>26437.000000</td>\n",
       "      <td>18.000000</td>\n",
       "      <td>0.000000</td>\n",
       "      <td>1.123500e+04</td>\n",
       "      <td>1.000000</td>\n",
       "      <td>4.0</td>\n",
       "      <td>1.000000</td>\n",
       "    </tr>\n",
       "    <tr>\n",
       "      <th>50%</th>\n",
       "      <td>65428.000000</td>\n",
       "      <td>107.000000</td>\n",
       "      <td>1.000000</td>\n",
       "      <td>2.930000e+04</td>\n",
       "      <td>2.000000</td>\n",
       "      <td>4.0</td>\n",
       "      <td>1.000000</td>\n",
       "    </tr>\n",
       "    <tr>\n",
       "      <th>75%</th>\n",
       "      <td>115157.000000</td>\n",
       "      <td>278.000000</td>\n",
       "      <td>1.000000</td>\n",
       "      <td>7.710000e+04</td>\n",
       "      <td>4.000000</td>\n",
       "      <td>4.0</td>\n",
       "      <td>2.000000</td>\n",
       "    </tr>\n",
       "    <tr>\n",
       "      <th>max</th>\n",
       "      <td>171585.000000</td>\n",
       "      <td>510.000000</td>\n",
       "      <td>1.000000</td>\n",
       "      <td>9.295200e+06</td>\n",
       "      <td>4.000000</td>\n",
       "      <td>4.0</td>\n",
       "      <td>2.000000</td>\n",
       "    </tr>\n",
       "  </tbody>\n",
       "</table>\n",
       "</div>"
      ],
      "text/plain": [
       "          rContactID      recency    frequency  monetary_value   r_quartile  \\\n",
       "count    4329.000000  4329.000000  4329.000000    4.329000e+03  4329.000000   \n",
       "mean    72339.122430   156.022869     0.589282    1.024003e+05     2.477477   \n",
       "std     51064.969101   148.962063     0.492021    3.611696e+05     1.203435   \n",
       "min        26.000000     2.000000     0.000000    5.000500e+03     1.000000   \n",
       "25%     26437.000000    18.000000     0.000000    1.123500e+04     1.000000   \n",
       "50%     65428.000000   107.000000     1.000000    2.930000e+04     2.000000   \n",
       "75%    115157.000000   278.000000     1.000000    7.710000e+04     4.000000   \n",
       "max    171585.000000   510.000000     1.000000    9.295200e+06     4.000000   \n",
       "\n",
       "       f_quartile   m_quartile  \n",
       "count      4329.0  4329.000000  \n",
       "mean          4.0     1.482559  \n",
       "std           0.0     0.499753  \n",
       "min           4.0     1.000000  \n",
       "25%           4.0     1.000000  \n",
       "50%           4.0     1.000000  \n",
       "75%           4.0     2.000000  \n",
       "max           4.0     2.000000  "
      ]
     },
     "execution_count": 64,
     "metadata": {},
     "output_type": "execute_result"
    }
   ],
   "source": [
    "m12_f43.describe()"
   ]
  },
  {
   "cell_type": "code",
   "execution_count": null,
   "metadata": {},
   "outputs": [],
   "source": []
  },
  {
   "cell_type": "code",
   "execution_count": 40,
   "metadata": {},
   "outputs": [
    {
     "data": {
      "text/html": [
       "<div>\n",
       "<style scoped>\n",
       "    .dataframe tbody tr th:only-of-type {\n",
       "        vertical-align: middle;\n",
       "    }\n",
       "\n",
       "    .dataframe tbody tr th {\n",
       "        vertical-align: top;\n",
       "    }\n",
       "\n",
       "    .dataframe thead th {\n",
       "        text-align: right;\n",
       "    }\n",
       "</style>\n",
       "<table border=\"1\" class=\"dataframe\">\n",
       "  <thead>\n",
       "    <tr style=\"text-align: right;\">\n",
       "      <th></th>\n",
       "      <th>rContactID</th>\n",
       "      <th>recency</th>\n",
       "      <th>frequency</th>\n",
       "      <th>monetary_value</th>\n",
       "      <th>r_quartile</th>\n",
       "      <th>f_quartile</th>\n",
       "      <th>m_quartile</th>\n",
       "      <th>RFMScore</th>\n",
       "    </tr>\n",
       "  </thead>\n",
       "  <tbody>\n",
       "    <tr>\n",
       "      <th>512</th>\n",
       "      <td>1628</td>\n",
       "      <td>458</td>\n",
       "      <td>1</td>\n",
       "      <td>1.0</td>\n",
       "      <td>4</td>\n",
       "      <td>4</td>\n",
       "      <td>4</td>\n",
       "      <td>444</td>\n",
       "    </tr>\n",
       "    <tr>\n",
       "      <th>1030</th>\n",
       "      <td>4361</td>\n",
       "      <td>494</td>\n",
       "      <td>0</td>\n",
       "      <td>1.0</td>\n",
       "      <td>4</td>\n",
       "      <td>4</td>\n",
       "      <td>4</td>\n",
       "      <td>444</td>\n",
       "    </tr>\n",
       "    <tr>\n",
       "      <th>1166</th>\n",
       "      <td>5235</td>\n",
       "      <td>235</td>\n",
       "      <td>1</td>\n",
       "      <td>1.0</td>\n",
       "      <td>3</td>\n",
       "      <td>4</td>\n",
       "      <td>4</td>\n",
       "      <td>344</td>\n",
       "    </tr>\n",
       "    <tr>\n",
       "      <th>1268</th>\n",
       "      <td>5783</td>\n",
       "      <td>487</td>\n",
       "      <td>1</td>\n",
       "      <td>1.0</td>\n",
       "      <td>4</td>\n",
       "      <td>4</td>\n",
       "      <td>4</td>\n",
       "      <td>444</td>\n",
       "    </tr>\n",
       "    <tr>\n",
       "      <th>4213</th>\n",
       "      <td>26983</td>\n",
       "      <td>368</td>\n",
       "      <td>2</td>\n",
       "      <td>1.0</td>\n",
       "      <td>4</td>\n",
       "      <td>2</td>\n",
       "      <td>4</td>\n",
       "      <td>424</td>\n",
       "    </tr>\n",
       "    <tr>\n",
       "      <th>4946</th>\n",
       "      <td>33666</td>\n",
       "      <td>222</td>\n",
       "      <td>1</td>\n",
       "      <td>1.0</td>\n",
       "      <td>3</td>\n",
       "      <td>4</td>\n",
       "      <td>4</td>\n",
       "      <td>344</td>\n",
       "    </tr>\n",
       "  </tbody>\n",
       "</table>\n",
       "</div>"
      ],
      "text/plain": [
       "      rContactID  recency  frequency  monetary_value  r_quartile  f_quartile  \\\n",
       "512         1628      458          1             1.0           4           4   \n",
       "1030        4361      494          0             1.0           4           4   \n",
       "1166        5235      235          1             1.0           3           4   \n",
       "1268        5783      487          1             1.0           4           4   \n",
       "4213       26983      368          2             1.0           4           2   \n",
       "4946       33666      222          1             1.0           3           4   \n",
       "\n",
       "      m_quartile RFMScore  \n",
       "512            4      444  \n",
       "1030           4      444  \n",
       "1166           4      344  \n",
       "1268           4      444  \n",
       "4213           4      424  \n",
       "4946           4      344  "
      ]
     },
     "execution_count": 40,
     "metadata": {},
     "output_type": "execute_result"
    }
   ],
   "source": [
    "rfmTable[(rfmTable['monetary_value']==1) &]"
   ]
  },
  {
   "cell_type": "code",
   "execution_count": 37,
   "metadata": {},
   "outputs": [
    {
     "data": {
      "text/plain": [
       "18067"
      ]
     },
     "execution_count": 37,
     "metadata": {},
     "output_type": "execute_result"
    }
   ],
   "source": [
    "savings.rContactID.nunique()"
   ]
  },
  {
   "cell_type": "code",
   "execution_count": null,
   "metadata": {},
   "outputs": [],
   "source": []
  },
  {
   "cell_type": "code",
   "execution_count": null,
   "metadata": {},
   "outputs": [],
   "source": []
  },
  {
   "cell_type": "markdown",
   "metadata": {},
   "source": [
    "# ----------------------------------------------------------------------------------------\n",
    "# ABC Testing"
   ]
  },
  {
   "cell_type": "code",
   "execution_count": null,
   "metadata": {},
   "outputs": [],
   "source": [
    "Atest = segmented_rfm[(segmented_rfm['f_quartile']== 4 ) | (segmented_rfm['f_quartile']== 3)] \n",
    "Atest.rContactID.nunique() #"
   ]
  },
  {
   "cell_type": "code",
   "execution_count": null,
   "metadata": {},
   "outputs": [],
   "source": [
    "Btest = rfmTable[(segmented_rfm['f_quartile']== 2 ) | (segmented_rfm['f_quartile']== 1)]\n",
    "Btest.rContactID.nunique()"
   ]
  },
  {
   "cell_type": "code",
   "execution_count": null,
   "metadata": {},
   "outputs": [],
   "source": [
    "Ctest = rfmTable[segmented_rfm['r_quartile']== 4]\n",
    "Ctest"
   ]
  },
  {
   "cell_type": "code",
   "execution_count": null,
   "metadata": {},
   "outputs": [],
   "source": [
    "Atest= Atest.append(Btest)"
   ]
  },
  {
   "cell_type": "code",
   "execution_count": null,
   "metadata": {},
   "outputs": [],
   "source": [
    "Atest = Atest.append(Ctest)"
   ]
  },
  {
   "cell_type": "code",
   "execution_count": null,
   "metadata": {},
   "outputs": [],
   "source": [
    "Atest.to_excel('ABC_testing.xlsx')"
   ]
  },
  {
   "cell_type": "code",
   "execution_count": null,
   "metadata": {},
   "outputs": [],
   "source": [
    "savings[['rContactID','saving_duration','cycle','post_balance','max_post_balance_per_cycle']][savings['rContactID']==26] #.Total_Payment.sum() #"
   ]
  },
  {
   "cell_type": "code",
   "execution_count": null,
   "metadata": {},
   "outputs": [],
   "source": []
  },
  {
   "cell_type": "code",
   "execution_count": null,
   "metadata": {
    "scrolled": true
   },
   "outputs": [],
   "source": [
    "f_score= []\n",
    "m_score= []\n",
    "r_score= []\n",
    "\n",
    "columns = ['frequency', 'monetary']\n",
    "scores_str =['f_score', 'm_score']\n",
    "scores = [f_score, m_score]\n",
    "\n",
    "for n in range(len(columns)):\n",
    "    # Order by columns: #those with high monetary values and high frequency will have higher score, that is good.\n",
    "    rfmTable = rfmTable.sort_values(columns, ascending=False)\n",
    "    \n",
    "    # Create new index\n",
    "    print(\"creating refs\")\n",
    "    refs = np.arange(1,savings.rContactID.nunique()+1)\n",
    "    rfmTable['refs'] = refs\n",
    "    step = np.floor(savings.rContactID.nunique()/5) \n",
    "    \n",
    "        # Add score\n",
    "    for i, row in rfmTable.iterrows(): # this syntax is because we did not reset index after groupby\n",
    "        if row['refs'] <= step:\n",
    "            scores[n].append(5)\n",
    "        elif row['refs'] > step and row['refs'] <= step*2:\n",
    "            scores[n].append(4)\n",
    "        elif row['refs'] > step*2 and row['refs'] <= step*3:\n",
    "            scores[n].append(3)\n",
    "        elif row['refs'] > step*3 and row['refs'] <= step*4:\n",
    "            scores[n].append(2)\n",
    "        else: \n",
    "            scores[n].append(1)\n",
    "            \n",
    "    # Create f_score column\n",
    "    rfmTable[scores_str[n]] = scores[n]\n",
    "    rfmTable.head(2)\n",
    "    \n",
    "# For recency, we do the opposite: most recents are better, so we order as ascending\n",
    "rfmTable = rfmTable.sort_values('recency', ascending=True)\n",
    "    \n",
    "# Recreate index\n",
    "refs = np.arange(1,savings.rContactID.nunique()+1)\n",
    "rfmTable['refs'] = refs \n",
    "    \n",
    "# Add score\n",
    "for i, row in rfmTable.iterrows():\n",
    "    if row['refs'] <= step:\n",
    "        r_score.append(5)\n",
    "    elif row['refs'] > step and row['refs'] <= step*2:\n",
    "        r_score.append(4)\n",
    "    elif row['refs'] > step*2 and row['refs'] <= step*3:\n",
    "        r_score.append(3)\n",
    "    elif row['refs'] > step*3 and row['refs'] <= step*4:\n",
    "        r_score.append(2)\n",
    "    else: \n",
    "        r_score.append(1)\n",
    "\n",
    "# Create r_score column\n",
    "rfmTable['r_score'] = r_score\n",
    "    \n",
    "rfmTableScores = rfmTable.drop(['frequency', 'monetary', 'recency', 'refs'], axis=1)\n",
    "\n",
    "rfmTableScores.head(5)"
   ]
  },
  {
   "cell_type": "code",
   "execution_count": null,
   "metadata": {},
   "outputs": [],
   "source": [
    "rfmTableScores[(rfmTableScores['m_score']==3) & (rfmTableScores['f_score']==5)]"
   ]
  },
  {
   "cell_type": "code",
   "execution_count": null,
   "metadata": {},
   "outputs": [],
   "source": [
    "savings[savings['rContactID']==114097].post_balance.max()"
   ]
  },
  {
   "cell_type": "code",
   "execution_count": null,
   "metadata": {},
   "outputs": [],
   "source": [
    "savings[savings['rContactID']==150600].post_balance.max()"
   ]
  },
  {
   "cell_type": "code",
   "execution_count": null,
   "metadata": {
    "scrolled": true
   },
   "outputs": [],
   "source": [
    "rfmTable"
   ]
  },
  {
   "cell_type": "code",
   "execution_count": null,
   "metadata": {},
   "outputs": [],
   "source": [
    "rfmTableScores.describe()"
   ]
  },
  {
   "cell_type": "code",
   "execution_count": null,
   "metadata": {},
   "outputs": [],
   "source": []
  },
  {
   "cell_type": "code",
   "execution_count": null,
   "metadata": {},
   "outputs": [],
   "source": []
  },
  {
   "cell_type": "code",
   "execution_count": null,
   "metadata": {},
   "outputs": [],
   "source": []
  },
  {
   "cell_type": "code",
   "execution_count": null,
   "metadata": {},
   "outputs": [],
   "source": []
  },
  {
   "cell_type": "code",
   "execution_count": null,
   "metadata": {},
   "outputs": [],
   "source": []
  },
  {
   "cell_type": "code",
   "execution_count": null,
   "metadata": {},
   "outputs": [],
   "source": []
  },
  {
   "cell_type": "markdown",
   "metadata": {},
   "source": [
    "# -------------------------------------------------------------------------------------------------------------------"
   ]
  },
  {
   "cell_type": "code",
   "execution_count": null,
   "metadata": {},
   "outputs": [],
   "source": []
  },
  {
   "cell_type": "code",
   "execution_count": null,
   "metadata": {},
   "outputs": [],
   "source": [
    "plt.style.use('seaborn-whitegrid')\n",
    "\n",
    "sav.hist(bins=10, figsize=(14,10), color='#E14906')\n",
    "plt.show()"
   ]
  },
  {
   "cell_type": "code",
   "execution_count": null,
   "metadata": {},
   "outputs": [],
   "source": [
    "plt.figure(figsize=(12,8))\n",
    "sns.scatterplot(sav['saving_duration'],y=(sav['balance']) )"
   ]
  },
  {
   "cell_type": "markdown",
   "metadata": {},
   "source": [
    "#### There are some worth tracking number of people with around 2,000,000 Ar savings. Need to explore them"
   ]
  },
  {
   "cell_type": "code",
   "execution_count": null,
   "metadata": {},
   "outputs": [],
   "source": []
  },
  {
   "cell_type": "code",
   "execution_count": null,
   "metadata": {},
   "outputs": [],
   "source": []
  },
  {
   "cell_type": "code",
   "execution_count": null,
   "metadata": {},
   "outputs": [],
   "source": []
  },
  {
   "cell_type": "code",
   "execution_count": null,
   "metadata": {},
   "outputs": [],
   "source": []
  },
  {
   "cell_type": "markdown",
   "metadata": {},
   "source": [
    "# - Study of the less than 200 Ar balance\n",
    "\n",
    "##### 12882 customers in this segment"
   ]
  },
  {
   "cell_type": "markdown",
   "metadata": {
    "scrolled": true
   },
   "source": [
    "#### We can see that 75% of our customers have less 0 Ar in their balance  withing 124 days while half of them have 0 Ar in their balance for 46 days. \n",
    "### 'This dataframe is useful for the customer segmentation for the Marketing campaign, and consider only the positive balance.'"
   ]
  },
  {
   "cell_type": "code",
   "execution_count": null,
   "metadata": {
    "scrolled": false
   },
   "outputs": [],
   "source": [
    "between0_200 =sav[(sav['balance']>=0)&(sav['balance']<=200)]"
   ]
  },
  {
   "cell_type": "code",
   "execution_count": null,
   "metadata": {},
   "outputs": [],
   "source": [
    "between0_200.describe()"
   ]
  },
  {
   "cell_type": "code",
   "execution_count": null,
   "metadata": {
    "scrolled": true
   },
   "outputs": [],
   "source": [
    "sns.distplot(between0_200.balance)"
   ]
  },
  {
   "cell_type": "code",
   "execution_count": null,
   "metadata": {
    "scrolled": true
   },
   "outputs": [],
   "source": [
    "sns.distplot(between0_200.cycle_max)"
   ]
  },
  {
   "cell_type": "code",
   "execution_count": null,
   "metadata": {},
   "outputs": [],
   "source": [
    "plt.hist(between0_200.saving_duration,bins = 20)"
   ]
  },
  {
   "cell_type": "markdown",
   "metadata": {},
   "source": [
    "### the 200 Ar customers will be asked to save 1000 Ar for a certain period, will give us about 12,862,000 Ar"
   ]
  },
  {
   "cell_type": "markdown",
   "metadata": {},
   "source": [
    "# A- Campagne de sensibilisation"
   ]
  },
  {
   "cell_type": "markdown",
   "metadata": {},
   "source": [
    "# A-1) between 200Ar and 2000 Ar\n",
    "\n",
    "##### Il y a 2093 clients  (75% of customeres have 1000 Ar, 1 cycle, and save within 82 days)"
   ]
  },
  {
   "cell_type": "code",
   "execution_count": null,
   "metadata": {},
   "outputs": [],
   "source": [
    "between200_2000 = sav[(sav['balance']>200) & (sav['balance']<=2000)]"
   ]
  },
  {
   "cell_type": "code",
   "execution_count": null,
   "metadata": {},
   "outputs": [],
   "source": [
    "between200_2000.describe()"
   ]
  },
  {
   "cell_type": "code",
   "execution_count": null,
   "metadata": {},
   "outputs": [],
   "source": [
    "2094*1000"
   ]
  },
  {
   "cell_type": "markdown",
   "metadata": {},
   "source": [
    "# A-2) between 2000 and 5000 Ar\n",
    "\n",
    "552 customers (75% have 5000 Ar, 159 days saving, and 1 cycle)"
   ]
  },
  {
   "cell_type": "code",
   "execution_count": null,
   "metadata": {},
   "outputs": [],
   "source": [
    "between2000_5000 = sav[(sav['balance']>2000) & (sav['balance']<=5000)]\n",
    "\n",
    "between2000_5000.describe()"
   ]
  },
  {
   "cell_type": "code",
   "execution_count": null,
   "metadata": {},
   "outputs": [],
   "source": []
  },
  {
   "cell_type": "code",
   "execution_count": null,
   "metadata": {},
   "outputs": [],
   "source": []
  },
  {
   "cell_type": "code",
   "execution_count": null,
   "metadata": {},
   "outputs": [],
   "source": []
  },
  {
   "cell_type": "code",
   "execution_count": null,
   "metadata": {},
   "outputs": [],
   "source": []
  },
  {
   "cell_type": "code",
   "execution_count": null,
   "metadata": {},
   "outputs": [],
   "source": []
  },
  {
   "cell_type": "markdown",
   "metadata": {},
   "source": [
    "# B- Campagne bonification du top5"
   ]
  },
  {
   "cell_type": "markdown",
   "metadata": {},
   "source": [
    "# B-1) between 5000 and 10000 Ar\n",
    "\n",
    "393 customers (75% have 10000 Ar, 1 cycle, and 154 saving days)"
   ]
  },
  {
   "cell_type": "code",
   "execution_count": null,
   "metadata": {},
   "outputs": [],
   "source": [
    "between5000_10000 = sav[(sav['balance']>5000) & (sav['balance']<=10000)]\n",
    "\n",
    "between5000_10000.describe()"
   ]
  },
  {
   "cell_type": "markdown",
   "metadata": {},
   "source": [
    "# B-2) between 10000 to 20000\n",
    "256 customers and 75% of them have 19625 Ar, and 2 cycle, 239 saving days"
   ]
  },
  {
   "cell_type": "code",
   "execution_count": null,
   "metadata": {},
   "outputs": [],
   "source": [
    "between10k_20k = sav[(sav['balance']>10000) & (sav['balance']<=20000)]\n",
    "between10k_20k.describe()"
   ]
  },
  {
   "cell_type": "markdown",
   "metadata": {},
   "source": [
    "# B-3) between 20000 and 40000\n",
    "192 customers, 50% have 30000 Ar, 99 days of saving duration"
   ]
  },
  {
   "cell_type": "code",
   "execution_count": null,
   "metadata": {},
   "outputs": [],
   "source": [
    "between20k_40k = sav[(sav['balance']>20000) & (sav['balance']<=40000)]\n",
    "between20k_40k.describe()"
   ]
  },
  {
   "cell_type": "markdown",
   "metadata": {},
   "source": [
    "# B-4) between 40k and 60k\n",
    "107 customers  "
   ]
  },
  {
   "cell_type": "code",
   "execution_count": null,
   "metadata": {},
   "outputs": [],
   "source": [
    "between40k_60k = sav[(sav['balance']>40000) & (sav['balance']<=60000)]\n",
    "between40k_60k.describe()"
   ]
  },
  {
   "cell_type": "markdown",
   "metadata": {},
   "source": [
    "# B-5) between 60k and 80k\n",
    "48 customers"
   ]
  },
  {
   "cell_type": "code",
   "execution_count": null,
   "metadata": {},
   "outputs": [],
   "source": [
    "between60k_80k = sav[(sav['balance']>60000) & (sav['balance']<=80000)]\n",
    "between60k_80k.describe()"
   ]
  },
  {
   "cell_type": "markdown",
   "metadata": {},
   "source": [
    "# B-6) between 80k and 100k\n",
    "59 customers"
   ]
  },
  {
   "cell_type": "code",
   "execution_count": null,
   "metadata": {},
   "outputs": [],
   "source": [
    "between80k_100k = sav[(sav['balance']>80000) & (sav['balance']<=100000)]\n",
    "between80k_100k.describe()"
   ]
  },
  {
   "cell_type": "markdown",
   "metadata": {},
   "source": [
    "# B-7) between 100k and 150k\n",
    "62 customers"
   ]
  },
  {
   "cell_type": "code",
   "execution_count": null,
   "metadata": {},
   "outputs": [],
   "source": [
    "between100k_150k = sav[(sav['balance']>100000) & (sav['balance']<=150000)]\n",
    "between100k_150k.describe()"
   ]
  },
  {
   "cell_type": "markdown",
   "metadata": {},
   "source": [
    "# B-8) between 150k and 200k\n",
    "36 customers"
   ]
  },
  {
   "cell_type": "code",
   "execution_count": null,
   "metadata": {},
   "outputs": [],
   "source": [
    "between150k_200k = sav[(sav['balance']>150000) & (sav['balance']<=200000)]\n",
    "between150k_200k.describe()"
   ]
  },
  {
   "cell_type": "markdown",
   "metadata": {},
   "source": [
    "# B-9) between 200k and 300k\n",
    "47 customers"
   ]
  },
  {
   "cell_type": "code",
   "execution_count": null,
   "metadata": {},
   "outputs": [],
   "source": [
    "between200k_300k = sav[(sav['balance']>200000) & (sav['balance']<=300000)]\n",
    "between200k_300k.describe()"
   ]
  },
  {
   "cell_type": "markdown",
   "metadata": {},
   "source": [
    "# B-10) between 300k and 500k\n",
    "52 customers"
   ]
  },
  {
   "cell_type": "code",
   "execution_count": null,
   "metadata": {},
   "outputs": [],
   "source": [
    "between300k_500k = sav[(sav['balance']>300000) & (sav['balance']<=500000)]\n",
    "between300k_500k.describe()"
   ]
  },
  {
   "cell_type": "code",
   "execution_count": null,
   "metadata": {},
   "outputs": [],
   "source": [
    "7.916245e+05"
   ]
  },
  {
   "cell_type": "markdown",
   "metadata": {},
   "source": [
    "# C- Campagne speciale"
   ]
  },
  {
   "cell_type": "markdown",
   "metadata": {},
   "source": [
    "# C-1) between 500k and 1M5\n",
    "50 customers"
   ]
  },
  {
   "cell_type": "code",
   "execution_count": null,
   "metadata": {},
   "outputs": [],
   "source": [
    "between500k_1M5 = sav[(sav['balance']>500000) & (sav['balance'] <=1500000)]\n",
    "\n",
    "between500k_1M5.describe()"
   ]
  },
  {
   "cell_type": "markdown",
   "metadata": {},
   "source": [
    "# C-2) between 1M5 and 4M\n",
    "14 customers"
   ]
  },
  {
   "cell_type": "code",
   "execution_count": null,
   "metadata": {
    "scrolled": true
   },
   "outputs": [],
   "source": [
    "between1M5_4M = sav[(sav['balance']>1500000) & (sav['balance'] <=4000000)]\n",
    "\n",
    "between1M5_4M.describe()"
   ]
  },
  {
   "cell_type": "code",
   "execution_count": null,
   "metadata": {},
   "outputs": [],
   "source": [
    "# C-3)  4M et plus 14 customers"
   ]
  },
  {
   "cell_type": "code",
   "execution_count": null,
   "metadata": {},
   "outputs": [],
   "source": [
    "between4M_10M = sav[(sav['balance']>4000000) & (sav['balance'] <=10000000)]\n",
    "\n",
    "between4M_10M.describe()"
   ]
  },
  {
   "cell_type": "code",
   "execution_count": null,
   "metadata": {},
   "outputs": [],
   "source": []
  },
  {
   "cell_type": "code",
   "execution_count": null,
   "metadata": {},
   "outputs": [],
   "source": []
  },
  {
   "cell_type": "code",
   "execution_count": null,
   "metadata": {},
   "outputs": [],
   "source": []
  },
  {
   "cell_type": "code",
   "execution_count": null,
   "metadata": {},
   "outputs": [],
   "source": [
    "x = sav[sav['balance']>20000]"
   ]
  },
  {
   "cell_type": "code",
   "execution_count": null,
   "metadata": {},
   "outputs": [],
   "source": [
    "x.describe()"
   ]
  },
  {
   "cell_type": "code",
   "execution_count": null,
   "metadata": {},
   "outputs": [],
   "source": []
  },
  {
   "cell_type": "code",
   "execution_count": null,
   "metadata": {},
   "outputs": [],
   "source": []
  },
  {
   "cell_type": "code",
   "execution_count": null,
   "metadata": {},
   "outputs": [],
   "source": []
  },
  {
   "cell_type": "code",
   "execution_count": null,
   "metadata": {},
   "outputs": [],
   "source": []
  },
  {
   "cell_type": "code",
   "execution_count": null,
   "metadata": {},
   "outputs": [],
   "source": []
  },
  {
   "cell_type": "code",
   "execution_count": null,
   "metadata": {},
   "outputs": [],
   "source": []
  },
  {
   "cell_type": "code",
   "execution_count": null,
   "metadata": {},
   "outputs": [],
   "source": [
    "2.010000e+04"
   ]
  },
  {
   "cell_type": "code",
   "execution_count": null,
   "metadata": {},
   "outputs": [],
   "source": []
  },
  {
   "cell_type": "code",
   "execution_count": null,
   "metadata": {},
   "outputs": [],
   "source": []
  },
  {
   "cell_type": "markdown",
   "metadata": {},
   "source": [
    "### (TSY ILAINA INTSONY) 2-2) A new table for the rContactID behavior study"
   ]
  },
  {
   "cell_type": "code",
   "execution_count": null,
   "metadata": {
    "scrolled": true
   },
   "outputs": [],
   "source": [
    "study = savings.groupby(['rContactID','Transaction_Date']).agg(\n",
    "    {'Total_Payment':('min','max','sum'), 'prev_balance':'sum', 'post_balance':'sum'\n",
    "    }) #.cumsum() #agg({'Total_Payment':'cumsum'})\n",
    "study.columns = [\"_\".join(x) for x in study.columns.ravel()]\n",
    "#dd.columns = dd.columns.droplevel(0)\n",
    "study = study.reset_index()\n",
    "study.rename(columns={'Total_Payment_sum':'balance'}, inplace = True)"
   ]
  },
  {
   "cell_type": "code",
   "execution_count": null,
   "metadata": {},
   "outputs": [],
   "source": [
    "study"
   ]
  },
  {
   "cell_type": "code",
   "execution_count": null,
   "metadata": {},
   "outputs": [],
   "source": [
    "#study['transaction_frequency']=\n",
    "#not useful anymore\n",
    "#study.groupby('rContactID')['Total_Payment_count'].sum()"
   ]
  },
  {
   "cell_type": "code",
   "execution_count": null,
   "metadata": {},
   "outputs": [],
   "source": [
    "study = study.merge(sav[['rContactID','saving_duration', 'Transaction_Date_min', 'Transaction_Date_max']], how = 'inner',  on='rContactID')"
   ]
  },
  {
   "cell_type": "code",
   "execution_count": null,
   "metadata": {},
   "outputs": [],
   "source": [
    "savings.dtypes"
   ]
  },
  {
   "cell_type": "code",
   "execution_count": null,
   "metadata": {},
   "outputs": [],
   "source": [
    "study = study.merge(savings[['rContactID','Transaction_Time','cycle','nth_cycle']])"
   ]
  },
  {
   "cell_type": "code",
   "execution_count": null,
   "metadata": {},
   "outputs": [],
   "source": [
    "savings[savings['rContactID']==24].head(5)"
   ]
  },
  {
   "cell_type": "code",
   "execution_count": null,
   "metadata": {},
   "outputs": [],
   "source": [
    "study[study['rContactID']==24].head(4)"
   ]
  },
  {
   "cell_type": "code",
   "execution_count": null,
   "metadata": {},
   "outputs": [],
   "source": [
    "columnsTitles=[ \"rContactID\",\"Transaction_Date\",\"Transaction_Time\",\"Total_Payment_count\",\"Total_Payment_min\", \"Total_Payment_max\", \"prev_balance_sum\", \"post_balance_sum\",\"balance\", \"Transaction_Date_min\", \"Transaction_Date_max\",\"saving_duration\"]\n",
    "study=study.reindex(columns=columnsTitles)"
   ]
  },
  {
   "cell_type": "code",
   "execution_count": null,
   "metadata": {
    "scrolled": false
   },
   "outputs": [],
   "source": [
    "study = study.sort_values([\"Transaction_Time\"])"
   ]
  },
  {
   "cell_type": "code",
   "execution_count": null,
   "metadata": {},
   "outputs": [],
   "source": [
    "study"
   ]
  },
  {
   "cell_type": "markdown",
   "metadata": {},
   "source": [
    "### Misy tsy milamina eto"
   ]
  },
  {
   "cell_type": "code",
   "execution_count": null,
   "metadata": {},
   "outputs": [],
   "source": [
    "savings[savings['rContactID']==25]"
   ]
  },
  {
   "cell_type": "code",
   "execution_count": null,
   "metadata": {
    "scrolled": true
   },
   "outputs": [],
   "source": [
    "transaction_activity"
   ]
  },
  {
   "cell_type": "markdown",
   "metadata": {},
   "source": [
    "### The median of the saving duration is 41 days "
   ]
  },
  {
   "cell_type": "code",
   "execution_count": null,
   "metadata": {},
   "outputs": [],
   "source": []
  },
  {
   "cell_type": "code",
   "execution_count": null,
   "metadata": {},
   "outputs": [],
   "source": []
  },
  {
   "cell_type": "code",
   "execution_count": null,
   "metadata": {},
   "outputs": [],
   "source": []
  },
  {
   "cell_type": "markdown",
   "metadata": {},
   "source": [
    "# -------------------------------------------------------------------------------------------------------------------"
   ]
  },
  {
   "cell_type": "markdown",
   "metadata": {},
   "source": [
    "# Saving Campaign"
   ]
  },
  {
   "cell_type": "code",
   "execution_count": null,
   "metadata": {},
   "outputs": [],
   "source": [
    "campaign = savings.groupby('rContactID').agg(\n",
    "    {'Total_Payment':'sum','Transaction_Date':('min', 'max')})\n",
    "campaign.columns = [\"_\".join(x) for x in campaign.columns.ravel()]\n",
    "#dd.columns = dd.columns.droplevel(0)\n",
    "campaign = campaign.reset_index()\n",
    "campaign.rename(columns={'Total_Payment_sum':'balance'}, inplace = True)\n",
    "\n",
    "#campaign['saving_duration'] = campaign['Transaction_Date_max']-campaign['Transaction_Date_min'] \n",
    "\n",
    "#campaign.saving_duration = campaign.saving_duration.apply(lambda x: str(x))\n",
    "\n",
    "#campaign.saving_duration = campaign.saving_duration.apply(lambda x: str.split(x)[0])\n",
    "\n",
    "#campaign.saving_duration = campaign.saving_duration.apply(lambda x: int(x))"
   ]
  },
  {
   "cell_type": "markdown",
   "metadata": {},
   "source": [
    "### Those with balance > 0"
   ]
  },
  {
   "cell_type": "code",
   "execution_count": null,
   "metadata": {
    "scrolled": true
   },
   "outputs": [],
   "source": [
    "campaign1 = campaign[campaign.balance>0]\n",
    "\n",
    "len(campaign1)"
   ]
  },
  {
   "cell_type": "code",
   "execution_count": null,
   "metadata": {
    "scrolled": true
   },
   "outputs": [],
   "source": [
    "campaign1.describe()"
   ]
  },
  {
   "cell_type": "markdown",
   "metadata": {},
   "source": [
    "### Those with balance > 200"
   ]
  },
  {
   "cell_type": "code",
   "execution_count": null,
   "metadata": {},
   "outputs": [],
   "source": [
    "campaign2= campaign[campaign.balance>200]\n",
    "\n",
    "len(campaign2)"
   ]
  },
  {
   "cell_type": "code",
   "execution_count": null,
   "metadata": {},
   "outputs": [],
   "source": [
    "campaign2.describe()"
   ]
  },
  {
   "cell_type": "code",
   "execution_count": null,
   "metadata": {},
   "outputs": [],
   "source": [
    "1.000000e+04"
   ]
  },
  {
   "cell_type": "markdown",
   "metadata": {},
   "source": [
    "### Those with balance > 2000 "
   ]
  },
  {
   "cell_type": "code",
   "execution_count": null,
   "metadata": {},
   "outputs": [],
   "source": [
    "campaign3= campaign[campaign.balance>=2000]\n",
    "\n",
    "len(campaign3)"
   ]
  },
  {
   "cell_type": "code",
   "execution_count": null,
   "metadata": {
    "scrolled": false
   },
   "outputs": [],
   "source": [
    "campaign3.describe()"
   ]
  },
  {
   "cell_type": "code",
   "execution_count": null,
   "metadata": {},
   "outputs": [],
   "source": [
    "4.497900e+04"
   ]
  },
  {
   "cell_type": "markdown",
   "metadata": {},
   "source": [
    "### Buckets:\n",
    "##### Q1: [2000,10000[ Ar -\n",
    "##### Q2: [10000, 40000 [ Ar - \n",
    "##### Q3: [40000,et plus[ Ar -"
   ]
  },
  {
   "cell_type": "markdown",
   "metadata": {},
   "source": [
    "#### -> Those are the active customers nowadays. There are 3901 customers.\n",
    "\n",
    "#### -> 50% of them have 2000 Ar in their balance within a period of a 25 days,  while 75 % of them have 10000 Ar in their balance for 5 months"
   ]
  },
  {
   "cell_type": "code",
   "execution_count": null,
   "metadata": {},
   "outputs": [],
   "source": [
    "sns_plot = sns.distplot(sav.balance)\n",
    "sns_plot.figure.savefig(\"distribution_saving.png\")"
   ]
  },
  {
   "cell_type": "code",
   "execution_count": null,
   "metadata": {},
   "outputs": [],
   "source": [
    "plt.figure(figsize=(13,8))\n",
    "sns.distplot(campaign.balance)\n",
    "plt.hist(campaign.balance, color = 'blue', edgecolor = 'black', bins = 200)\n",
    "plt.savefig('customer_distribution.png')"
   ]
  },
  {
   "cell_type": "markdown",
   "metadata": {},
   "source": [
    "# ------------------------------------------------------------------------------------------------------------------"
   ]
  },
  {
   "cell_type": "code",
   "execution_count": null,
   "metadata": {},
   "outputs": [],
   "source": [
    "\"\"\"\n",
    "dd_cycle = study[study].groupby('rContactID').agg(\n",
    "    {\"Transaction_Date\":\"max\"\n",
    "        \n",
    "    }\n",
    "    )\n",
    "dd_cycle.rename({'Transaction_Date':'last_payment'}, axis=1, inplace=True)\n",
    "\n",
    "dd_cycle = dd_cycle.reset_index()\n",
    "\"\"\""
   ]
  },
  {
   "cell_type": "code",
   "execution_count": null,
   "metadata": {},
   "outputs": [],
   "source": [
    "\"\"\"\n",
    "withdraw = study[study['post_balance_sum']<=0]# .groupby('rContactID').count()\n",
    "\n",
    "#cycle['payment_date_for_cycle']=\n",
    "deposit = study[study['post_balance_sum']>0]\n",
    "\n",
    "withdraw\n",
    "\n",
    "deposit\n",
    "\"\"\""
   ]
  },
  {
   "cell_type": "code",
   "execution_count": null,
   "metadata": {},
   "outputs": [],
   "source": [
    "study.describe()"
   ]
  },
  {
   "cell_type": "code",
   "execution_count": null,
   "metadata": {},
   "outputs": [],
   "source": []
  },
  {
   "cell_type": "code",
   "execution_count": null,
   "metadata": {},
   "outputs": [],
   "source": [
    "custom_list = [study['rContactID'][i] for i in range(len(study))]"
   ]
  },
  {
   "cell_type": "code",
   "execution_count": null,
   "metadata": {},
   "outputs": [],
   "source": [
    "custom_list = list(set(custom_list))"
   ]
  },
  {
   "cell_type": "code",
   "execution_count": null,
   "metadata": {},
   "outputs": [],
   "source": [
    "date_withdraw = []\n",
    "date_deposit = []"
   ]
  },
  {
   "cell_type": "code",
   "execution_count": null,
   "metadata": {},
   "outputs": [],
   "source": [
    "savings[savings['rContactID'] == 25].head()"
   ]
  },
  {
   "cell_type": "code",
   "execution_count": null,
   "metadata": {},
   "outputs": [],
   "source": [
    "study[study['rContactID']==25].head(2)"
   ]
  },
  {
   "cell_type": "code",
   "execution_count": null,
   "metadata": {},
   "outputs": [],
   "source": [
    " study['rContactID']['post_balance_sum']<=0"
   ]
  },
  {
   "cell_type": "code",
   "execution_count": null,
   "metadata": {},
   "outputs": [],
   "source": [
    "temp = study[study['rContactID']==25 ]"
   ]
  },
  {
   "cell_type": "code",
   "execution_count": null,
   "metadata": {},
   "outputs": [],
   "source": [
    "temp[temp.post_balance_sum<0]"
   ]
  },
  {
   "cell_type": "code",
   "execution_count": null,
   "metadata": {},
   "outputs": [],
   "source": [
    "temp"
   ]
  },
  {
   "cell_type": "code",
   "execution_count": null,
   "metadata": {
    "scrolled": true
   },
   "outputs": [],
   "source": [
    "x=study[(study['rContactID']== 98305) & (study['post_balance_sum']<=0)]"
   ]
  },
  {
   "cell_type": "code",
   "execution_count": null,
   "metadata": {},
   "outputs": [],
   "source": [
    "len(x)"
   ]
  },
  {
   "cell_type": "code",
   "execution_count": null,
   "metadata": {},
   "outputs": [],
   "source": [
    "x=x.reset_index()\n",
    "x[x['post_balance_sum']<=0]"
   ]
  },
  {
   "cell_type": "code",
   "execution_count": null,
   "metadata": {},
   "outputs": [],
   "source": [
    "x.Transaction_Date.dt.date"
   ]
  },
  {
   "cell_type": "code",
   "execution_count": null,
   "metadata": {},
   "outputs": [],
   "source": [
    "withdraw = {}\n",
    "for c in custom_list:\n",
    "    if c not in withdraw.keys():      \n",
    "        temp = study[(study['rContactID'] == c) & (study['post_balance_sum']<=0)]\n",
    "        temp.reset_index(inplace=True)\n",
    "        for i in range(len(temp)):\n",
    "            time_withdraw.append(temp.Transaction_Date[i])\n",
    "        withdraw[c] = time_withdraw \n",
    "        time_withdraw =[]"
   ]
  },
  {
   "cell_type": "code",
   "execution_count": null,
   "metadata": {},
   "outputs": [],
   "source": [
    "withdraw[98305]"
   ]
  },
  {
   "cell_type": "code",
   "execution_count": null,
   "metadata": {},
   "outputs": [],
   "source": [
    "deposit = {}\n",
    "for c in custom_list:\n",
    "    if c in deposit.keys()\n",
    "        temp = study[study['rContactID'] == c]\n",
    "        temp.reset_index(inplace=True)\n",
    "        temp[(temp.post_balance_sum > 0)]\n",
    "        time_deposit.append(temp.Transaction_Date[0])\n",
    "        deposit[c] = time_deposit \n",
    "    "
   ]
  },
  {
   "cell_type": "code",
   "execution_count": null,
   "metadata": {},
   "outputs": [],
   "source": [
    "study[study['rContactID']==98305]"
   ]
  },
  {
   "cell_type": "code",
   "execution_count": null,
   "metadata": {},
   "outputs": [],
   "source": [
    "withdraw_df = pd.DataFrame.from_dict(withdraw)\n"
   ]
  },
  {
   "cell_type": "code",
   "execution_count": null,
   "metadata": {},
   "outputs": [],
   "source": [
    "withdraw_df"
   ]
  },
  {
   "cell_type": "code",
   "execution_count": null,
   "metadata": {},
   "outputs": [],
   "source": [
    "study.head(10)"
   ]
  },
  {
   "cell_type": "code",
   "execution_count": null,
   "metadata": {},
   "outputs": [],
   "source": [
    "all_last_payment_done = study[(study['last_payment'] == study['Transaction_Date'])]"
   ]
  },
  {
   "cell_type": "code",
   "execution_count": null,
   "metadata": {},
   "outputs": [],
   "source": [
    "all_last_payment_done"
   ]
  },
  {
   "cell_type": "markdown",
   "metadata": {},
   "source": [
    "## Customers leaving:\n",
    "### Keys:\n",
    "   ### customers leave when balance is around 200, and the last payment is a withdrawal (i.e last payment <0)\n"
   ]
  },
  {
   "cell_type": "code",
   "execution_count": null,
   "metadata": {},
   "outputs": [],
   "source": [
    "quit_customers=study[(study['post_balance_sum']<=200) & (all_last_payment_done.Total_Payment_min < 0)]"
   ]
  },
  {
   "cell_type": "code",
   "execution_count": null,
   "metadata": {},
   "outputs": [],
   "source": [
    "len(quit_customers)"
   ]
  },
  {
   "cell_type": "markdown",
   "metadata": {},
   "source": [
    "#### 13370 customers have saved for some time and left"
   ]
  },
  {
   "cell_type": "code",
   "execution_count": null,
   "metadata": {},
   "outputs": [],
   "source": [
    "len(savings)"
   ]
  },
  {
   "cell_type": "code",
   "execution_count": null,
   "metadata": {},
   "outputs": [],
   "source": [
    "quit_customers.rContactID"
   ]
  },
  {
   "cell_type": "code",
   "execution_count": null,
   "metadata": {},
   "outputs": [],
   "source": []
  },
  {
   "cell_type": "code",
   "execution_count": null,
   "metadata": {},
   "outputs": [],
   "source": []
  },
  {
   "cell_type": "code",
   "execution_count": null,
   "metadata": {},
   "outputs": [],
   "source": [
    "#savings.groupby('rContactID', as_index=False)[['Total_Payment']].cumsum() #.agg({'Total_Payment':'cumsum'})"
   ]
  },
  {
   "cell_type": "code",
   "execution_count": null,
   "metadata": {},
   "outputs": [],
   "source": [
    "savings[savings['rContactID'] == 2088]"
   ]
  },
  {
   "cell_type": "markdown",
   "metadata": {},
   "source": [
    "#### This particular customer (rContactID = 2088) have started saving from 2018-05-15 until 2019-07-05 (1 year and 3 months)"
   ]
  },
  {
   "cell_type": "code",
   "execution_count": null,
   "metadata": {},
   "outputs": [],
   "source": []
  },
  {
   "cell_type": "code",
   "execution_count": null,
   "metadata": {},
   "outputs": [],
   "source": []
  },
  {
   "cell_type": "code",
   "execution_count": null,
   "metadata": {},
   "outputs": [],
   "source": [
    "### Does not work\n",
    "\n",
    "fig = ff.create_facet_grid(\n",
    "    savings,\n",
    "    x='duration',\n",
    "    y='balance',\n",
    "    color_name='marital',\n",
    "    show_boxes=False,\n",
    "    marker={'size': 10, 'opacity': 1.0},\n",
    "    colormap={'single': 'rgb(165, 242, 242)', 'married': 'rgb(253, 174, 216)', 'divorced': 'rgba(201, 109, 59, 0.82)'}\n",
    ")\n",
    "\n",
    "iplot(fig, filename='facet - custom colormap')"
   ]
  },
  {
   "cell_type": "code",
   "execution_count": null,
   "metadata": {},
   "outputs": [],
   "source": [
    "\n",
    "#dd = savings[savings[\"Total_Payment\"]>0]\n",
    "sav = savings.groupby('rContactID').agg(\n",
    "    {'Total_Payment':'sum','Transaction_Date':('min', 'max')})\n",
    "sav.columns = [\"_\".join(x) for x in sav.columns.ravel()]\n",
    "#dd.columns = dd.columns.droplevel(0)\n",
    "sav = sav.reset_index()\n",
    "sav.rename(columns={'Total_Payment_sum':'balance'}, inplace = True)"
   ]
  },
  {
   "cell_type": "code",
   "execution_count": null,
   "metadata": {},
   "outputs": [],
   "source": [
    "sav.describe()"
   ]
  },
  {
   "cell_type": "markdown",
   "metadata": {},
   "source": [
    "#### 75% of the customers have at most 200 Ar "
   ]
  },
  {
   "cell_type": "code",
   "execution_count": null,
   "metadata": {},
   "outputs": [],
   "source": []
  },
  {
   "cell_type": "code",
   "execution_count": null,
   "metadata": {},
   "outputs": [],
   "source": [
    "sav[sav['balance']<-2000].head(2)"
   ]
  },
  {
   "cell_type": "markdown",
   "metadata": {},
   "source": [
    "## Median"
   ]
  },
  {
   "cell_type": "code",
   "execution_count": null,
   "metadata": {},
   "outputs": [],
   "source": [
    "sav.balance.median()"
   ]
  },
  {
   "cell_type": "markdown",
   "metadata": {},
   "source": [
    "#### The median shows that half of the customers do not even have anything in their balance"
   ]
  },
  {
   "cell_type": "code",
   "execution_count": null,
   "metadata": {},
   "outputs": [],
   "source": [
    "len(sav[(sav['balance']>=0) & (sav['balance']<=200)])"
   ]
  },
  {
   "cell_type": "markdown",
   "metadata": {},
   "source": [
    "#### 12684 customers have at most 200 Ar"
   ]
  },
  {
   "cell_type": "markdown",
   "metadata": {},
   "source": [
    "2536800 Ar saved by the 200Ar customers"
   ]
  },
  {
   "cell_type": "markdown",
   "metadata": {},
   "source": [
    "### Length of saving"
   ]
  },
  {
   "cell_type": "code",
   "execution_count": null,
   "metadata": {},
   "outputs": [],
   "source": [
    "sav['saving_duration'] = sav['Transaction_Date_max']-sav['Transaction_Date_min'] \n",
    "\n",
    "sav.saving_duration = sav.saving_duration.apply(lambda x: str(x))\n",
    "\n",
    "sav.saving_duration = sav.saving_duration.apply(lambda x: str.split(x)[0])\n",
    "\n",
    "sav.saving_duration = sav.saving_duration.apply(lambda x: int(x))"
   ]
  },
  {
   "cell_type": "code",
   "execution_count": null,
   "metadata": {},
   "outputs": [],
   "source": [
    "sav[sav[\"rContactID\"] == 2088]"
   ]
  },
  {
   "cell_type": "code",
   "execution_count": null,
   "metadata": {},
   "outputs": [],
   "source": [
    "sav.describe()"
   ]
  },
  {
   "cell_type": "markdown",
   "metadata": {},
   "source": [
    "#### The median shows that half of the customers save until 41 days.\n",
    "#### 75% have 200 Ar for 127 days (at most) (~ 4 months )"
   ]
  },
  {
   "cell_type": "markdown",
   "metadata": {},
   "source": [
    "### Interpretation"
   ]
  },
  {
   "cell_type": "markdown",
   "metadata": {},
   "source": [
    "##### Those 12684 customers seem to quit saving, and some of them even leave their account inactive within 4 months.\n",
    "\n",
    "##### (We will see when do they come back and how many do come back start using the saving service again.)\n",
    "\n",
    "### But let's see first those 12684 customers"
   ]
  },
  {
   "cell_type": "code",
   "execution_count": null,
   "metadata": {},
   "outputs": [],
   "source": [
    "low_sav = sav[(sav['balance']>=0) & (sav['balance']<=200)]"
   ]
  },
  {
   "cell_type": "code",
   "execution_count": null,
   "metadata": {},
   "outputs": [],
   "source": [
    "low_sav.head()"
   ]
  },
  {
   "cell_type": "code",
   "execution_count": null,
   "metadata": {},
   "outputs": [],
   "source": [
    "low_sav.dtypes"
   ]
  },
  {
   "cell_type": "code",
   "execution_count": null,
   "metadata": {},
   "outputs": [],
   "source": [
    "plt.figure(figsize=(12,8))\n",
    "sns.scatterplot(low_sav['saving_duration'],y=( low_sav['balance']) )"
   ]
  },
  {
   "cell_type": "code",
   "execution_count": null,
   "metadata": {},
   "outputs": [],
   "source": [
    "low_sav.dtypes"
   ]
  },
  {
   "cell_type": "code",
   "execution_count": null,
   "metadata": {},
   "outputs": [],
   "source": [
    "import matplotlib.pyplot as plt\n",
    "plt.style.use('seaborn-whitegrid')\n",
    "\n",
    "low_sav.hist(bins=10, figsize=(14,10), color='#E14906')\n",
    "plt.show()"
   ]
  },
  {
   "cell_type": "code",
   "execution_count": null,
   "metadata": {},
   "outputs": [],
   "source": []
  },
  {
   "cell_type": "code",
   "execution_count": null,
   "metadata": {},
   "outputs": [],
   "source": []
  },
  {
   "cell_type": "code",
   "execution_count": null,
   "metadata": {},
   "outputs": [],
   "source": []
  },
  {
   "cell_type": "code",
   "execution_count": null,
   "metadata": {},
   "outputs": [],
   "source": []
  },
  {
   "cell_type": "code",
   "execution_count": null,
   "metadata": {},
   "outputs": [],
   "source": []
  },
  {
   "cell_type": "markdown",
   "metadata": {},
   "source": [
    "## 2- When do customers come back to saving"
   ]
  },
  {
   "cell_type": "code",
   "execution_count": null,
   "metadata": {},
   "outputs": [],
   "source": [
    "savings.head(3)"
   ]
  },
  {
   "cell_type": "code",
   "execution_count": null,
   "metadata": {},
   "outputs": [],
   "source": [
    "savings[savings['rContactID']==3622]"
   ]
  },
  {
   "cell_type": "code",
   "execution_count": null,
   "metadata": {},
   "outputs": [],
   "source": [
    "savings[savings['rContactID']==10301]"
   ]
  },
  {
   "cell_type": "code",
   "execution_count": null,
   "metadata": {},
   "outputs": [],
   "source": []
  },
  {
   "cell_type": "code",
   "execution_count": null,
   "metadata": {},
   "outputs": [],
   "source": [
    "savings[savings['rContactID']==10301]['post_balance'].hist()"
   ]
  },
  {
   "cell_type": "code",
   "execution_count": null,
   "metadata": {},
   "outputs": [],
   "source": [
    "savings[savings['rContactID']==2088]['Total_Payment'].hist()"
   ]
  },
  {
   "cell_type": "code",
   "execution_count": null,
   "metadata": {},
   "outputs": [],
   "source": [
    "savings.head(10)"
   ]
  },
  {
   "cell_type": "code",
   "execution_count": null,
   "metadata": {},
   "outputs": [],
   "source": [
    "study=savings.groupby(['rContactID','Transaction_Date']).agg(\n",
    "    {'Total_Payment':'sum','Transaction_Date':('min', 'max')})\n",
    "study.columns = [\"_\".join(x) for x in study.columns.ravel()]\n",
    "#dd.columns = dd.columns.droplevel(0)\n",
    "study = study.reset_index()\n",
    "study.rename(columns={'Total_Payment_sum':'balance'}, inplace = True)"
   ]
  },
  {
   "cell_type": "code",
   "execution_count": null,
   "metadata": {},
   "outputs": [],
   "source": [
    "savings"
   ]
  },
  {
   "cell_type": "code",
   "execution_count": null,
   "metadata": {},
   "outputs": [],
   "source": [
    "def "
   ]
  },
  {
   "cell_type": "code",
   "execution_count": null,
   "metadata": {},
   "outputs": [],
   "source": [
    "savings['new_transaction_type'] = savings['Transaction_Type'].apply(#depot or withdraw)"
   ]
  },
  {
   "cell_type": "code",
   "execution_count": null,
   "metadata": {},
   "outputs": [],
   "source": []
  },
  {
   "cell_type": "code",
   "execution_count": null,
   "metadata": {},
   "outputs": [],
   "source": []
  },
  {
   "cell_type": "code",
   "execution_count": null,
   "metadata": {},
   "outputs": [],
   "source": []
  },
  {
   "cell_type": "code",
   "execution_count": null,
   "metadata": {},
   "outputs": [],
   "source": []
  },
  {
   "cell_type": "code",
   "execution_count": null,
   "metadata": {},
   "outputs": [],
   "source": []
  },
  {
   "cell_type": "code",
   "execution_count": null,
   "metadata": {},
   "outputs": [],
   "source": []
  },
  {
   "cell_type": "code",
   "execution_count": null,
   "metadata": {},
   "outputs": [],
   "source": []
  },
  {
   "cell_type": "code",
   "execution_count": null,
   "metadata": {},
   "outputs": [],
   "source": []
  },
  {
   "cell_type": "code",
   "execution_count": null,
   "metadata": {},
   "outputs": [],
   "source": []
  },
  {
   "cell_type": "markdown",
   "metadata": {},
   "source": [
    "## 3- Etude du Depot"
   ]
  },
  {
   "cell_type": "code",
   "execution_count": null,
   "metadata": {},
   "outputs": [],
   "source": [
    "savings[savings[\"Total_Payment\"]>0].head(6)"
   ]
  },
  {
   "cell_type": "code",
   "execution_count": null,
   "metadata": {},
   "outputs": [],
   "source": [
    "savings.describe()"
   ]
  },
  {
   "cell_type": "markdown",
   "metadata": {},
   "source": [
    "## Let's consider only those who have balance >0"
   ]
  },
  {
   "cell_type": "code",
   "execution_count": null,
   "metadata": {},
   "outputs": [],
   "source": [
    "dd = savings[savings[\"Total_Payment\"]>0]"
   ]
  },
  {
   "cell_type": "code",
   "execution_count": null,
   "metadata": {},
   "outputs": [],
   "source": [
    "dd.head(2)"
   ]
  },
  {
   "cell_type": "code",
   "execution_count": null,
   "metadata": {},
   "outputs": [],
   "source": [
    "import numpy as np\n",
    "#dd = savings[savings[\"Total_Payment\"]>0]\n",
    "dd = dd.groupby('rContactID').agg(\n",
    "    {'Total_Payment':'sum','Transaction_Date':('min', 'max')})\n",
    "dd.columns = [\"_\".join(x) for x in dd.columns.ravel()]\n",
    "#dd.columns = dd.columns.droplevel(0)\n",
    "dd = dd.reset_index()"
   ]
  },
  {
   "cell_type": "code",
   "execution_count": null,
   "metadata": {},
   "outputs": [],
   "source": [
    "dd.rename(columns={'Total_Payment_sum':'balance'}, inplace = True)"
   ]
  },
  {
   "cell_type": "code",
   "execution_count": null,
   "metadata": {
    "scrolled": true
   },
   "outputs": [],
   "source": [
    "dd.describe()"
   ]
  },
  {
   "cell_type": "markdown",
   "metadata": {},
   "source": [
    "#### the mean is misleading "
   ]
  },
  {
   "cell_type": "markdown",
   "metadata": {},
   "source": [
    "## Median of the balance"
   ]
  },
  {
   "cell_type": "code",
   "execution_count": null,
   "metadata": {},
   "outputs": [],
   "source": [
    "dd.balance.median()"
   ]
  },
  {
   "cell_type": "code",
   "execution_count": null,
   "metadata": {},
   "outputs": [],
   "source": [
    "dd.dtypes"
   ]
  },
  {
   "cell_type": "markdown",
   "metadata": {},
   "source": [
    "## mean of payment for balance > 0 is 228687.3 Ar and 50% of them have 10900.0 while 75% have 80000.0"
   ]
  },
  {
   "cell_type": "code",
   "execution_count": null,
   "metadata": {},
   "outputs": [],
   "source": [
    "len(dd[dd['balance']>=10000])"
   ]
  },
  {
   "cell_type": "markdown",
   "metadata": {},
   "source": [
    "### 8843 customers have more than 10000 Ar in their balance.  \n",
    "### So we can make at least 88430000 Ar from them if we ask them to save 10000 Ar."
   ]
  },
  {
   "cell_type": "markdown",
   "metadata": {},
   "source": [
    "# Length of saving duration"
   ]
  },
  {
   "cell_type": "code",
   "execution_count": null,
   "metadata": {},
   "outputs": [],
   "source": [
    "dd['saving_duration'] = dd['Transaction_Date_max']-dd['Transaction_Date_min'] "
   ]
  },
  {
   "cell_type": "code",
   "execution_count": null,
   "metadata": {},
   "outputs": [],
   "source": [
    "dd.describe()"
   ]
  },
  {
   "cell_type": "code",
   "execution_count": null,
   "metadata": {},
   "outputs": [],
   "source": [
    "dd.saving_duration.median()"
   ]
  },
  {
   "cell_type": "markdown",
   "metadata": {},
   "source": [
    "#### We can see that people make a saving of 10900 Ar in 31 days, so in one month, we can make 88430000 Ar for saving of 10000 Ar per month per person"
   ]
  },
  {
   "cell_type": "markdown",
   "metadata": {},
   "source": [
    "## joining the rContactID with their behaviors"
   ]
  },
  {
   "cell_type": "code",
   "execution_count": null,
   "metadata": {},
   "outputs": [],
   "source": [
    "dd = dd.merge(savings, how='left', left_on='rContactID' ,right_on='rContactID')"
   ]
  },
  {
   "cell_type": "code",
   "execution_count": null,
   "metadata": {},
   "outputs": [],
   "source": [
    "dd = dd.drop(columns=['Transaction_Date','Transaction_Time','Transaction_ID','Account_Number', 'Balance', 'Status', 'Total_Payment'], axis = 1)"
   ]
  },
  {
   "cell_type": "code",
   "execution_count": null,
   "metadata": {},
   "outputs": [],
   "source": [
    "dd"
   ]
  },
  {
   "cell_type": "code",
   "execution_count": null,
   "metadata": {},
   "outputs": [],
   "source": []
  },
  {
   "cell_type": "code",
   "execution_count": null,
   "metadata": {},
   "outputs": [],
   "source": []
  },
  {
   "cell_type": "code",
   "execution_count": null,
   "metadata": {},
   "outputs": [],
   "source": []
  },
  {
   "cell_type": "code",
   "execution_count": null,
   "metadata": {},
   "outputs": [],
   "source": []
  }
 ],
 "metadata": {
  "hide_input": false,
  "kernelspec": {
   "display_name": "Python 3",
   "language": "python",
   "name": "python3"
  },
  "language_info": {
   "codemirror_mode": {
    "name": "ipython",
    "version": 3
   },
   "file_extension": ".py",
   "mimetype": "text/x-python",
   "name": "python",
   "nbconvert_exporter": "python",
   "pygments_lexer": "ipython3",
   "version": "3.6.5"
  },
  "latex_envs": {
   "LaTeX_envs_menu_present": true,
   "autoclose": false,
   "autocomplete": true,
   "bibliofile": "biblio.bib",
   "cite_by": "apalike",
   "current_citInitial": 1,
   "eqLabelWithNumbers": true,
   "eqNumInitial": 1,
   "hotkeys": {
    "equation": "Ctrl-E",
    "itemize": "Ctrl-I"
   },
   "labels_anchors": false,
   "latex_user_defs": false,
   "report_style_numbering": false,
   "user_envs_cfg": false
  },
  "toc": {
   "base_numbering": 1,
   "nav_menu": {},
   "number_sections": true,
   "sideBar": true,
   "skip_h1_title": false,
   "title_cell": "Table of Contents",
   "title_sidebar": "Contents",
   "toc_cell": false,
   "toc_position": {},
   "toc_section_display": true,
   "toc_window_display": false
  }
 },
 "nbformat": 4,
 "nbformat_minor": 2
}
