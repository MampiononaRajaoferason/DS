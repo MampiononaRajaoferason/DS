{
 "cells": [
  {
   "cell_type": "code",
   "execution_count": 5,
   "metadata": {},
   "outputs": [],
   "source": [
    "import numpy as np \n",
    "import pandas as pd\n",
    "import matplotlib.pyplot as plt\n",
    "import seaborn as sns\n",
    "plt.style.use('fivethirtyeight')\n",
    "import warnings\n",
    "warnings.filterwarnings('ignore')\n",
    "%matplotlib inline"
   ]
  },
  {
   "cell_type": "code",
   "execution_count": 6,
   "metadata": {},
   "outputs": [],
   "source": [
    "data=pd.read_csv('../input/train.csv')"
   ]
  },
  {
   "cell_type": "code",
   "execution_count": 7,
   "metadata": {},
   "outputs": [
    {
     "data": {
      "text/html": [
       "<div>\n",
       "<style>\n",
       "    .dataframe thead tr:only-child th {\n",
       "        text-align: right;\n",
       "    }\n",
       "\n",
       "    .dataframe thead th {\n",
       "        text-align: left;\n",
       "    }\n",
       "\n",
       "    .dataframe tbody tr th {\n",
       "        vertical-align: top;\n",
       "    }\n",
       "</style>\n",
       "<table border=\"1\" class=\"dataframe\">\n",
       "  <thead>\n",
       "    <tr style=\"text-align: right;\">\n",
       "      <th></th>\n",
       "      <th>PassengerId</th>\n",
       "      <th>Survived</th>\n",
       "      <th>Pclass</th>\n",
       "      <th>Name</th>\n",
       "      <th>Sex</th>\n",
       "      <th>Age</th>\n",
       "      <th>SibSp</th>\n",
       "      <th>Parch</th>\n",
       "      <th>Ticket</th>\n",
       "      <th>Fare</th>\n",
       "      <th>Cabin</th>\n",
       "      <th>Embarked</th>\n",
       "    </tr>\n",
       "  </thead>\n",
       "  <tbody>\n",
       "    <tr>\n",
       "      <th>0</th>\n",
       "      <td>1</td>\n",
       "      <td>0</td>\n",
       "      <td>3</td>\n",
       "      <td>Braund, Mr. Owen Harris</td>\n",
       "      <td>male</td>\n",
       "      <td>22.0</td>\n",
       "      <td>1</td>\n",
       "      <td>0</td>\n",
       "      <td>A/5 21171</td>\n",
       "      <td>7.2500</td>\n",
       "      <td>NaN</td>\n",
       "      <td>S</td>\n",
       "    </tr>\n",
       "    <tr>\n",
       "      <th>1</th>\n",
       "      <td>2</td>\n",
       "      <td>1</td>\n",
       "      <td>1</td>\n",
       "      <td>Cumings, Mrs. John Bradley (Florence Briggs Th...</td>\n",
       "      <td>female</td>\n",
       "      <td>38.0</td>\n",
       "      <td>1</td>\n",
       "      <td>0</td>\n",
       "      <td>PC 17599</td>\n",
       "      <td>71.2833</td>\n",
       "      <td>C85</td>\n",
       "      <td>C</td>\n",
       "    </tr>\n",
       "    <tr>\n",
       "      <th>2</th>\n",
       "      <td>3</td>\n",
       "      <td>1</td>\n",
       "      <td>3</td>\n",
       "      <td>Heikkinen, Miss. Laina</td>\n",
       "      <td>female</td>\n",
       "      <td>26.0</td>\n",
       "      <td>0</td>\n",
       "      <td>0</td>\n",
       "      <td>STON/O2. 3101282</td>\n",
       "      <td>7.9250</td>\n",
       "      <td>NaN</td>\n",
       "      <td>S</td>\n",
       "    </tr>\n",
       "    <tr>\n",
       "      <th>3</th>\n",
       "      <td>4</td>\n",
       "      <td>1</td>\n",
       "      <td>1</td>\n",
       "      <td>Futrelle, Mrs. Jacques Heath (Lily May Peel)</td>\n",
       "      <td>female</td>\n",
       "      <td>35.0</td>\n",
       "      <td>1</td>\n",
       "      <td>0</td>\n",
       "      <td>113803</td>\n",
       "      <td>53.1000</td>\n",
       "      <td>C123</td>\n",
       "      <td>S</td>\n",
       "    </tr>\n",
       "    <tr>\n",
       "      <th>4</th>\n",
       "      <td>5</td>\n",
       "      <td>0</td>\n",
       "      <td>3</td>\n",
       "      <td>Allen, Mr. William Henry</td>\n",
       "      <td>male</td>\n",
       "      <td>35.0</td>\n",
       "      <td>0</td>\n",
       "      <td>0</td>\n",
       "      <td>373450</td>\n",
       "      <td>8.0500</td>\n",
       "      <td>NaN</td>\n",
       "      <td>S</td>\n",
       "    </tr>\n",
       "  </tbody>\n",
       "</table>\n",
       "</div>"
      ],
      "text/plain": [
       "   PassengerId  Survived  Pclass  \\\n",
       "0            1         0       3   \n",
       "1            2         1       1   \n",
       "2            3         1       3   \n",
       "3            4         1       1   \n",
       "4            5         0       3   \n",
       "\n",
       "                                                Name     Sex   Age  SibSp  \\\n",
       "0                            Braund, Mr. Owen Harris    male  22.0      1   \n",
       "1  Cumings, Mrs. John Bradley (Florence Briggs Th...  female  38.0      1   \n",
       "2                             Heikkinen, Miss. Laina  female  26.0      0   \n",
       "3       Futrelle, Mrs. Jacques Heath (Lily May Peel)  female  35.0      1   \n",
       "4                           Allen, Mr. William Henry    male  35.0      0   \n",
       "\n",
       "   Parch            Ticket     Fare Cabin Embarked  \n",
       "0      0         A/5 21171   7.2500   NaN        S  \n",
       "1      0          PC 17599  71.2833   C85        C  \n",
       "2      0  STON/O2. 3101282   7.9250   NaN        S  \n",
       "3      0            113803  53.1000  C123        S  \n",
       "4      0            373450   8.0500   NaN        S  "
      ]
     },
     "execution_count": 7,
     "metadata": {},
     "output_type": "execute_result"
    }
   ],
   "source": [
    "data.head()"
   ]
  },
  {
   "cell_type": "code",
   "execution_count": 8,
   "metadata": {},
   "outputs": [
    {
     "data": {
      "text/plain": [
       "PassengerId      0\n",
       "Survived         0\n",
       "Pclass           0\n",
       "Name             0\n",
       "Sex              0\n",
       "Age            177\n",
       "SibSp            0\n",
       "Parch            0\n",
       "Ticket           0\n",
       "Fare             0\n",
       "Cabin          687\n",
       "Embarked         2\n",
       "dtype: int64"
      ]
     },
     "execution_count": 8,
     "metadata": {},
     "output_type": "execute_result"
    }
   ],
   "source": [
    "#checking for total of null values\n",
    "data.isnull().sum()"
   ]
  },
  {
   "cell_type": "markdown",
   "metadata": {},
   "source": [
    "Need to fix the null values in Age and Cabin"
   ]
  },
  {
   "cell_type": "markdown",
   "metadata": {},
   "source": [
    "How many survived? \n",
    "Writing down a code is good but not better for the analysis (We can just count the number of those who survived and those who died). \n",
    "A better vizualisation will make the study intersting and not \n",
    "boring. That'll help to understand better as well. So let's plot "
   ]
  },
  {
   "cell_type": "code",
   "execution_count": 9,
   "metadata": {},
   "outputs": [
    {
     "data": {
      "text/plain": [
       "0    549\n",
       "1    342\n",
       "Name: Survived, dtype: int64"
      ]
     },
     "execution_count": 9,
     "metadata": {},
     "output_type": "execute_result"
    }
   ],
   "source": [
    "data.Survived.value_counts() #\"\"\"Not interesting to read\"\"\"#"
   ]
  },
  {
   "cell_type": "code",
   "execution_count": 10,
   "metadata": {},
   "outputs": [
    {
     "data": {
      "image/png": "[encoded data removed]",
      "text/plain": [
       "<Figure size 1296x576 with 2 Axes>"
      ]
     },
     "metadata": {
      "needs_background": "light"
     },
     "output_type": "display_data"
    }
   ],
   "source": [
    "f,ax=plt.subplots(1,2,figsize=(18,8))\n",
    "data['Survived'].value_counts().plot.pie(explode=[0,0.1],autopct='%1.1f%%',ax=ax[0],shadow=False)\n",
    "ax[0].set_title('Survived')\n",
    "ax[0].set_ylabel('')\n",
    "sns.countplot('Survived',data=data,ax=ax[1])\n",
    "ax[1].set_title('Survived')\n",
    "plt.show()"
   ]
  },
  {
   "cell_type": "markdown",
   "metadata": {},
   "source": [
    " ## Now this is good but the viz is not good. NEVER SEPARATE THE SLICE FOR PIE CHARTS, NEVER USE 3D CHARTS OR PLOTS, NEVER USE SHADOWS.\n",
    " \n",
    " For the slice, it is because of 'explode=[0,0.1]', so we will remove that argument to have a better presentation\n"
   ]
  },
  {
   "cell_type": "markdown",
   "metadata": {},
   "source": [
    "# A BETTER VIZ"
   ]
  },
  {
   "cell_type": "code",
   "execution_count": 11,
   "metadata": {},
   "outputs": [
    {
     "data": {
      "image/png": "[encoded data removed]",
      "text/plain": [
       "<Figure size 1296x576 with 2 Axes>"
      ]
     },
     "metadata": {
      "needs_background": "light"
     },
     "output_type": "display_data"
    }
   ],
   "source": [
    "colors = ['red','blue']\n",
    "f,ax=plt.subplots(1,2,figsize=(18,8)) # we avoid using 'explode' to get rid of the little gap in the pieplot\n",
    "data['Survived'].value_counts().plot.pie(autopct='%1.1f%%',ax=ax[0], colors = ['tomato','blue'], shadow=False)\n",
    "ax[0].set_title('Survived')\n",
    "ax[0].set_ylabel('')\n",
    "sns.countplot('Survived',data=data,ax=ax[1], palette = colors)\n",
    "ax[1].set_title('Survived')\n",
    "plt.show()"
   ]
  },
  {
   "cell_type": "markdown",
   "metadata": {},
   "source": [
    "We can see that 38.4% of the people in the training set survived (only 342 out of 891)"
   ]
  },
  {
   "cell_type": "markdown",
   "metadata": {},
   "source": [
    "We will try to check the survival rate by using the different features of the dataset. Some of the features being Sex, Port Of Embarcation, Age,etc."
   ]
  },
  {
   "cell_type": "markdown",
   "metadata": {},
   "source": [
    "First let us understand the different types of features."
   ]
  },
  {
   "cell_type": "markdown",
   "metadata": {},
   "source": [
    "## Types Of Features"
   ]
  },
  {
   "cell_type": "markdown",
   "metadata": {},
   "source": [
    "## Categorical Features:\n",
    "\n",
    "A categorical variable is one that has two or more categories and each value in that feature can be categorised by them.For example, gender is a categorical variable having two categories (male and female). Now we cannot sort or give any ordering to such variables. They are also known as $\\bf Nominal Variables$.\n",
    "\n",
    "$\\bf Example$: Sex and Embark"
   ]
  },
  {
   "cell_type": "markdown",
   "metadata": {},
   "source": [
    "## Ordinal Features:\n",
    "\n",
    "An ordinal variable is similar to categorical values, but the difference between them is that we can have relative ordering or sorting between the values. For eg: If we have a feature like $\\bf Height$ with values $\\bf Tall$, $\\bf Medium$, $\\bf Short$, then Height is a ordinal variable. Here we can have a relative sort in the variable."
   ]
  },
  {
   "cell_type": "markdown",
   "metadata": {},
   "source": [
    "## Continous Feature:\n",
    "\n",
    "A feature is said to be continous if it can take values between any two points or between the minimum or maximum values in the features column.\n",
    "\n",
    "$\\bf Continous~Features~in~the dataset$: Age"
   ]
  },
  {
   "cell_type": "markdown",
   "metadata": {},
   "source": [
    "# Analysing the features"
   ]
  },
  {
   "cell_type": "code",
   "execution_count": 12,
   "metadata": {},
   "outputs": [
    {
     "data": {
      "text/html": [
       "<div>\n",
       "<style>\n",
       "    .dataframe thead tr:only-child th {\n",
       "        text-align: right;\n",
       "    }\n",
       "\n",
       "    .dataframe thead th {\n",
       "        text-align: left;\n",
       "    }\n",
       "\n",
       "    .dataframe tbody tr th {\n",
       "        vertical-align: top;\n",
       "    }\n",
       "</style>\n",
       "<table border=\"1\" class=\"dataframe\">\n",
       "  <thead>\n",
       "    <tr style=\"text-align: right;\">\n",
       "      <th></th>\n",
       "      <th></th>\n",
       "      <th>PassengerId</th>\n",
       "      <th>Pclass</th>\n",
       "      <th>Name</th>\n",
       "      <th>Age</th>\n",
       "      <th>SibSp</th>\n",
       "      <th>Parch</th>\n",
       "      <th>Ticket</th>\n",
       "      <th>Fare</th>\n",
       "      <th>Cabin</th>\n",
       "      <th>Embarked</th>\n",
       "    </tr>\n",
       "    <tr>\n",
       "      <th>Sex</th>\n",
       "      <th>Survived</th>\n",
       "      <th></th>\n",
       "      <th></th>\n",
       "      <th></th>\n",
       "      <th></th>\n",
       "      <th></th>\n",
       "      <th></th>\n",
       "      <th></th>\n",
       "      <th></th>\n",
       "      <th></th>\n",
       "      <th></th>\n",
       "    </tr>\n",
       "  </thead>\n",
       "  <tbody>\n",
       "    <tr>\n",
       "      <th rowspan=\"2\" valign=\"top\">female</th>\n",
       "      <th>0</th>\n",
       "      <td>81</td>\n",
       "      <td>81</td>\n",
       "      <td>81</td>\n",
       "      <td>64</td>\n",
       "      <td>81</td>\n",
       "      <td>81</td>\n",
       "      <td>81</td>\n",
       "      <td>81</td>\n",
       "      <td>6</td>\n",
       "      <td>81</td>\n",
       "    </tr>\n",
       "    <tr>\n",
       "      <th>1</th>\n",
       "      <td>233</td>\n",
       "      <td>233</td>\n",
       "      <td>233</td>\n",
       "      <td>197</td>\n",
       "      <td>233</td>\n",
       "      <td>233</td>\n",
       "      <td>233</td>\n",
       "      <td>233</td>\n",
       "      <td>91</td>\n",
       "      <td>231</td>\n",
       "    </tr>\n",
       "    <tr>\n",
       "      <th rowspan=\"2\" valign=\"top\">male</th>\n",
       "      <th>0</th>\n",
       "      <td>468</td>\n",
       "      <td>468</td>\n",
       "      <td>468</td>\n",
       "      <td>360</td>\n",
       "      <td>468</td>\n",
       "      <td>468</td>\n",
       "      <td>468</td>\n",
       "      <td>468</td>\n",
       "      <td>62</td>\n",
       "      <td>468</td>\n",
       "    </tr>\n",
       "    <tr>\n",
       "      <th>1</th>\n",
       "      <td>109</td>\n",
       "      <td>109</td>\n",
       "      <td>109</td>\n",
       "      <td>93</td>\n",
       "      <td>109</td>\n",
       "      <td>109</td>\n",
       "      <td>109</td>\n",
       "      <td>109</td>\n",
       "      <td>45</td>\n",
       "      <td>109</td>\n",
       "    </tr>\n",
       "  </tbody>\n",
       "</table>\n",
       "</div>"
      ],
      "text/plain": [
       "                 PassengerId  Pclass  Name  Age  SibSp  Parch  Ticket  Fare  \\\n",
       "Sex    Survived                                                               \n",
       "female 0                  81      81    81   64     81     81      81    81   \n",
       "       1                 233     233   233  197    233    233     233   233   \n",
       "male   0                 468     468   468  360    468    468     468   468   \n",
       "       1                 109     109   109   93    109    109     109   109   \n",
       "\n",
       "                 Cabin  Embarked  \n",
       "Sex    Survived                   \n",
       "female 0             6        81  \n",
       "       1            91       231  \n",
       "male   0            62       468  \n",
       "       1            45       109  "
      ]
     },
     "execution_count": 12,
     "metadata": {},
     "output_type": "execute_result"
    }
   ],
   "source": [
    "data.groupby(['Sex', 'Survived']).count()"
   ]
  },
  {
   "cell_type": "code",
   "execution_count": 13,
   "metadata": {},
   "outputs": [
    {
     "data": {
      "image/png": "[encoded data removed]",
      "text/plain": [
       "<Figure size 1296x576 with 2 Axes>"
      ]
     },
     "metadata": {
      "needs_background": "light"
     },
     "output_type": "display_data"
    }
   ],
   "source": [
    "colors = ['tomato', 'blue']\n",
    "f, ax = plt.subplots(1,2, figsize =(18,8))\n",
    "data[['Sex','Survived']].groupby(['Sex']).mean().plot.bar(ax=ax[0])\n",
    "ax[0].set_title('Survived vs Sex')\n",
    "sns.countplot('Sex', hue = 'Survived',data = data, ax = ax[1], palette = colors) #hue le mamoaka anle legend 'survived'=1 / 0\n",
    "ax[1].set_title('Survived vs Sex')\n",
    "plt.show()"
   ]
  },
  {
   "cell_type": "markdown",
   "metadata": {},
   "source": [
    "### From the first plot:\n",
    "\n",
    "There are lots of men in the ship but the rate of survival from women are about the double of men's. About 75% of women survived whereas only 18-19% did."
   ]
  },
  {
   "cell_type": "markdown",
   "metadata": {},
   "source": [
    "### PClass--> ordinal features"
   ]
  },
  {
   "cell_type": "code",
   "execution_count": null,
   "metadata": {},
   "outputs": [],
   "source": [
    "pd.crosstab(data.Pclass,data.Survived,margins=True).style.background_gradient(cmap='summer_r')"
   ]
  },
  {
   "cell_type": "markdown",
   "metadata": {},
   "source": [
    "### 62% of the first class survived (out of 216), 47% of the second class survived (out of 184), while only 24% of the third class survived (out of 491).\n",
    "\"Seems like the class of a person played a role within the survival, priority is given to the wealthiest group? \""
   ]
  },
  {
   "cell_type": "code",
   "execution_count": null,
   "metadata": {},
   "outputs": [],
   "source": [
    "f, ax = plt.subplots(1,2, figsize = (18,8))\n",
    "data['Pclass'].value_counts().plot.bar(color=['#CD7F32','#FFDF00','#D3D3D3'],ax=ax[0])\n",
    "ax[0].set_title('Number of passengers by Pclass')\n",
    "sns.countplot('Pclass',hue='Survived',data=data,ax=ax[1])"
   ]
  },
  {
   "cell_type": "code",
   "execution_count": null,
   "metadata": {},
   "outputs": [],
   "source": [
    "pd.crosstab(data.Pclass, data.Sex, data.Survived, margins= True).style.background_gradient(cmap = 'summer_r')"
   ]
  },
  {
   "cell_type": "code",
   "execution_count": null,
   "metadata": {},
   "outputs": [],
   "source": [
    "pd.crosstab( [data.Sex, data.Survived], data.Pclass, margins= True).style.background_gradient(cmap = 'summer_r')"
   ]
  },
  {
   "cell_type": "markdown",
   "metadata": {},
   "source": [
    "Majority of women were rescued comparing to men and the money is for something too.\n",
    "Actually, from the first class, the 42% saved were women and only 20% were men.\n",
    "\n",
    "In the second class, 38% women and 9% men. \n",
    "\n",
    "As for the third one, only 15% of women were saved whereas only 9% were men."
   ]
  },
  {
   "cell_type": "code",
   "execution_count": null,
   "metadata": {},
   "outputs": [],
   "source": [
    "#This does not work, we need a factor plot\n",
    "fig, ax =plt.subplots(1,2, figsize = (18,8))\n",
    "data['Pclass'].value_counts().plot.bar(ax=ax[0]) \n",
    "ax[0].set_title('Number of passengers by Pclass')\n",
    "sns.countplot(['Pclass','Sex'], hue='Survived', data=data, ax = ax[1])"
   ]
  },
  {
   "cell_type": "code",
   "execution_count": null,
   "metadata": {
    "scrolled": true
   },
   "outputs": [],
   "source": [
    "sns.factorplot('Pclass', 'Survived', hue = 'Sex', data = data)"
   ]
  },
  {
   "cell_type": "markdown",
   "metadata": {},
   "source": [
    "We use FactorPlot in this case, because they make the seperation of categorical values easy.\n",
    "\n",
    "Looking at the $\\bf CrossTab$ and the $\\bf FactorPlot$, we can easily infer that survival for $\\bf Women ~from ~Pclass~1$ is about $\\bf 95$-$\\bf96\\%$, as only 3 out of 94 Women from Pclass1 died.\n",
    "\n",
    "It is evident that irrespective of Pclass, Women were given first priority while rescue. Even Men from Pclass1 have a very low survival rate."
   ]
  },
  {
   "cell_type": "markdown",
   "metadata": {},
   "source": [
    "so far, it looks like $\\bf{Pclass}$ and $\\bf Sex$ are $\\bf important~features$. We need to explore further"
   ]
  },
  {
   "cell_type": "code",
   "execution_count": null,
   "metadata": {},
   "outputs": [],
   "source": [
    "f, ax = plt.subplots(1,figsize=(18,8))\n",
    "female_survived.value_counts().plot.pie(autopct='%1.1f%%',ax=ax[0], colors = ['tomato','blue'], shadow=False)\n",
    "ax "
   ]
  },
  {
   "cell_type": "markdown",
   "metadata": {},
   "source": [
    "## Age -> Continous feature"
   ]
  },
  {
   "cell_type": "code",
   "execution_count": null,
   "metadata": {},
   "outputs": [],
   "source": [
    "print('Oldest Passenger was of:',data['Age'].max(),'Years')\n",
    "print('Youngest Passenger was of:',data['Age'].min(),'Years')\n",
    "print('Average Age on the ship:',data['Age'].mean(),'Years')"
   ]
  },
  {
   "cell_type": "markdown",
   "metadata": {},
   "source": [
    "# Mbola misy zvtr atao eto"
   ]
  },
  {
   "cell_type": "code",
   "execution_count": null,
   "metadata": {},
   "outputs": [],
   "source": []
  },
  {
   "cell_type": "markdown",
   "metadata": {},
   "source": [
    "### We have 177 null values in Age and we need to fix this. To do that we can assign the average age value to each null or nan value. \n",
    "However, one issue stands out. What if we assign the average of 29 to a 4 years old child? That would affect our analysis.\n",
    "So, to deal with that, we are going to use the \"Title\" from the Name feature and fill each category to their respective mean."
   ]
  },
  {
   "cell_type": "code",
   "execution_count": 18,
   "metadata": {},
   "outputs": [],
   "source": [
    "data['Initials'] = 0\n",
    "for i in data:\n",
    "    data['Initials'] = data.Name.str.extract('([A-Za-z]+)\\.') # to extract the salutation value"
   ]
  },
  {
   "cell_type": "markdown",
   "metadata": {},
   "source": [
    "Okay so here we are using the Regex: [A-Za-z]+).. So what it does is, it looks for strings which lie between A-Z or a-z and followed by a .(dot). So we successfully extract the Initials from the Name.\n",
    "\n",
    "Here we do $\\bf feature~ creating$ from $\\bf Name$"
   ]
  },
  {
   "cell_type": "code",
   "execution_count": 19,
   "metadata": {},
   "outputs": [
    {
     "data": {
      "text/html": [
       "<style  type=\"text/css\" >\n",
       "    #T_49dbc346_7897_11e9_8c53_a0a4c58b4605row0_col0 {\n",
       "            background-color:  #008066;\n",
       "        }    #T_49dbc346_7897_11e9_8c53_a0a4c58b4605row0_col1 {\n",
       "            background-color:  #ffff66;\n",
       "        }    #T_49dbc346_7897_11e9_8c53_a0a4c58b4605row0_col2 {\n",
       "            background-color:  #ffff66;\n",
       "        }    #T_49dbc346_7897_11e9_8c53_a0a4c58b4605row0_col3 {\n",
       "            background-color:  #008066;\n",
       "        }    #T_49dbc346_7897_11e9_8c53_a0a4c58b4605row0_col4 {\n",
       "            background-color:  #bfdf66;\n",
       "        }    #T_49dbc346_7897_11e9_8c53_a0a4c58b4605row0_col5 {\n",
       "            background-color:  #008066;\n",
       "        }    #T_49dbc346_7897_11e9_8c53_a0a4c58b4605row0_col6 {\n",
       "            background-color:  #ffff66;\n",
       "        }    #T_49dbc346_7897_11e9_8c53_a0a4c58b4605row0_col7 {\n",
       "            background-color:  #ffff66;\n",
       "        }    #T_49dbc346_7897_11e9_8c53_a0a4c58b4605row0_col8 {\n",
       "            background-color:  #ffff66;\n",
       "        }    #T_49dbc346_7897_11e9_8c53_a0a4c58b4605row0_col9 {\n",
       "            background-color:  #ffff66;\n",
       "        }    #T_49dbc346_7897_11e9_8c53_a0a4c58b4605row0_col10 {\n",
       "            background-color:  #ffff66;\n",
       "        }    #T_49dbc346_7897_11e9_8c53_a0a4c58b4605row0_col11 {\n",
       "            background-color:  #ffff66;\n",
       "        }    #T_49dbc346_7897_11e9_8c53_a0a4c58b4605row0_col12 {\n",
       "            background-color:  #2f9766;\n",
       "        }    #T_49dbc346_7897_11e9_8c53_a0a4c58b4605row0_col13 {\n",
       "            background-color:  #ffff66;\n",
       "        }    #T_49dbc346_7897_11e9_8c53_a0a4c58b4605row0_col14 {\n",
       "            background-color:  #ffff66;\n",
       "        }    #T_49dbc346_7897_11e9_8c53_a0a4c58b4605row0_col15 {\n",
       "            background-color:  #008066;\n",
       "        }    #T_49dbc346_7897_11e9_8c53_a0a4c58b4605row0_col16 {\n",
       "            background-color:  #ffff66;\n",
       "        }    #T_49dbc346_7897_11e9_8c53_a0a4c58b4605row0_col17 {\n",
       "            background-color:  #9fcf66;\n",
       "        }    #T_49dbc346_7897_11e9_8c53_a0a4c58b4605row1_col0 {\n",
       "            background-color:  #ffff66;\n",
       "        }    #T_49dbc346_7897_11e9_8c53_a0a4c58b4605row1_col1 {\n",
       "            background-color:  #ffff66;\n",
       "        }    #T_49dbc346_7897_11e9_8c53_a0a4c58b4605row1_col2 {\n",
       "            background-color:  #008066;\n",
       "        }    #T_49dbc346_7897_11e9_8c53_a0a4c58b4605row1_col3 {\n",
       "            background-color:  #ffff66;\n",
       "        }    #T_49dbc346_7897_11e9_8c53_a0a4c58b4605row1_col4 {\n",
       "            background-color:  #ffff66;\n",
       "        }    #T_49dbc346_7897_11e9_8c53_a0a4c58b4605row1_col5 {\n",
       "            background-color:  #ffff66;\n",
       "        }    #T_49dbc346_7897_11e9_8c53_a0a4c58b4605row1_col6 {\n",
       "            background-color:  #008066;\n",
       "        }    #T_49dbc346_7897_11e9_8c53_a0a4c58b4605row1_col7 {\n",
       "            background-color:  #ffff66;\n",
       "        }    #T_49dbc346_7897_11e9_8c53_a0a4c58b4605row1_col8 {\n",
       "            background-color:  #bdde66;\n",
       "        }    #T_49dbc346_7897_11e9_8c53_a0a4c58b4605row1_col9 {\n",
       "            background-color:  #6eb666;\n",
       "        }    #T_49dbc346_7897_11e9_8c53_a0a4c58b4605row1_col10 {\n",
       "            background-color:  #008066;\n",
       "        }    #T_49dbc346_7897_11e9_8c53_a0a4c58b4605row1_col11 {\n",
       "            background-color:  #008066;\n",
       "        }    #T_49dbc346_7897_11e9_8c53_a0a4c58b4605row1_col12 {\n",
       "            background-color:  #ffff66;\n",
       "        }    #T_49dbc346_7897_11e9_8c53_a0a4c58b4605row1_col13 {\n",
       "            background-color:  #43a166;\n",
       "        }    #T_49dbc346_7897_11e9_8c53_a0a4c58b4605row1_col14 {\n",
       "            background-color:  #008066;\n",
       "        }    #T_49dbc346_7897_11e9_8c53_a0a4c58b4605row1_col15 {\n",
       "            background-color:  #ffff66;\n",
       "        }    #T_49dbc346_7897_11e9_8c53_a0a4c58b4605row1_col16 {\n",
       "            background-color:  #008066;\n",
       "        }    #T_49dbc346_7897_11e9_8c53_a0a4c58b4605row1_col17 {\n",
       "            background-color:  #ffff66;\n",
       "        }    #T_49dbc346_7897_11e9_8c53_a0a4c58b4605row2_col0 {\n",
       "            background-color:  #008066;\n",
       "        }    #T_49dbc346_7897_11e9_8c53_a0a4c58b4605row2_col1 {\n",
       "            background-color:  #008066;\n",
       "        }    #T_49dbc346_7897_11e9_8c53_a0a4c58b4605row2_col2 {\n",
       "            background-color:  #008066;\n",
       "        }    #T_49dbc346_7897_11e9_8c53_a0a4c58b4605row2_col3 {\n",
       "            background-color:  #008066;\n",
       "        }    #T_49dbc346_7897_11e9_8c53_a0a4c58b4605row2_col4 {\n",
       "            background-color:  #008066;\n",
       "        }    #T_49dbc346_7897_11e9_8c53_a0a4c58b4605row2_col5 {\n",
       "            background-color:  #008066;\n",
       "        }    #T_49dbc346_7897_11e9_8c53_a0a4c58b4605row2_col6 {\n",
       "            background-color:  #008066;\n",
       "        }    #T_49dbc346_7897_11e9_8c53_a0a4c58b4605row2_col7 {\n",
       "            background-color:  #008066;\n",
       "        }    #T_49dbc346_7897_11e9_8c53_a0a4c58b4605row2_col8 {\n",
       "            background-color:  #008066;\n",
       "        }    #T_49dbc346_7897_11e9_8c53_a0a4c58b4605row2_col9 {\n",
       "            background-color:  #008066;\n",
       "        }    #T_49dbc346_7897_11e9_8c53_a0a4c58b4605row2_col10 {\n",
       "            background-color:  #008066;\n",
       "        }    #T_49dbc346_7897_11e9_8c53_a0a4c58b4605row2_col11 {\n",
       "            background-color:  #008066;\n",
       "        }    #T_49dbc346_7897_11e9_8c53_a0a4c58b4605row2_col12 {\n",
       "            background-color:  #008066;\n",
       "        }    #T_49dbc346_7897_11e9_8c53_a0a4c58b4605row2_col13 {\n",
       "            background-color:  #008066;\n",
       "        }    #T_49dbc346_7897_11e9_8c53_a0a4c58b4605row2_col14 {\n",
       "            background-color:  #008066;\n",
       "        }    #T_49dbc346_7897_11e9_8c53_a0a4c58b4605row2_col15 {\n",
       "            background-color:  #008066;\n",
       "        }    #T_49dbc346_7897_11e9_8c53_a0a4c58b4605row2_col16 {\n",
       "            background-color:  #008066;\n",
       "        }    #T_49dbc346_7897_11e9_8c53_a0a4c58b4605row2_col17 {\n",
       "            background-color:  #008066;\n",
       "        }</style>  \n",
       "<table id=\"T_49dbc346_7897_11e9_8c53_a0a4c58b4605\" > \n",
       "<thead>    <tr> \n",
       "        <th class=\"index_name level0\" >Initials</th> \n",
       "        <th class=\"col_heading level0 col0\" >Capt</th> \n",
       "        <th class=\"col_heading level0 col1\" >Col</th> \n",
       "        <th class=\"col_heading level0 col2\" >Countess</th> \n",
       "        <th class=\"col_heading level0 col3\" >Don</th> \n",
       "        <th class=\"col_heading level0 col4\" >Dr</th> \n",
       "        <th class=\"col_heading level0 col5\" >Jonkheer</th> \n",
       "        <th class=\"col_heading level0 col6\" >Lady</th> \n",
       "        <th class=\"col_heading level0 col7\" >Major</th> \n",
       "        <th class=\"col_heading level0 col8\" >Master</th> \n",
       "        <th class=\"col_heading level0 col9\" >Miss</th> \n",
       "        <th class=\"col_heading level0 col10\" >Mlle</th> \n",
       "        <th class=\"col_heading level0 col11\" >Mme</th> \n",
       "        <th class=\"col_heading level0 col12\" >Mr</th> \n",
       "        <th class=\"col_heading level0 col13\" >Mrs</th> \n",
       "        <th class=\"col_heading level0 col14\" >Ms</th> \n",
       "        <th class=\"col_heading level0 col15\" >Rev</th> \n",
       "        <th class=\"col_heading level0 col16\" >Sir</th> \n",
       "        <th class=\"col_heading level0 col17\" >All</th> \n",
       "    </tr>    <tr> \n",
       "        <th class=\"index_name level0\" >Survived</th> \n",
       "        <th class=\"blank\" ></th> \n",
       "        <th class=\"blank\" ></th> \n",
       "        <th class=\"blank\" ></th> \n",
       "        <th class=\"blank\" ></th> \n",
       "        <th class=\"blank\" ></th> \n",
       "        <th class=\"blank\" ></th> \n",
       "        <th class=\"blank\" ></th> \n",
       "        <th class=\"blank\" ></th> \n",
       "        <th class=\"blank\" ></th> \n",
       "        <th class=\"blank\" ></th> \n",
       "        <th class=\"blank\" ></th> \n",
       "        <th class=\"blank\" ></th> \n",
       "        <th class=\"blank\" ></th> \n",
       "        <th class=\"blank\" ></th> \n",
       "        <th class=\"blank\" ></th> \n",
       "        <th class=\"blank\" ></th> \n",
       "        <th class=\"blank\" ></th> \n",
       "        <th class=\"blank\" ></th> \n",
       "    </tr></thead> \n",
       "<tbody>    <tr> \n",
       "        <th id=\"T_49dbc346_7897_11e9_8c53_a0a4c58b4605level0_row0\" class=\"row_heading level0 row0\" >0</th> \n",
       "        <td id=\"T_49dbc346_7897_11e9_8c53_a0a4c58b4605row0_col0\" class=\"data row0 col0\" >1</td> \n",
       "        <td id=\"T_49dbc346_7897_11e9_8c53_a0a4c58b4605row0_col1\" class=\"data row0 col1\" >1</td> \n",
       "        <td id=\"T_49dbc346_7897_11e9_8c53_a0a4c58b4605row0_col2\" class=\"data row0 col2\" >0</td> \n",
       "        <td id=\"T_49dbc346_7897_11e9_8c53_a0a4c58b4605row0_col3\" class=\"data row0 col3\" >1</td> \n",
       "        <td id=\"T_49dbc346_7897_11e9_8c53_a0a4c58b4605row0_col4\" class=\"data row0 col4\" >4</td> \n",
       "        <td id=\"T_49dbc346_7897_11e9_8c53_a0a4c58b4605row0_col5\" class=\"data row0 col5\" >1</td> \n",
       "        <td id=\"T_49dbc346_7897_11e9_8c53_a0a4c58b4605row0_col6\" class=\"data row0 col6\" >0</td> \n",
       "        <td id=\"T_49dbc346_7897_11e9_8c53_a0a4c58b4605row0_col7\" class=\"data row0 col7\" >1</td> \n",
       "        <td id=\"T_49dbc346_7897_11e9_8c53_a0a4c58b4605row0_col8\" class=\"data row0 col8\" >17</td> \n",
       "        <td id=\"T_49dbc346_7897_11e9_8c53_a0a4c58b4605row0_col9\" class=\"data row0 col9\" >55</td> \n",
       "        <td id=\"T_49dbc346_7897_11e9_8c53_a0a4c58b4605row0_col10\" class=\"data row0 col10\" >0</td> \n",
       "        <td id=\"T_49dbc346_7897_11e9_8c53_a0a4c58b4605row0_col11\" class=\"data row0 col11\" >0</td> \n",
       "        <td id=\"T_49dbc346_7897_11e9_8c53_a0a4c58b4605row0_col12\" class=\"data row0 col12\" >436</td> \n",
       "        <td id=\"T_49dbc346_7897_11e9_8c53_a0a4c58b4605row0_col13\" class=\"data row0 col13\" >26</td> \n",
       "        <td id=\"T_49dbc346_7897_11e9_8c53_a0a4c58b4605row0_col14\" class=\"data row0 col14\" >0</td> \n",
       "        <td id=\"T_49dbc346_7897_11e9_8c53_a0a4c58b4605row0_col15\" class=\"data row0 col15\" >6</td> \n",
       "        <td id=\"T_49dbc346_7897_11e9_8c53_a0a4c58b4605row0_col16\" class=\"data row0 col16\" >0</td> \n",
       "        <td id=\"T_49dbc346_7897_11e9_8c53_a0a4c58b4605row0_col17\" class=\"data row0 col17\" >549</td> \n",
       "    </tr>    <tr> \n",
       "        <th id=\"T_49dbc346_7897_11e9_8c53_a0a4c58b4605level0_row1\" class=\"row_heading level0 row1\" >1</th> \n",
       "        <td id=\"T_49dbc346_7897_11e9_8c53_a0a4c58b4605row1_col0\" class=\"data row1 col0\" >0</td> \n",
       "        <td id=\"T_49dbc346_7897_11e9_8c53_a0a4c58b4605row1_col1\" class=\"data row1 col1\" >1</td> \n",
       "        <td id=\"T_49dbc346_7897_11e9_8c53_a0a4c58b4605row1_col2\" class=\"data row1 col2\" >1</td> \n",
       "        <td id=\"T_49dbc346_7897_11e9_8c53_a0a4c58b4605row1_col3\" class=\"data row1 col3\" >0</td> \n",
       "        <td id=\"T_49dbc346_7897_11e9_8c53_a0a4c58b4605row1_col4\" class=\"data row1 col4\" >3</td> \n",
       "        <td id=\"T_49dbc346_7897_11e9_8c53_a0a4c58b4605row1_col5\" class=\"data row1 col5\" >0</td> \n",
       "        <td id=\"T_49dbc346_7897_11e9_8c53_a0a4c58b4605row1_col6\" class=\"data row1 col6\" >1</td> \n",
       "        <td id=\"T_49dbc346_7897_11e9_8c53_a0a4c58b4605row1_col7\" class=\"data row1 col7\" >1</td> \n",
       "        <td id=\"T_49dbc346_7897_11e9_8c53_a0a4c58b4605row1_col8\" class=\"data row1 col8\" >23</td> \n",
       "        <td id=\"T_49dbc346_7897_11e9_8c53_a0a4c58b4605row1_col9\" class=\"data row1 col9\" >127</td> \n",
       "        <td id=\"T_49dbc346_7897_11e9_8c53_a0a4c58b4605row1_col10\" class=\"data row1 col10\" >2</td> \n",
       "        <td id=\"T_49dbc346_7897_11e9_8c53_a0a4c58b4605row1_col11\" class=\"data row1 col11\" >1</td> \n",
       "        <td id=\"T_49dbc346_7897_11e9_8c53_a0a4c58b4605row1_col12\" class=\"data row1 col12\" >81</td> \n",
       "        <td id=\"T_49dbc346_7897_11e9_8c53_a0a4c58b4605row1_col13\" class=\"data row1 col13\" >99</td> \n",
       "        <td id=\"T_49dbc346_7897_11e9_8c53_a0a4c58b4605row1_col14\" class=\"data row1 col14\" >1</td> \n",
       "        <td id=\"T_49dbc346_7897_11e9_8c53_a0a4c58b4605row1_col15\" class=\"data row1 col15\" >0</td> \n",
       "        <td id=\"T_49dbc346_7897_11e9_8c53_a0a4c58b4605row1_col16\" class=\"data row1 col16\" >1</td> \n",
       "        <td id=\"T_49dbc346_7897_11e9_8c53_a0a4c58b4605row1_col17\" class=\"data row1 col17\" >342</td> \n",
       "    </tr>    <tr> \n",
       "        <th id=\"T_49dbc346_7897_11e9_8c53_a0a4c58b4605level0_row2\" class=\"row_heading level0 row2\" >All</th> \n",
       "        <td id=\"T_49dbc346_7897_11e9_8c53_a0a4c58b4605row2_col0\" class=\"data row2 col0\" >1</td> \n",
       "        <td id=\"T_49dbc346_7897_11e9_8c53_a0a4c58b4605row2_col1\" class=\"data row2 col1\" >2</td> \n",
       "        <td id=\"T_49dbc346_7897_11e9_8c53_a0a4c58b4605row2_col2\" class=\"data row2 col2\" >1</td> \n",
       "        <td id=\"T_49dbc346_7897_11e9_8c53_a0a4c58b4605row2_col3\" class=\"data row2 col3\" >1</td> \n",
       "        <td id=\"T_49dbc346_7897_11e9_8c53_a0a4c58b4605row2_col4\" class=\"data row2 col4\" >7</td> \n",
       "        <td id=\"T_49dbc346_7897_11e9_8c53_a0a4c58b4605row2_col5\" class=\"data row2 col5\" >1</td> \n",
       "        <td id=\"T_49dbc346_7897_11e9_8c53_a0a4c58b4605row2_col6\" class=\"data row2 col6\" >1</td> \n",
       "        <td id=\"T_49dbc346_7897_11e9_8c53_a0a4c58b4605row2_col7\" class=\"data row2 col7\" >2</td> \n",
       "        <td id=\"T_49dbc346_7897_11e9_8c53_a0a4c58b4605row2_col8\" class=\"data row2 col8\" >40</td> \n",
       "        <td id=\"T_49dbc346_7897_11e9_8c53_a0a4c58b4605row2_col9\" class=\"data row2 col9\" >182</td> \n",
       "        <td id=\"T_49dbc346_7897_11e9_8c53_a0a4c58b4605row2_col10\" class=\"data row2 col10\" >2</td> \n",
       "        <td id=\"T_49dbc346_7897_11e9_8c53_a0a4c58b4605row2_col11\" class=\"data row2 col11\" >1</td> \n",
       "        <td id=\"T_49dbc346_7897_11e9_8c53_a0a4c58b4605row2_col12\" class=\"data row2 col12\" >517</td> \n",
       "        <td id=\"T_49dbc346_7897_11e9_8c53_a0a4c58b4605row2_col13\" class=\"data row2 col13\" >125</td> \n",
       "        <td id=\"T_49dbc346_7897_11e9_8c53_a0a4c58b4605row2_col14\" class=\"data row2 col14\" >1</td> \n",
       "        <td id=\"T_49dbc346_7897_11e9_8c53_a0a4c58b4605row2_col15\" class=\"data row2 col15\" >6</td> \n",
       "        <td id=\"T_49dbc346_7897_11e9_8c53_a0a4c58b4605row2_col16\" class=\"data row2 col16\" >1</td> \n",
       "        <td id=\"T_49dbc346_7897_11e9_8c53_a0a4c58b4605row2_col17\" class=\"data row2 col17\" >891</td> \n",
       "    </tr></tbody> \n",
       "</table> "
      ],
      "text/plain": [
       "<pandas.io.formats.style.Styler at 0x25d41ab1630>"
      ]
     },
     "execution_count": 19,
     "metadata": {},
     "output_type": "execute_result"
    }
   ],
   "source": [
    "pd.crosstab(data.Survived, data.Initials, margins = True).style.background_gradient(cmap='summer_r')"
   ]
  },
  {
   "cell_type": "code",
   "execution_count": 20,
   "metadata": {},
   "outputs": [
    {
     "data": {
      "text/html": [
       "<style  type=\"text/css\" >\n",
       "    #T_4a1052fa_7897_11e9_bf00_a0a4c58b4605row0_col0 {\n",
       "            background-color:  #ffff66;\n",
       "        }    #T_4a1052fa_7897_11e9_bf00_a0a4c58b4605row0_col1 {\n",
       "            background-color:  #ffff66;\n",
       "        }    #T_4a1052fa_7897_11e9_bf00_a0a4c58b4605row0_col2 {\n",
       "            background-color:  #008066;\n",
       "        }    #T_4a1052fa_7897_11e9_bf00_a0a4c58b4605row0_col3 {\n",
       "            background-color:  #ffff66;\n",
       "        }    #T_4a1052fa_7897_11e9_bf00_a0a4c58b4605row0_col4 {\n",
       "            background-color:  #ffff66;\n",
       "        }    #T_4a1052fa_7897_11e9_bf00_a0a4c58b4605row0_col5 {\n",
       "            background-color:  #ffff66;\n",
       "        }    #T_4a1052fa_7897_11e9_bf00_a0a4c58b4605row0_col6 {\n",
       "            background-color:  #008066;\n",
       "        }    #T_4a1052fa_7897_11e9_bf00_a0a4c58b4605row0_col7 {\n",
       "            background-color:  #ffff66;\n",
       "        }    #T_4a1052fa_7897_11e9_bf00_a0a4c58b4605row0_col8 {\n",
       "            background-color:  #ffff66;\n",
       "        }    #T_4a1052fa_7897_11e9_bf00_a0a4c58b4605row0_col9 {\n",
       "            background-color:  #008066;\n",
       "        }    #T_4a1052fa_7897_11e9_bf00_a0a4c58b4605row0_col10 {\n",
       "            background-color:  #008066;\n",
       "        }    #T_4a1052fa_7897_11e9_bf00_a0a4c58b4605row0_col11 {\n",
       "            background-color:  #008066;\n",
       "        }    #T_4a1052fa_7897_11e9_bf00_a0a4c58b4605row0_col12 {\n",
       "            background-color:  #ffff66;\n",
       "        }    #T_4a1052fa_7897_11e9_bf00_a0a4c58b4605row0_col13 {\n",
       "            background-color:  #008066;\n",
       "        }    #T_4a1052fa_7897_11e9_bf00_a0a4c58b4605row0_col14 {\n",
       "            background-color:  #008066;\n",
       "        }    #T_4a1052fa_7897_11e9_bf00_a0a4c58b4605row0_col15 {\n",
       "            background-color:  #ffff66;\n",
       "        }    #T_4a1052fa_7897_11e9_bf00_a0a4c58b4605row0_col16 {\n",
       "            background-color:  #ffff66;\n",
       "        }    #T_4a1052fa_7897_11e9_bf00_a0a4c58b4605row0_col17 {\n",
       "            background-color:  #ffff66;\n",
       "        }    #T_4a1052fa_7897_11e9_bf00_a0a4c58b4605row1_col0 {\n",
       "            background-color:  #008066;\n",
       "        }    #T_4a1052fa_7897_11e9_bf00_a0a4c58b4605row1_col1 {\n",
       "            background-color:  #008066;\n",
       "        }    #T_4a1052fa_7897_11e9_bf00_a0a4c58b4605row1_col2 {\n",
       "            background-color:  #ffff66;\n",
       "        }    #T_4a1052fa_7897_11e9_bf00_a0a4c58b4605row1_col3 {\n",
       "            background-color:  #008066;\n",
       "        }    #T_4a1052fa_7897_11e9_bf00_a0a4c58b4605row1_col4 {\n",
       "            background-color:  #2a9466;\n",
       "        }    #T_4a1052fa_7897_11e9_bf00_a0a4c58b4605row1_col5 {\n",
       "            background-color:  #008066;\n",
       "        }    #T_4a1052fa_7897_11e9_bf00_a0a4c58b4605row1_col6 {\n",
       "            background-color:  #ffff66;\n",
       "        }    #T_4a1052fa_7897_11e9_bf00_a0a4c58b4605row1_col7 {\n",
       "            background-color:  #008066;\n",
       "        }    #T_4a1052fa_7897_11e9_bf00_a0a4c58b4605row1_col8 {\n",
       "            background-color:  #008066;\n",
       "        }    #T_4a1052fa_7897_11e9_bf00_a0a4c58b4605row1_col9 {\n",
       "            background-color:  #ffff66;\n",
       "        }    #T_4a1052fa_7897_11e9_bf00_a0a4c58b4605row1_col10 {\n",
       "            background-color:  #ffff66;\n",
       "        }    #T_4a1052fa_7897_11e9_bf00_a0a4c58b4605row1_col11 {\n",
       "            background-color:  #ffff66;\n",
       "        }    #T_4a1052fa_7897_11e9_bf00_a0a4c58b4605row1_col12 {\n",
       "            background-color:  #008066;\n",
       "        }    #T_4a1052fa_7897_11e9_bf00_a0a4c58b4605row1_col13 {\n",
       "            background-color:  #ffff66;\n",
       "        }    #T_4a1052fa_7897_11e9_bf00_a0a4c58b4605row1_col14 {\n",
       "            background-color:  #ffff66;\n",
       "        }    #T_4a1052fa_7897_11e9_bf00_a0a4c58b4605row1_col15 {\n",
       "            background-color:  #008066;\n",
       "        }    #T_4a1052fa_7897_11e9_bf00_a0a4c58b4605row1_col16 {\n",
       "            background-color:  #008066;\n",
       "        }    #T_4a1052fa_7897_11e9_bf00_a0a4c58b4605row1_col17 {\n",
       "            background-color:  #8bc566;\n",
       "        }    #T_4a1052fa_7897_11e9_bf00_a0a4c58b4605row2_col0 {\n",
       "            background-color:  #008066;\n",
       "        }    #T_4a1052fa_7897_11e9_bf00_a0a4c58b4605row2_col1 {\n",
       "            background-color:  #008066;\n",
       "        }    #T_4a1052fa_7897_11e9_bf00_a0a4c58b4605row2_col2 {\n",
       "            background-color:  #008066;\n",
       "        }    #T_4a1052fa_7897_11e9_bf00_a0a4c58b4605row2_col3 {\n",
       "            background-color:  #008066;\n",
       "        }    #T_4a1052fa_7897_11e9_bf00_a0a4c58b4605row2_col4 {\n",
       "            background-color:  #008066;\n",
       "        }    #T_4a1052fa_7897_11e9_bf00_a0a4c58b4605row2_col5 {\n",
       "            background-color:  #008066;\n",
       "        }    #T_4a1052fa_7897_11e9_bf00_a0a4c58b4605row2_col6 {\n",
       "            background-color:  #008066;\n",
       "        }    #T_4a1052fa_7897_11e9_bf00_a0a4c58b4605row2_col7 {\n",
       "            background-color:  #008066;\n",
       "        }    #T_4a1052fa_7897_11e9_bf00_a0a4c58b4605row2_col8 {\n",
       "            background-color:  #008066;\n",
       "        }    #T_4a1052fa_7897_11e9_bf00_a0a4c58b4605row2_col9 {\n",
       "            background-color:  #008066;\n",
       "        }    #T_4a1052fa_7897_11e9_bf00_a0a4c58b4605row2_col10 {\n",
       "            background-color:  #008066;\n",
       "        }    #T_4a1052fa_7897_11e9_bf00_a0a4c58b4605row2_col11 {\n",
       "            background-color:  #008066;\n",
       "        }    #T_4a1052fa_7897_11e9_bf00_a0a4c58b4605row2_col12 {\n",
       "            background-color:  #008066;\n",
       "        }    #T_4a1052fa_7897_11e9_bf00_a0a4c58b4605row2_col13 {\n",
       "            background-color:  #008066;\n",
       "        }    #T_4a1052fa_7897_11e9_bf00_a0a4c58b4605row2_col14 {\n",
       "            background-color:  #008066;\n",
       "        }    #T_4a1052fa_7897_11e9_bf00_a0a4c58b4605row2_col15 {\n",
       "            background-color:  #008066;\n",
       "        }    #T_4a1052fa_7897_11e9_bf00_a0a4c58b4605row2_col16 {\n",
       "            background-color:  #008066;\n",
       "        }    #T_4a1052fa_7897_11e9_bf00_a0a4c58b4605row2_col17 {\n",
       "            background-color:  #008066;\n",
       "        }</style>  \n",
       "<table id=\"T_4a1052fa_7897_11e9_bf00_a0a4c58b4605\" > \n",
       "<thead>    <tr> \n",
       "        <th class=\"index_name level0\" >Initials</th> \n",
       "        <th class=\"col_heading level0 col0\" >Capt</th> \n",
       "        <th class=\"col_heading level0 col1\" >Col</th> \n",
       "        <th class=\"col_heading level0 col2\" >Countess</th> \n",
       "        <th class=\"col_heading level0 col3\" >Don</th> \n",
       "        <th class=\"col_heading level0 col4\" >Dr</th> \n",
       "        <th class=\"col_heading level0 col5\" >Jonkheer</th> \n",
       "        <th class=\"col_heading level0 col6\" >Lady</th> \n",
       "        <th class=\"col_heading level0 col7\" >Major</th> \n",
       "        <th class=\"col_heading level0 col8\" >Master</th> \n",
       "        <th class=\"col_heading level0 col9\" >Miss</th> \n",
       "        <th class=\"col_heading level0 col10\" >Mlle</th> \n",
       "        <th class=\"col_heading level0 col11\" >Mme</th> \n",
       "        <th class=\"col_heading level0 col12\" >Mr</th> \n",
       "        <th class=\"col_heading level0 col13\" >Mrs</th> \n",
       "        <th class=\"col_heading level0 col14\" >Ms</th> \n",
       "        <th class=\"col_heading level0 col15\" >Rev</th> \n",
       "        <th class=\"col_heading level0 col16\" >Sir</th> \n",
       "        <th class=\"col_heading level0 col17\" >All</th> \n",
       "    </tr>    <tr> \n",
       "        <th class=\"index_name level0\" >Sex</th> \n",
       "        <th class=\"blank\" ></th> \n",
       "        <th class=\"blank\" ></th> \n",
       "        <th class=\"blank\" ></th> \n",
       "        <th class=\"blank\" ></th> \n",
       "        <th class=\"blank\" ></th> \n",
       "        <th class=\"blank\" ></th> \n",
       "        <th class=\"blank\" ></th> \n",
       "        <th class=\"blank\" ></th> \n",
       "        <th class=\"blank\" ></th> \n",
       "        <th class=\"blank\" ></th> \n",
       "        <th class=\"blank\" ></th> \n",
       "        <th class=\"blank\" ></th> \n",
       "        <th class=\"blank\" ></th> \n",
       "        <th class=\"blank\" ></th> \n",
       "        <th class=\"blank\" ></th> \n",
       "        <th class=\"blank\" ></th> \n",
       "        <th class=\"blank\" ></th> \n",
       "        <th class=\"blank\" ></th> \n",
       "    </tr></thead> \n",
       "<tbody>    <tr> \n",
       "        <th id=\"T_4a1052fa_7897_11e9_bf00_a0a4c58b4605level0_row0\" class=\"row_heading level0 row0\" >female</th> \n",
       "        <td id=\"T_4a1052fa_7897_11e9_bf00_a0a4c58b4605row0_col0\" class=\"data row0 col0\" >0</td> \n",
       "        <td id=\"T_4a1052fa_7897_11e9_bf00_a0a4c58b4605row0_col1\" class=\"data row0 col1\" >0</td> \n",
       "        <td id=\"T_4a1052fa_7897_11e9_bf00_a0a4c58b4605row0_col2\" class=\"data row0 col2\" >1</td> \n",
       "        <td id=\"T_4a1052fa_7897_11e9_bf00_a0a4c58b4605row0_col3\" class=\"data row0 col3\" >0</td> \n",
       "        <td id=\"T_4a1052fa_7897_11e9_bf00_a0a4c58b4605row0_col4\" class=\"data row0 col4\" >1</td> \n",
       "        <td id=\"T_4a1052fa_7897_11e9_bf00_a0a4c58b4605row0_col5\" class=\"data row0 col5\" >0</td> \n",
       "        <td id=\"T_4a1052fa_7897_11e9_bf00_a0a4c58b4605row0_col6\" class=\"data row0 col6\" >1</td> \n",
       "        <td id=\"T_4a1052fa_7897_11e9_bf00_a0a4c58b4605row0_col7\" class=\"data row0 col7\" >0</td> \n",
       "        <td id=\"T_4a1052fa_7897_11e9_bf00_a0a4c58b4605row0_col8\" class=\"data row0 col8\" >0</td> \n",
       "        <td id=\"T_4a1052fa_7897_11e9_bf00_a0a4c58b4605row0_col9\" class=\"data row0 col9\" >182</td> \n",
       "        <td id=\"T_4a1052fa_7897_11e9_bf00_a0a4c58b4605row0_col10\" class=\"data row0 col10\" >2</td> \n",
       "        <td id=\"T_4a1052fa_7897_11e9_bf00_a0a4c58b4605row0_col11\" class=\"data row0 col11\" >1</td> \n",
       "        <td id=\"T_4a1052fa_7897_11e9_bf00_a0a4c58b4605row0_col12\" class=\"data row0 col12\" >0</td> \n",
       "        <td id=\"T_4a1052fa_7897_11e9_bf00_a0a4c58b4605row0_col13\" class=\"data row0 col13\" >125</td> \n",
       "        <td id=\"T_4a1052fa_7897_11e9_bf00_a0a4c58b4605row0_col14\" class=\"data row0 col14\" >1</td> \n",
       "        <td id=\"T_4a1052fa_7897_11e9_bf00_a0a4c58b4605row0_col15\" class=\"data row0 col15\" >0</td> \n",
       "        <td id=\"T_4a1052fa_7897_11e9_bf00_a0a4c58b4605row0_col16\" class=\"data row0 col16\" >0</td> \n",
       "        <td id=\"T_4a1052fa_7897_11e9_bf00_a0a4c58b4605row0_col17\" class=\"data row0 col17\" >314</td> \n",
       "    </tr>    <tr> \n",
       "        <th id=\"T_4a1052fa_7897_11e9_bf00_a0a4c58b4605level0_row1\" class=\"row_heading level0 row1\" >male</th> \n",
       "        <td id=\"T_4a1052fa_7897_11e9_bf00_a0a4c58b4605row1_col0\" class=\"data row1 col0\" >1</td> \n",
       "        <td id=\"T_4a1052fa_7897_11e9_bf00_a0a4c58b4605row1_col1\" class=\"data row1 col1\" >2</td> \n",
       "        <td id=\"T_4a1052fa_7897_11e9_bf00_a0a4c58b4605row1_col2\" class=\"data row1 col2\" >0</td> \n",
       "        <td id=\"T_4a1052fa_7897_11e9_bf00_a0a4c58b4605row1_col3\" class=\"data row1 col3\" >1</td> \n",
       "        <td id=\"T_4a1052fa_7897_11e9_bf00_a0a4c58b4605row1_col4\" class=\"data row1 col4\" >6</td> \n",
       "        <td id=\"T_4a1052fa_7897_11e9_bf00_a0a4c58b4605row1_col5\" class=\"data row1 col5\" >1</td> \n",
       "        <td id=\"T_4a1052fa_7897_11e9_bf00_a0a4c58b4605row1_col6\" class=\"data row1 col6\" >0</td> \n",
       "        <td id=\"T_4a1052fa_7897_11e9_bf00_a0a4c58b4605row1_col7\" class=\"data row1 col7\" >2</td> \n",
       "        <td id=\"T_4a1052fa_7897_11e9_bf00_a0a4c58b4605row1_col8\" class=\"data row1 col8\" >40</td> \n",
       "        <td id=\"T_4a1052fa_7897_11e9_bf00_a0a4c58b4605row1_col9\" class=\"data row1 col9\" >0</td> \n",
       "        <td id=\"T_4a1052fa_7897_11e9_bf00_a0a4c58b4605row1_col10\" class=\"data row1 col10\" >0</td> \n",
       "        <td id=\"T_4a1052fa_7897_11e9_bf00_a0a4c58b4605row1_col11\" class=\"data row1 col11\" >0</td> \n",
       "        <td id=\"T_4a1052fa_7897_11e9_bf00_a0a4c58b4605row1_col12\" class=\"data row1 col12\" >517</td> \n",
       "        <td id=\"T_4a1052fa_7897_11e9_bf00_a0a4c58b4605row1_col13\" class=\"data row1 col13\" >0</td> \n",
       "        <td id=\"T_4a1052fa_7897_11e9_bf00_a0a4c58b4605row1_col14\" class=\"data row1 col14\" >0</td> \n",
       "        <td id=\"T_4a1052fa_7897_11e9_bf00_a0a4c58b4605row1_col15\" class=\"data row1 col15\" >6</td> \n",
       "        <td id=\"T_4a1052fa_7897_11e9_bf00_a0a4c58b4605row1_col16\" class=\"data row1 col16\" >1</td> \n",
       "        <td id=\"T_4a1052fa_7897_11e9_bf00_a0a4c58b4605row1_col17\" class=\"data row1 col17\" >577</td> \n",
       "    </tr>    <tr> \n",
       "        <th id=\"T_4a1052fa_7897_11e9_bf00_a0a4c58b4605level0_row2\" class=\"row_heading level0 row2\" >All</th> \n",
       "        <td id=\"T_4a1052fa_7897_11e9_bf00_a0a4c58b4605row2_col0\" class=\"data row2 col0\" >1</td> \n",
       "        <td id=\"T_4a1052fa_7897_11e9_bf00_a0a4c58b4605row2_col1\" class=\"data row2 col1\" >2</td> \n",
       "        <td id=\"T_4a1052fa_7897_11e9_bf00_a0a4c58b4605row2_col2\" class=\"data row2 col2\" >1</td> \n",
       "        <td id=\"T_4a1052fa_7897_11e9_bf00_a0a4c58b4605row2_col3\" class=\"data row2 col3\" >1</td> \n",
       "        <td id=\"T_4a1052fa_7897_11e9_bf00_a0a4c58b4605row2_col4\" class=\"data row2 col4\" >7</td> \n",
       "        <td id=\"T_4a1052fa_7897_11e9_bf00_a0a4c58b4605row2_col5\" class=\"data row2 col5\" >1</td> \n",
       "        <td id=\"T_4a1052fa_7897_11e9_bf00_a0a4c58b4605row2_col6\" class=\"data row2 col6\" >1</td> \n",
       "        <td id=\"T_4a1052fa_7897_11e9_bf00_a0a4c58b4605row2_col7\" class=\"data row2 col7\" >2</td> \n",
       "        <td id=\"T_4a1052fa_7897_11e9_bf00_a0a4c58b4605row2_col8\" class=\"data row2 col8\" >40</td> \n",
       "        <td id=\"T_4a1052fa_7897_11e9_bf00_a0a4c58b4605row2_col9\" class=\"data row2 col9\" >182</td> \n",
       "        <td id=\"T_4a1052fa_7897_11e9_bf00_a0a4c58b4605row2_col10\" class=\"data row2 col10\" >2</td> \n",
       "        <td id=\"T_4a1052fa_7897_11e9_bf00_a0a4c58b4605row2_col11\" class=\"data row2 col11\" >1</td> \n",
       "        <td id=\"T_4a1052fa_7897_11e9_bf00_a0a4c58b4605row2_col12\" class=\"data row2 col12\" >517</td> \n",
       "        <td id=\"T_4a1052fa_7897_11e9_bf00_a0a4c58b4605row2_col13\" class=\"data row2 col13\" >125</td> \n",
       "        <td id=\"T_4a1052fa_7897_11e9_bf00_a0a4c58b4605row2_col14\" class=\"data row2 col14\" >1</td> \n",
       "        <td id=\"T_4a1052fa_7897_11e9_bf00_a0a4c58b4605row2_col15\" class=\"data row2 col15\" >6</td> \n",
       "        <td id=\"T_4a1052fa_7897_11e9_bf00_a0a4c58b4605row2_col16\" class=\"data row2 col16\" >1</td> \n",
       "        <td id=\"T_4a1052fa_7897_11e9_bf00_a0a4c58b4605row2_col17\" class=\"data row2 col17\" >891</td> \n",
       "    </tr></tbody> \n",
       "</table> "
      ],
      "text/plain": [
       "<pandas.io.formats.style.Styler at 0x25d414c1b38>"
      ]
     },
     "execution_count": 20,
     "metadata": {},
     "output_type": "execute_result"
    }
   ],
   "source": [
    "pd.crosstab(data.Initials, data.Sex, margins = True).T.style.background_gradient(cmap = 'summer_r')"
   ]
  },
  {
   "cell_type": "code",
   "execution_count": 21,
   "metadata": {},
   "outputs": [],
   "source": [
    "data['Initials'].replace(['Mlle','Mme','Ms','Dr','Major','Lady','Countess','Jonkheer','Col','Rev','Capt','Sir','Don'],['Miss','Miss','Miss','Mr','Mr','Mrs','Mrs','Other','Other','Other','Mr','Mr','Mr'], inplace = True)"
   ]
  },
  {
   "cell_type": "code",
   "execution_count": 22,
   "metadata": {},
   "outputs": [
    {
     "data": {
      "text/html": [
       "<style  type=\"text/css\" >\n",
       "    #T_4fed009e_7897_11e9_aa30_a0a4c58b4605row0_col0 {\n",
       "            background-color:  #ffff66;\n",
       "        }    #T_4fed009e_7897_11e9_aa30_a0a4c58b4605row0_col1 {\n",
       "            background-color:  #008066;\n",
       "        }    #T_4fed009e_7897_11e9_aa30_a0a4c58b4605row0_col2 {\n",
       "            background-color:  #ffff66;\n",
       "        }    #T_4fed009e_7897_11e9_aa30_a0a4c58b4605row0_col3 {\n",
       "            background-color:  #008066;\n",
       "        }    #T_4fed009e_7897_11e9_aa30_a0a4c58b4605row0_col4 {\n",
       "            background-color:  #ffff66;\n",
       "        }    #T_4fed009e_7897_11e9_aa30_a0a4c58b4605row0_col5 {\n",
       "            background-color:  #ffff66;\n",
       "        }    #T_4fed009e_7897_11e9_aa30_a0a4c58b4605row1_col0 {\n",
       "            background-color:  #008066;\n",
       "        }    #T_4fed009e_7897_11e9_aa30_a0a4c58b4605row1_col1 {\n",
       "            background-color:  #ffff66;\n",
       "        }    #T_4fed009e_7897_11e9_aa30_a0a4c58b4605row1_col2 {\n",
       "            background-color:  #008066;\n",
       "        }    #T_4fed009e_7897_11e9_aa30_a0a4c58b4605row1_col3 {\n",
       "            background-color:  #ffff66;\n",
       "        }    #T_4fed009e_7897_11e9_aa30_a0a4c58b4605row1_col4 {\n",
       "            background-color:  #008066;\n",
       "        }    #T_4fed009e_7897_11e9_aa30_a0a4c58b4605row1_col5 {\n",
       "            background-color:  #8bc566;\n",
       "        }    #T_4fed009e_7897_11e9_aa30_a0a4c58b4605row2_col0 {\n",
       "            background-color:  #008066;\n",
       "        }    #T_4fed009e_7897_11e9_aa30_a0a4c58b4605row2_col1 {\n",
       "            background-color:  #008066;\n",
       "        }    #T_4fed009e_7897_11e9_aa30_a0a4c58b4605row2_col2 {\n",
       "            background-color:  #008066;\n",
       "        }    #T_4fed009e_7897_11e9_aa30_a0a4c58b4605row2_col3 {\n",
       "            background-color:  #008066;\n",
       "        }    #T_4fed009e_7897_11e9_aa30_a0a4c58b4605row2_col4 {\n",
       "            background-color:  #008066;\n",
       "        }    #T_4fed009e_7897_11e9_aa30_a0a4c58b4605row2_col5 {\n",
       "            background-color:  #008066;\n",
       "        }</style>  \n",
       "<table id=\"T_4fed009e_7897_11e9_aa30_a0a4c58b4605\" > \n",
       "<thead>    <tr> \n",
       "        <th class=\"index_name level0\" >Initials</th> \n",
       "        <th class=\"col_heading level0 col0\" >Master</th> \n",
       "        <th class=\"col_heading level0 col1\" >Miss</th> \n",
       "        <th class=\"col_heading level0 col2\" >Mr</th> \n",
       "        <th class=\"col_heading level0 col3\" >Mrs</th> \n",
       "        <th class=\"col_heading level0 col4\" >Other</th> \n",
       "        <th class=\"col_heading level0 col5\" >All</th> \n",
       "    </tr>    <tr> \n",
       "        <th class=\"index_name level0\" >Sex</th> \n",
       "        <th class=\"blank\" ></th> \n",
       "        <th class=\"blank\" ></th> \n",
       "        <th class=\"blank\" ></th> \n",
       "        <th class=\"blank\" ></th> \n",
       "        <th class=\"blank\" ></th> \n",
       "        <th class=\"blank\" ></th> \n",
       "    </tr></thead> \n",
       "<tbody>    <tr> \n",
       "        <th id=\"T_4fed009e_7897_11e9_aa30_a0a4c58b4605level0_row0\" class=\"row_heading level0 row0\" >female</th> \n",
       "        <td id=\"T_4fed009e_7897_11e9_aa30_a0a4c58b4605row0_col0\" class=\"data row0 col0\" >0</td> \n",
       "        <td id=\"T_4fed009e_7897_11e9_aa30_a0a4c58b4605row0_col1\" class=\"data row0 col1\" >186</td> \n",
       "        <td id=\"T_4fed009e_7897_11e9_aa30_a0a4c58b4605row0_col2\" class=\"data row0 col2\" >1</td> \n",
       "        <td id=\"T_4fed009e_7897_11e9_aa30_a0a4c58b4605row0_col3\" class=\"data row0 col3\" >127</td> \n",
       "        <td id=\"T_4fed009e_7897_11e9_aa30_a0a4c58b4605row0_col4\" class=\"data row0 col4\" >0</td> \n",
       "        <td id=\"T_4fed009e_7897_11e9_aa30_a0a4c58b4605row0_col5\" class=\"data row0 col5\" >314</td> \n",
       "    </tr>    <tr> \n",
       "        <th id=\"T_4fed009e_7897_11e9_aa30_a0a4c58b4605level0_row1\" class=\"row_heading level0 row1\" >male</th> \n",
       "        <td id=\"T_4fed009e_7897_11e9_aa30_a0a4c58b4605row1_col0\" class=\"data row1 col0\" >40</td> \n",
       "        <td id=\"T_4fed009e_7897_11e9_aa30_a0a4c58b4605row1_col1\" class=\"data row1 col1\" >0</td> \n",
       "        <td id=\"T_4fed009e_7897_11e9_aa30_a0a4c58b4605row1_col2\" class=\"data row1 col2\" >528</td> \n",
       "        <td id=\"T_4fed009e_7897_11e9_aa30_a0a4c58b4605row1_col3\" class=\"data row1 col3\" >0</td> \n",
       "        <td id=\"T_4fed009e_7897_11e9_aa30_a0a4c58b4605row1_col4\" class=\"data row1 col4\" >9</td> \n",
       "        <td id=\"T_4fed009e_7897_11e9_aa30_a0a4c58b4605row1_col5\" class=\"data row1 col5\" >577</td> \n",
       "    </tr>    <tr> \n",
       "        <th id=\"T_4fed009e_7897_11e9_aa30_a0a4c58b4605level0_row2\" class=\"row_heading level0 row2\" >All</th> \n",
       "        <td id=\"T_4fed009e_7897_11e9_aa30_a0a4c58b4605row2_col0\" class=\"data row2 col0\" >40</td> \n",
       "        <td id=\"T_4fed009e_7897_11e9_aa30_a0a4c58b4605row2_col1\" class=\"data row2 col1\" >186</td> \n",
       "        <td id=\"T_4fed009e_7897_11e9_aa30_a0a4c58b4605row2_col2\" class=\"data row2 col2\" >529</td> \n",
       "        <td id=\"T_4fed009e_7897_11e9_aa30_a0a4c58b4605row2_col3\" class=\"data row2 col3\" >127</td> \n",
       "        <td id=\"T_4fed009e_7897_11e9_aa30_a0a4c58b4605row2_col4\" class=\"data row2 col4\" >9</td> \n",
       "        <td id=\"T_4fed009e_7897_11e9_aa30_a0a4c58b4605row2_col5\" class=\"data row2 col5\" >891</td> \n",
       "    </tr></tbody> \n",
       "</table> "
      ],
      "text/plain": [
       "<pandas.io.formats.style.Styler at 0x25d4148e9b0>"
      ]
     },
     "execution_count": 22,
     "metadata": {},
     "output_type": "execute_result"
    }
   ],
   "source": [
    "pd.crosstab(data.Initials, data.Sex, margins = True).T.style.background_gradient(cmap = 'summer_r')"
   ]
  },
  {
   "cell_type": "markdown",
   "metadata": {},
   "source": [
    "## Filling the NAN in Ages"
   ]
  },
  {
   "cell_type": "code",
   "execution_count": 23,
   "metadata": {},
   "outputs": [
    {
     "data": {
      "text/plain": [
       "Initials\n",
       "Master     4.574167\n",
       "Miss      21.860000\n",
       "Mr        32.739609\n",
       "Mrs       35.981818\n",
       "Other     45.888889\n",
       "Name: Age, dtype: float64"
      ]
     },
     "execution_count": 23,
     "metadata": {},
     "output_type": "execute_result"
    }
   ],
   "source": [
    "data.groupby('Initials')['Age'].mean()"
   ]
  },
  {
   "cell_type": "code",
   "execution_count": 24,
   "metadata": {},
   "outputs": [],
   "source": [
    "data.loc[(data.Age.isnull()) & (data.Initials == 'Master'), 'Age'] = 5\n",
    "data.loc[(data.Age.isnull()) & (data.Initials == 'Miss'), 'Age'] = 22\n",
    "data.loc[(data.Age.isnull()) & (data.Initials == 'Mr'), 'Age'] = 33\n",
    "data.loc[(data.Age.isnull()) & (data.Initials == 'Mrs'), 'Age'] = 36\n",
    "data.loc[(data.Age.isnull()) & (data.Initials == 'Other'), 'Age'] = 46"
   ]
  },
  {
   "cell_type": "code",
   "execution_count": 25,
   "metadata": {},
   "outputs": [
    {
     "data": {
      "text/plain": [
       "False"
      ]
     },
     "execution_count": 25,
     "metadata": {},
     "output_type": "execute_result"
    }
   ],
   "source": [
    "data.Age.isnull().any()"
   ]
  },
  {
   "cell_type": "code",
   "execution_count": 26,
   "metadata": {},
   "outputs": [
    {
     "data": {
      "text/plain": [
       "Text(0.5,1,'Survived = 1')"
      ]
     },
     "execution_count": 26,
     "metadata": {},
     "output_type": "execute_result"
    },
    {
     "data": {
      "image/png": "[encoded data removed]",
      "text/plain": [
       "<Figure size 1440x720 with 2 Axes>"
      ]
     },
     "metadata": {
      "needs_background": "light"
     },
     "output_type": "display_data"
    }
   ],
   "source": [
    "f, ax = plt.subplots(1,2, figsize = (20,10))\n",
    "data[data['Survived'] == 0].Age.plot.hist(ax =ax[0], bins = 20, color = 'red', edgecolor = 'black')\n",
    "ax[0].set_title('Survived = 0')\n",
    "#ax[0].set_range(0,80,5)\n",
    "data[data['Survived'] == 1].Age.plot.hist(ax=ax[1], bins = 20, color = 'blue', edgecolor = 'black')\n",
    "ax[1].set_title('Survived = 1')"
   ]
  },
  {
   "cell_type": "code",
   "execution_count": 27,
   "metadata": {},
   "outputs": [
    {
     "data": {
      "text/plain": [
       "<seaborn.axisgrid.FacetGrid at 0x25d41abeb70>"
      ]
     },
     "execution_count": 27,
     "metadata": {},
     "output_type": "execute_result"
    },
    {
     "data": {
      "image/png": "[encoded data removed]",
      "text/plain": [
       "<Figure size 1800x360 with 5 Axes>"
      ]
     },
     "metadata": {
      "needs_background": "light"
     },
     "output_type": "display_data"
    }
   ],
   "source": [
    "sns.factorplot('Pclass','Survived',col='Initials',data=data)"
   ]
  },
  {
   "cell_type": "markdown",
   "metadata": {},
   "source": [
    "## Embarked -> Categorical variable"
   ]
  },
  {
   "cell_type": "code",
   "execution_count": 28,
   "metadata": {},
   "outputs": [
    {
     "data": {
      "text/html": [
       "<style  type=\"text/css\" >\n",
       "    #T_d450fafe_7897_11e9_baf0_a0a4c58b4605row0_col0 {\n",
       "            background-color:  #fcfe66;\n",
       "        }    #T_d450fafe_7897_11e9_baf0_a0a4c58b4605row0_col1 {\n",
       "            background-color:  #d2e866;\n",
       "        }    #T_d450fafe_7897_11e9_baf0_a0a4c58b4605row0_col2 {\n",
       "            background-color:  #f2f866;\n",
       "        }    #T_d450fafe_7897_11e9_baf0_a0a4c58b4605row0_col3 {\n",
       "            background-color:  #d8ec66;\n",
       "        }    #T_d450fafe_7897_11e9_baf0_a0a4c58b4605row0_col4 {\n",
       "            background-color:  #e8f466;\n",
       "        }    #T_d450fafe_7897_11e9_baf0_a0a4c58b4605row1_col0 {\n",
       "            background-color:  #ffff66;\n",
       "        }    #T_d450fafe_7897_11e9_baf0_a0a4c58b4605row1_col1 {\n",
       "            background-color:  #f9fc66;\n",
       "        }    #T_d450fafe_7897_11e9_baf0_a0a4c58b4605row1_col2 {\n",
       "            background-color:  #fcfe66;\n",
       "        }    #T_d450fafe_7897_11e9_baf0_a0a4c58b4605row1_col3 {\n",
       "            background-color:  #fbfd66;\n",
       "        }    #T_d450fafe_7897_11e9_baf0_a0a4c58b4605row1_col4 {\n",
       "            background-color:  #fbfd66;\n",
       "        }    #T_d450fafe_7897_11e9_baf0_a0a4c58b4605row2_col0 {\n",
       "            background-color:  #e6f266;\n",
       "        }    #T_d450fafe_7897_11e9_baf0_a0a4c58b4605row2_col1 {\n",
       "            background-color:  #f0f866;\n",
       "        }    #T_d450fafe_7897_11e9_baf0_a0a4c58b4605row2_col2 {\n",
       "            background-color:  #eef666;\n",
       "        }    #T_d450fafe_7897_11e9_baf0_a0a4c58b4605row2_col3 {\n",
       "            background-color:  #e8f466;\n",
       "        }    #T_d450fafe_7897_11e9_baf0_a0a4c58b4605row2_col4 {\n",
       "            background-color:  #edf666;\n",
       "        }    #T_d450fafe_7897_11e9_baf0_a0a4c58b4605row3_col0 {\n",
       "            background-color:  #ffff66;\n",
       "        }    #T_d450fafe_7897_11e9_baf0_a0a4c58b4605row3_col1 {\n",
       "            background-color:  #ffff66;\n",
       "        }    #T_d450fafe_7897_11e9_baf0_a0a4c58b4605row3_col2 {\n",
       "            background-color:  #ffff66;\n",
       "        }    #T_d450fafe_7897_11e9_baf0_a0a4c58b4605row3_col3 {\n",
       "            background-color:  #ffff66;\n",
       "        }    #T_d450fafe_7897_11e9_baf0_a0a4c58b4605row3_col4 {\n",
       "            background-color:  #ffff66;\n",
       "        }    #T_d450fafe_7897_11e9_baf0_a0a4c58b4605row4_col0 {\n",
       "            background-color:  #ffff66;\n",
       "        }    #T_d450fafe_7897_11e9_baf0_a0a4c58b4605row4_col1 {\n",
       "            background-color:  #fefe66;\n",
       "        }    #T_d450fafe_7897_11e9_baf0_a0a4c58b4605row4_col2 {\n",
       "            background-color:  #ffff66;\n",
       "        }    #T_d450fafe_7897_11e9_baf0_a0a4c58b4605row4_col3 {\n",
       "            background-color:  #ffff66;\n",
       "        }    #T_d450fafe_7897_11e9_baf0_a0a4c58b4605row4_col4 {\n",
       "            background-color:  #ffff66;\n",
       "        }    #T_d450fafe_7897_11e9_baf0_a0a4c58b4605row5_col0 {\n",
       "            background-color:  #e3f166;\n",
       "        }    #T_d450fafe_7897_11e9_baf0_a0a4c58b4605row5_col1 {\n",
       "            background-color:  #e6f266;\n",
       "        }    #T_d450fafe_7897_11e9_baf0_a0a4c58b4605row5_col2 {\n",
       "            background-color:  #ecf666;\n",
       "        }    #T_d450fafe_7897_11e9_baf0_a0a4c58b4605row5_col3 {\n",
       "            background-color:  #f8fc66;\n",
       "        }    #T_d450fafe_7897_11e9_baf0_a0a4c58b4605row5_col4 {\n",
       "            background-color:  #ebf566;\n",
       "        }    #T_d450fafe_7897_11e9_baf0_a0a4c58b4605row6_col0 {\n",
       "            background-color:  #f9fc66;\n",
       "        }    #T_d450fafe_7897_11e9_baf0_a0a4c58b4605row6_col1 {\n",
       "            background-color:  #cde666;\n",
       "        }    #T_d450fafe_7897_11e9_baf0_a0a4c58b4605row6_col2 {\n",
       "            background-color:  #e4f266;\n",
       "        }    #T_d450fafe_7897_11e9_baf0_a0a4c58b4605row6_col3 {\n",
       "            background-color:  #bede66;\n",
       "        }    #T_d450fafe_7897_11e9_baf0_a0a4c58b4605row6_col4 {\n",
       "            background-color:  #dbed66;\n",
       "        }    #T_d450fafe_7897_11e9_baf0_a0a4c58b4605row7_col0 {\n",
       "            background-color:  #edf666;\n",
       "        }    #T_d450fafe_7897_11e9_baf0_a0a4c58b4605row7_col1 {\n",
       "            background-color:  #bdde66;\n",
       "        }    #T_d450fafe_7897_11e9_baf0_a0a4c58b4605row7_col2 {\n",
       "            background-color:  #d3e966;\n",
       "        }    #T_d450fafe_7897_11e9_baf0_a0a4c58b4605row7_col3 {\n",
       "            background-color:  #dcee66;\n",
       "        }    #T_d450fafe_7897_11e9_baf0_a0a4c58b4605row7_col4 {\n",
       "            background-color:  #d1e866;\n",
       "        }    #T_d450fafe_7897_11e9_baf0_a0a4c58b4605row8_col0 {\n",
       "            background-color:  #52a866;\n",
       "        }    #T_d450fafe_7897_11e9_baf0_a0a4c58b4605row8_col1 {\n",
       "            background-color:  #dcee66;\n",
       "        }    #T_d450fafe_7897_11e9_baf0_a0a4c58b4605row8_col2 {\n",
       "            background-color:  #81c066;\n",
       "        }    #T_d450fafe_7897_11e9_baf0_a0a4c58b4605row8_col3 {\n",
       "            background-color:  #b0d866;\n",
       "        }    #T_d450fafe_7897_11e9_baf0_a0a4c58b4605row8_col4 {\n",
       "            background-color:  #9acc66;\n",
       "        }    #T_d450fafe_7897_11e9_baf0_a0a4c58b4605row9_col0 {\n",
       "            background-color:  #008066;\n",
       "        }    #T_d450fafe_7897_11e9_baf0_a0a4c58b4605row9_col1 {\n",
       "            background-color:  #008066;\n",
       "        }    #T_d450fafe_7897_11e9_baf0_a0a4c58b4605row9_col2 {\n",
       "            background-color:  #008066;\n",
       "        }    #T_d450fafe_7897_11e9_baf0_a0a4c58b4605row9_col3 {\n",
       "            background-color:  #008066;\n",
       "        }    #T_d450fafe_7897_11e9_baf0_a0a4c58b4605row9_col4 {\n",
       "            background-color:  #008066;\n",
       "        }</style>  \n",
       "<table id=\"T_d450fafe_7897_11e9_baf0_a0a4c58b4605\" > \n",
       "<thead>    <tr> \n",
       "        <th class=\"blank\" ></th> \n",
       "        <th class=\"index_name level0\" >Sex</th> \n",
       "        <th class=\"col_heading level0 col0\" colspan=2>female</th> \n",
       "        <th class=\"col_heading level0 col2\" colspan=2>male</th> \n",
       "        <th class=\"col_heading level0 col4\" >All</th> \n",
       "    </tr>    <tr> \n",
       "        <th class=\"blank\" ></th> \n",
       "        <th class=\"index_name level1\" >Survived</th> \n",
       "        <th class=\"col_heading level1 col0\" >0</th> \n",
       "        <th class=\"col_heading level1 col1\" >1</th> \n",
       "        <th class=\"col_heading level1 col2\" >0</th> \n",
       "        <th class=\"col_heading level1 col3\" >1</th> \n",
       "        <th class=\"col_heading level1 col4\" ></th> \n",
       "    </tr>    <tr> \n",
       "        <th class=\"index_name level0\" >Embarked</th> \n",
       "        <th class=\"index_name level1\" >Pclass</th> \n",
       "        <th class=\"blank\" ></th> \n",
       "        <th class=\"blank\" ></th> \n",
       "        <th class=\"blank\" ></th> \n",
       "        <th class=\"blank\" ></th> \n",
       "        <th class=\"blank\" ></th> \n",
       "    </tr></thead> \n",
       "<tbody>    <tr> \n",
       "        <th id=\"T_d450fafe_7897_11e9_baf0_a0a4c58b4605level0_row0\" class=\"row_heading level0 row0\" rowspan=3>C</th> \n",
       "        <th id=\"T_d450fafe_7897_11e9_baf0_a0a4c58b4605level1_row0\" class=\"row_heading level1 row0\" >1</th> \n",
       "        <td id=\"T_d450fafe_7897_11e9_baf0_a0a4c58b4605row0_col0\" class=\"data row0 col0\" >1</td> \n",
       "        <td id=\"T_d450fafe_7897_11e9_baf0_a0a4c58b4605row0_col1\" class=\"data row0 col1\" >42</td> \n",
       "        <td id=\"T_d450fafe_7897_11e9_baf0_a0a4c58b4605row0_col2\" class=\"data row0 col2\" >25</td> \n",
       "        <td id=\"T_d450fafe_7897_11e9_baf0_a0a4c58b4605row0_col3\" class=\"data row0 col3\" >17</td> \n",
       "        <td id=\"T_d450fafe_7897_11e9_baf0_a0a4c58b4605row0_col4\" class=\"data row0 col4\" >85</td> \n",
       "    </tr>    <tr> \n",
       "        <th id=\"T_d450fafe_7897_11e9_baf0_a0a4c58b4605level1_row1\" class=\"row_heading level1 row1\" >2</th> \n",
       "        <td id=\"T_d450fafe_7897_11e9_baf0_a0a4c58b4605row1_col0\" class=\"data row1 col0\" >0</td> \n",
       "        <td id=\"T_d450fafe_7897_11e9_baf0_a0a4c58b4605row1_col1\" class=\"data row1 col1\" >7</td> \n",
       "        <td id=\"T_d450fafe_7897_11e9_baf0_a0a4c58b4605row1_col2\" class=\"data row1 col2\" >8</td> \n",
       "        <td id=\"T_d450fafe_7897_11e9_baf0_a0a4c58b4605row1_col3\" class=\"data row1 col3\" >2</td> \n",
       "        <td id=\"T_d450fafe_7897_11e9_baf0_a0a4c58b4605row1_col4\" class=\"data row1 col4\" >17</td> \n",
       "    </tr>    <tr> \n",
       "        <th id=\"T_d450fafe_7897_11e9_baf0_a0a4c58b4605level1_row2\" class=\"row_heading level1 row2\" >3</th> \n",
       "        <td id=\"T_d450fafe_7897_11e9_baf0_a0a4c58b4605row2_col0\" class=\"data row2 col0\" >8</td> \n",
       "        <td id=\"T_d450fafe_7897_11e9_baf0_a0a4c58b4605row2_col1\" class=\"data row2 col1\" >15</td> \n",
       "        <td id=\"T_d450fafe_7897_11e9_baf0_a0a4c58b4605row2_col2\" class=\"data row2 col2\" >33</td> \n",
       "        <td id=\"T_d450fafe_7897_11e9_baf0_a0a4c58b4605row2_col3\" class=\"data row2 col3\" >10</td> \n",
       "        <td id=\"T_d450fafe_7897_11e9_baf0_a0a4c58b4605row2_col4\" class=\"data row2 col4\" >66</td> \n",
       "    </tr>    <tr> \n",
       "        <th id=\"T_d450fafe_7897_11e9_baf0_a0a4c58b4605level0_row3\" class=\"row_heading level0 row3\" rowspan=3>Q</th> \n",
       "        <th id=\"T_d450fafe_7897_11e9_baf0_a0a4c58b4605level1_row3\" class=\"row_heading level1 row3\" >1</th> \n",
       "        <td id=\"T_d450fafe_7897_11e9_baf0_a0a4c58b4605row3_col0\" class=\"data row3 col0\" >0</td> \n",
       "        <td id=\"T_d450fafe_7897_11e9_baf0_a0a4c58b4605row3_col1\" class=\"data row3 col1\" >1</td> \n",
       "        <td id=\"T_d450fafe_7897_11e9_baf0_a0a4c58b4605row3_col2\" class=\"data row3 col2\" >1</td> \n",
       "        <td id=\"T_d450fafe_7897_11e9_baf0_a0a4c58b4605row3_col3\" class=\"data row3 col3\" >0</td> \n",
       "        <td id=\"T_d450fafe_7897_11e9_baf0_a0a4c58b4605row3_col4\" class=\"data row3 col4\" >2</td> \n",
       "    </tr>    <tr> \n",
       "        <th id=\"T_d450fafe_7897_11e9_baf0_a0a4c58b4605level1_row4\" class=\"row_heading level1 row4\" >2</th> \n",
       "        <td id=\"T_d450fafe_7897_11e9_baf0_a0a4c58b4605row4_col0\" class=\"data row4 col0\" >0</td> \n",
       "        <td id=\"T_d450fafe_7897_11e9_baf0_a0a4c58b4605row4_col1\" class=\"data row4 col1\" >2</td> \n",
       "        <td id=\"T_d450fafe_7897_11e9_baf0_a0a4c58b4605row4_col2\" class=\"data row4 col2\" >1</td> \n",
       "        <td id=\"T_d450fafe_7897_11e9_baf0_a0a4c58b4605row4_col3\" class=\"data row4 col3\" >0</td> \n",
       "        <td id=\"T_d450fafe_7897_11e9_baf0_a0a4c58b4605row4_col4\" class=\"data row4 col4\" >3</td> \n",
       "    </tr>    <tr> \n",
       "        <th id=\"T_d450fafe_7897_11e9_baf0_a0a4c58b4605level1_row5\" class=\"row_heading level1 row5\" >3</th> \n",
       "        <td id=\"T_d450fafe_7897_11e9_baf0_a0a4c58b4605row5_col0\" class=\"data row5 col0\" >9</td> \n",
       "        <td id=\"T_d450fafe_7897_11e9_baf0_a0a4c58b4605row5_col1\" class=\"data row5 col1\" >24</td> \n",
       "        <td id=\"T_d450fafe_7897_11e9_baf0_a0a4c58b4605row5_col2\" class=\"data row5 col2\" >36</td> \n",
       "        <td id=\"T_d450fafe_7897_11e9_baf0_a0a4c58b4605row5_col3\" class=\"data row5 col3\" >3</td> \n",
       "        <td id=\"T_d450fafe_7897_11e9_baf0_a0a4c58b4605row5_col4\" class=\"data row5 col4\" >72</td> \n",
       "    </tr>    <tr> \n",
       "        <th id=\"T_d450fafe_7897_11e9_baf0_a0a4c58b4605level0_row6\" class=\"row_heading level0 row6\" rowspan=3>S</th> \n",
       "        <th id=\"T_d450fafe_7897_11e9_baf0_a0a4c58b4605level1_row6\" class=\"row_heading level1 row6\" >1</th> \n",
       "        <td id=\"T_d450fafe_7897_11e9_baf0_a0a4c58b4605row6_col0\" class=\"data row6 col0\" >2</td> \n",
       "        <td id=\"T_d450fafe_7897_11e9_baf0_a0a4c58b4605row6_col1\" class=\"data row6 col1\" >46</td> \n",
       "        <td id=\"T_d450fafe_7897_11e9_baf0_a0a4c58b4605row6_col2\" class=\"data row6 col2\" >51</td> \n",
       "        <td id=\"T_d450fafe_7897_11e9_baf0_a0a4c58b4605row6_col3\" class=\"data row6 col3\" >28</td> \n",
       "        <td id=\"T_d450fafe_7897_11e9_baf0_a0a4c58b4605row6_col4\" class=\"data row6 col4\" >127</td> \n",
       "    </tr>    <tr> \n",
       "        <th id=\"T_d450fafe_7897_11e9_baf0_a0a4c58b4605level1_row7\" class=\"row_heading level1 row7\" >2</th> \n",
       "        <td id=\"T_d450fafe_7897_11e9_baf0_a0a4c58b4605row7_col0\" class=\"data row7 col0\" >6</td> \n",
       "        <td id=\"T_d450fafe_7897_11e9_baf0_a0a4c58b4605row7_col1\" class=\"data row7 col1\" >61</td> \n",
       "        <td id=\"T_d450fafe_7897_11e9_baf0_a0a4c58b4605row7_col2\" class=\"data row7 col2\" >82</td> \n",
       "        <td id=\"T_d450fafe_7897_11e9_baf0_a0a4c58b4605row7_col3\" class=\"data row7 col3\" >15</td> \n",
       "        <td id=\"T_d450fafe_7897_11e9_baf0_a0a4c58b4605row7_col4\" class=\"data row7 col4\" >164</td> \n",
       "    </tr>    <tr> \n",
       "        <th id=\"T_d450fafe_7897_11e9_baf0_a0a4c58b4605level1_row8\" class=\"row_heading level1 row8\" >3</th> \n",
       "        <td id=\"T_d450fafe_7897_11e9_baf0_a0a4c58b4605row8_col0\" class=\"data row8 col0\" >55</td> \n",
       "        <td id=\"T_d450fafe_7897_11e9_baf0_a0a4c58b4605row8_col1\" class=\"data row8 col1\" >33</td> \n",
       "        <td id=\"T_d450fafe_7897_11e9_baf0_a0a4c58b4605row8_col2\" class=\"data row8 col2\" >231</td> \n",
       "        <td id=\"T_d450fafe_7897_11e9_baf0_a0a4c58b4605row8_col3\" class=\"data row8 col3\" >34</td> \n",
       "        <td id=\"T_d450fafe_7897_11e9_baf0_a0a4c58b4605row8_col4\" class=\"data row8 col4\" >353</td> \n",
       "    </tr>    <tr> \n",
       "        <th id=\"T_d450fafe_7897_11e9_baf0_a0a4c58b4605level0_row9\" class=\"row_heading level0 row9\" >All</th> \n",
       "        <th id=\"T_d450fafe_7897_11e9_baf0_a0a4c58b4605level1_row9\" class=\"row_heading level1 row9\" ></th> \n",
       "        <td id=\"T_d450fafe_7897_11e9_baf0_a0a4c58b4605row9_col0\" class=\"data row9 col0\" >81</td> \n",
       "        <td id=\"T_d450fafe_7897_11e9_baf0_a0a4c58b4605row9_col1\" class=\"data row9 col1\" >231</td> \n",
       "        <td id=\"T_d450fafe_7897_11e9_baf0_a0a4c58b4605row9_col2\" class=\"data row9 col2\" >468</td> \n",
       "        <td id=\"T_d450fafe_7897_11e9_baf0_a0a4c58b4605row9_col3\" class=\"data row9 col3\" >109</td> \n",
       "        <td id=\"T_d450fafe_7897_11e9_baf0_a0a4c58b4605row9_col4\" class=\"data row9 col4\" >889</td> \n",
       "    </tr></tbody> \n",
       "</table> "
      ],
      "text/plain": [
       "<pandas.io.formats.style.Styler at 0x25d41464c18>"
      ]
     },
     "execution_count": 28,
     "metadata": {},
     "output_type": "execute_result"
    }
   ],
   "source": [
    "pd.crosstab([data.Embarked, data.Pclass], [data.Sex, data.Survived], margins = True).style.background_gradient('summer_r')"
   ]
  },
  {
   "cell_type": "markdown",
   "metadata": {},
   "source": [
    "Port of embarkation seem to have impact on the survival."
   ]
  },
  {
   "cell_type": "markdown",
   "metadata": {},
   "source": [
    "## Let's delve into the chance of survival by port of embarkation"
   ]
  },
  {
   "cell_type": "code",
   "execution_count": 29,
   "metadata": {},
   "outputs": [
    {
     "data": {
      "text/plain": [
       "<seaborn.axisgrid.FacetGrid at 0x25d41926ef0>"
      ]
     },
     "execution_count": 29,
     "metadata": {},
     "output_type": "execute_result"
    },
    {
     "data": {
      "image/png": "[encoded data removed]",
      "text/plain": [
       "<Figure size 1080x360 with 3 Axes>"
      ]
     },
     "metadata": {
      "needs_background": "light"
     },
     "output_type": "display_data"
    }
   ],
   "source": [
    "sns.factorplot('Pclass', 'Survived', col = 'Embarked', data = data)"
   ]
  },
  {
   "cell_type": "markdown",
   "metadata": {},
   "source": [
    "much better viz :"
   ]
  },
  {
   "cell_type": "code",
   "execution_count": 30,
   "metadata": {},
   "outputs": [
    {
     "data": {
      "text/plain": [
       "<seaborn.axisgrid.FacetGrid at 0x25d41489c18>"
      ]
     },
     "execution_count": 30,
     "metadata": {},
     "output_type": "execute_result"
    },
    {
     "data": {
      "image/png": "[encoded data removed]",
      "text/plain": [
       "<Figure size 360x360 with 1 Axes>"
      ]
     },
     "metadata": {
      "needs_background": "light"
     },
     "output_type": "display_data"
    }
   ],
   "source": [
    "sns.factorplot('Embarked','Survived', data = data)"
   ]
  },
  {
   "cell_type": "markdown",
   "metadata": {},
   "source": [
    "The chance of survival for port C is the highest, around 0.55 while S is the lowest with 0.35. "
   ]
  },
  {
   "cell_type": "code",
   "execution_count": 31,
   "metadata": {},
   "outputs": [
    {
     "data": {
      "text/plain": [
       "<matplotlib.axes._subplots.AxesSubplot at 0x25d42ac8e48>"
      ]
     },
     "execution_count": 31,
     "metadata": {},
     "output_type": "execute_result"
    },
    {
     "data": {
      "image/png": "[encoded data removed]",
      "text/plain": [
       "<Figure size 1440x576 with 2 Axes>"
      ]
     },
     "metadata": {
      "needs_background": "light"
     },
     "output_type": "display_data"
    }
   ],
   "source": [
    "f, ax = plt.subplots(1,2, figsize = (20,8))\n",
    "data.Embarked.value_counts().plot.bar(ax = ax[0])\n",
    "ax[0].set_title(\"Number of people embarked \")\n",
    "sns.countplot('Embarked', hue = 'Sex', data=data, ax=ax[1])"
   ]
  },
  {
   "cell_type": "markdown",
   "metadata": {},
   "source": [
    " sns.countplot is much better than the plot.bar"
   ]
  },
  {
   "cell_type": "code",
   "execution_count": 32,
   "metadata": {},
   "outputs": [
    {
     "data": {
      "text/plain": [
       "<matplotlib.axes._subplots.AxesSubplot at 0x25d430516a0>"
      ]
     },
     "execution_count": 32,
     "metadata": {},
     "output_type": "execute_result"
    },
    {
     "data": {
      "image/png": "[encoded data removed]",
      "text/plain": [
       "<Figure size 1440x1080 with 4 Axes>"
      ]
     },
     "metadata": {
      "needs_background": "light"
     },
     "output_type": "display_data"
    }
   ],
   "source": [
    "colors = ['red','blue']\n",
    "f, ax = plt.subplots(2,2, figsize = (20, 15))\n",
    "sns.countplot('Embarked', data = data , ax = ax[0,0])\n",
    "ax[0,0].set_title(\"Number of people embarked \")\n",
    "sns.countplot('Embarked', hue = 'Sex', data = data, ax = ax[0,1])\n",
    "ax[0,1].set_title(\"Sex split for embarked \")\n",
    "sns.countplot('Embarked', hue = 'Survived', data = data, palette = colors, ax = ax[1,0])\n",
    "ax[1,0].set_title(\"Embarked vs Survived\")\n",
    "sns.countplot('Embarked', hue = 'Pclass', data =data , ax = ax[1,1])"
   ]
  },
  {
   "cell_type": "code",
   "execution_count": null,
   "metadata": {},
   "outputs": [],
   "source": []
  },
  {
   "cell_type": "code",
   "execution_count": null,
   "metadata": {},
   "outputs": [],
   "source": []
  },
  {
   "cell_type": "code",
   "execution_count": null,
   "metadata": {},
   "outputs": [],
   "source": []
  },
  {
   "cell_type": "code",
   "execution_count": null,
   "metadata": {},
   "outputs": [],
   "source": []
  },
  {
   "cell_type": "code",
   "execution_count": null,
   "metadata": {},
   "outputs": [],
   "source": []
  },
  {
   "cell_type": "code",
   "execution_count": null,
   "metadata": {},
   "outputs": [],
   "source": []
  }
 ],
 "metadata": {
  "kernelspec": {
   "display_name": "Python 3",
   "language": "python",
   "name": "python3"
  },
  "language_info": {
   "codemirror_mode": {
    "name": "ipython",
    "version": 3
   },
   "file_extension": ".py",
   "mimetype": "text/x-python",
   "name": "python",
   "nbconvert_exporter": "python",
   "pygments_lexer": "ipython3",
   "version": "3.6.5"
  }
 },
 "nbformat": 4,
 "nbformat_minor": 2
}
