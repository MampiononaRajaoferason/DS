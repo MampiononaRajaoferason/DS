{
 "cells": [
  {
   "cell_type": "code",
   "execution_count": 1,
   "metadata": {},
   "outputs": [],
   "source": [
    "import numpy as np\n",
    "import pandas as pd\n",
    "import os, sys"
   ]
  },
  {
   "cell_type": "code",
   "execution_count": 4,
   "metadata": {},
   "outputs": [
    {
     "ename": "FileNotFoundError",
     "evalue": "[WinError 3] The system cannot find the path specified: 'Liste avec Numéros Demandés en  JANVIER 2019'",
     "output_type": "error",
     "traceback": [
      "\u001b[1;31m---------------------------------------------------------------------------\u001b[0m",
      "\u001b[1;31mFileNotFoundError\u001b[0m                         Traceback (most recent call last)",
      "\u001b[1;32m<ipython-input-4-97a131343351>\u001b[0m in \u001b[0;36m<module>\u001b[1;34m()\u001b[0m\n\u001b[0;32m      5\u001b[0m \u001b[1;32mfor\u001b[0m \u001b[0mfile\u001b[0m \u001b[1;32min\u001b[0m \u001b[0mos\u001b[0m\u001b[1;33m.\u001b[0m\u001b[0mlistdir\u001b[0m\u001b[1;33m(\u001b[0m\u001b[1;34m'./2019/'\u001b[0m\u001b[1;33m)\u001b[0m\u001b[1;33m:\u001b[0m\u001b[1;33m\u001b[0m\u001b[0m\n\u001b[0;32m      6\u001b[0m     \u001b[1;32mif\u001b[0m \u001b[1;34m'avec'\u001b[0m \u001b[1;32min\u001b[0m \u001b[0mfile\u001b[0m\u001b[1;33m:\u001b[0m\u001b[1;33m\u001b[0m\u001b[0m\n\u001b[1;32m----> 7\u001b[1;33m         \u001b[1;32mfor\u001b[0m \u001b[0msfile\u001b[0m \u001b[1;32min\u001b[0m \u001b[0mos\u001b[0m\u001b[1;33m.\u001b[0m\u001b[0mlistdir\u001b[0m\u001b[1;33m(\u001b[0m\u001b[0mfile\u001b[0m\u001b[1;33m)\u001b[0m\u001b[1;33m:\u001b[0m\u001b[1;33m\u001b[0m\u001b[0m\n\u001b[0m\u001b[0;32m      8\u001b[0m             \u001b[1;32mif\u001b[0m \u001b[1;34m'pret'\u001b[0m \u001b[1;32min\u001b[0m \u001b[0msfile\u001b[0m\u001b[1;33m:\u001b[0m\u001b[1;33m\u001b[0m\u001b[0m\n\u001b[0;32m      9\u001b[0m                 \u001b[0mfilename\u001b[0m \u001b[1;33m=\u001b[0m \u001b[0mos\u001b[0m\u001b[1;33m.\u001b[0m\u001b[0mpath\u001b[0m\u001b[1;33m.\u001b[0m\u001b[0mjoin\u001b[0m\u001b[1;33m(\u001b[0m\u001b[0mfile\u001b[0m\u001b[1;33m,\u001b[0m\u001b[0msfile\u001b[0m\u001b[1;33m)\u001b[0m\u001b[1;33m\u001b[0m\u001b[0m\n",
      "\u001b[1;31mFileNotFoundError\u001b[0m: [WinError 3] The system cannot find the path specified: 'Liste avec Numéros Demandés en  JANVIER 2019'"
     ]
    }
   ],
   "source": [
    "credentials_path = 'pamf-dwh-775beaae50ff.json'\n",
    "project_id = 'pamf-dwh'\n",
    "\n",
    "data = pd.DataFrame()\n",
    "for file in os.listdir('./'):\n",
    "    if 'avec' in file:\n",
    "        for sfile in os.listdir(file):\n",
    "            if 'pret' in sfile:\n",
    "                filename = os.path.join(file,sfile)\n",
    "                print(filename)\n",
    "                temp = pd.read_excel(filename,skiprows=6)\n",
    "                print( set(data.columns) ^ set(temp.columns) )\n",
    "                temp['file_name'] = filename\n",
    "                data = data.append(temp)\n",
    "                print('--------------------------------------------------')\n",
    "                \n",
    "                \n",
    "data[data.Alias.isnull()]['file_name'].value_counts()\n",
    "data =data[['Alias', 'Msisdn']]\n",
    "data = data.dropna()\n",
    "data['rcontactID']= data.Alias.str.extract('(\\d+)')\n",
    "data['rcontactID']= data['rcontactID'].apply(lambda x : int(x))\n",
    "data.to_excel(\"clients.xlsx\", index= False)\n",
    "\n",
    "\n",
    "all_number = pd.read_csv(\"allnumber_20_05_19.csv\")\n",
    "all_number['rcontactID']=all_number.Alias.str.extract('(\\d+)')\n",
    "all_number['rcontactID']= all_number.rcontactID.apply(lambda x : int(x))\n",
    "all_number.to_excel(\"allnumber_20_05_19.xlsx\")\n",
    "\n",
    "\n",
    "data1 = pd.read_excel(\"allnumber_20_05_19.xlsx\")\n",
    "data2 = pd.read_excel(\"clients.xlsx\")\n",
    "data1 = data1.append(data2)\n",
    "data1['Msisdn'].fillna(data1.MSISDN, inplace = True)\n",
    "data1['Msisdn']= data1.Msisdn.apply(lambda x: '0'+str(int(x)))\n",
    "data1 = data1.drop('MSISDN', axis = 1)\n",
    "data1.drop_duplicates(inplace=True)\n",
    "\n",
    "\n",
    "#data1.to_gbq('DFS_VIEW.dfs_numero_clients',project_id=project_id,if_exists ='replace',private_key=credentials_path)\n",
    "data1.to_gbq('PAMF_TESTDATA.dfs_numero_clients',project_id=project_id,if_exists ='replace',private_key=credentials_path)\n",
    "\n"
   ]
  },
  {
   "cell_type": "code",
   "execution_count": 140,
   "metadata": {},
   "outputs": [],
   "source": []
  },
  {
   "cell_type": "code",
   "execution_count": null,
   "metadata": {},
   "outputs": [],
   "source": []
  }
 ],
 "metadata": {
  "kernelspec": {
   "display_name": "Python 3",
   "language": "python",
   "name": "python3"
  },
  "language_info": {
   "codemirror_mode": {
    "name": "ipython",
    "version": 3
   },
   "file_extension": ".py",
   "mimetype": "text/x-python",
   "name": "python",
   "nbconvert_exporter": "python",
   "pygments_lexer": "ipython3",
   "version": "3.6.5"
  }
 },
 "nbformat": 4,
 "nbformat_minor": 2
}
