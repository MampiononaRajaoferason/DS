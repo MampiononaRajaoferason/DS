{
 "cells": [
  {
   "cell_type": "code",
   "execution_count": 2,
   "metadata": {
    "scrolled": true
   },
   "outputs": [
    {
     "name": "stderr",
     "output_type": "stream",
     "text": [
      "E:\\Anaconda3\\lib\\site-packages\\pandas\\io\\gbq.py:149: FutureWarning: private_key is deprecated and will be removed in a future version.Use the credentials argument instead. See https://pandas-gbq.readthedocs.io/en/latest/howto/authentication.html for examples on using the credentials argument with service account keys.\n",
      "  credentials=credentials, verbose=verbose, private_key=private_key)\n",
      "E:\\Anaconda3\\lib\\site-packages\\pandas\\io\\gbq.py:162: FutureWarning: private_key is deprecated and will be removed in a future version.Use the credentials argument instead. See https://pandas-gbq.readthedocs.io/en/latest/howto/authentication.html for examples on using the credentials argument with service account keys.\n",
      "  credentials=credentials, verbose=verbose, private_key=private_key)\n",
      "1it [00:28, 28.19s/it]\n"
     ]
    }
   ],
   "source": [
    "import pandas as pd\n",
    "import pyodbc\n",
    "private_key = 'pamf-dwh-775beaae50ff.json'\n",
    "project_id = 'pamf-dwh'\n",
    "\n",
    "\n",
    "read_local = pd.read_excel('Recouvrement prêt délinquants du 07-12-19 au 15-12-19.xlsx',skiprows=6)\n",
    "read_local = read_local[['Alias','Msisdn']]\n",
    "#creating rcontactID\n",
    "read_local['rcontactID'] = read_local.Alias.str.extract('(\\d+)')\n",
    "read_local.dropna(inplace=True)\n",
    "read_local['rcontactID'] = read_local['rcontactID'].apply(lambda x: int(x))\n",
    "read_local['Msisdn'] = read_local['Msisdn'].apply(lambda x: '0'+str(int(x)))\n",
    "read_local.rename(columns = {\"rcontactID\": \"rContactID\"}, inplace=True)\n",
    "\n",
    "##############################################\n",
    "sql = \"\"\" SELECT * FROM `pamf-dwh.DFS_VIEW.numero_clients`  \"\"\"\n",
    "read_gbq = pd.read_gbq(sql,project_id = project_id ,private_key = private_key, dialect= 'standard')\n",
    "read_gbq.rename(columns = {\"rContactID\": \"rContactID\", \"Msisdn\":\"Msisdn\", \"Alias\":\"Alias\"}, inplace=True)\n",
    "\n",
    "\n",
    "#############################################\n",
    "to_gbq = read_gbq.append(read_local)\n",
    "to_gbq.drop_duplicates(inplace=True)\n",
    "\n",
    "to_gbq.to_gbq('DFS_VIEW.numero_clients',project_id=project_id,if_exists ='replace',private_key= private_key)"
   ]
  },
  {
   "cell_type": "code",
   "execution_count": null,
   "metadata": {},
   "outputs": [],
   "source": []
  }
 ],
 "metadata": {
  "kernelspec": {
   "display_name": "Python 3",
   "language": "python",
   "name": "python3"
  },
  "language_info": {
   "codemirror_mode": {
    "name": "ipython",
    "version": 3
   },
   "file_extension": ".py",
   "mimetype": "text/x-python",
   "name": "python",
   "nbconvert_exporter": "python",
   "pygments_lexer": "ipython3",
   "version": "3.6.5"
  }
 },
 "nbformat": 4,
 "nbformat_minor": 2
}
